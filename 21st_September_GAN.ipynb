{
  "nbformat": 4,
  "nbformat_minor": 0,
  "metadata": {
    "colab": {
      "provenance": []
    },
    "kernelspec": {
      "name": "python3",
      "display_name": "Python 3"
    },
    "language_info": {
      "name": "python"
    }
  },
  "cells": [
    {
      "cell_type": "markdown",
      "source": [
        "Check for duplicates in an array:"
      ],
      "metadata": {
        "id": "_AAKICfSqRpz"
      }
    },
    {
      "cell_type": "code",
      "execution_count": 1,
      "metadata": {
        "colab": {
          "base_uri": "https://localhost:8080/"
        },
        "id": "gj0uG8WupGap",
        "outputId": "0b21a93d-0174-417d-ad78-50c61fe8cdb3"
      },
      "outputs": [
        {
          "output_type": "stream",
          "name": "stdout",
          "text": [
            "True\n"
          ]
        }
      ],
      "source": [
        "def contains_duplicates(arr):\n",
        "    seen = set()\n",
        "    for num in arr:\n",
        "        if num in seen:\n",
        "            return True\n",
        "        seen.add(num)\n",
        "    return False\n",
        "\n",
        "arr = [1, 2, 4, 2, 5, 9]\n",
        "print(contains_duplicates(arr))  # Output: True\n"
      ]
    },
    {
      "cell_type": "markdown",
      "source": [
        "Rotate an array to the right by k steps:"
      ],
      "metadata": {
        "id": "vLsf_MvQqTm0"
      }
    },
    {
      "cell_type": "code",
      "source": [
        "def rotate_array(arr, k):\n",
        "    n = len(arr)\n",
        "    k %= n\n",
        "    arr[:] = arr[-k:] + arr[:-k]\n",
        "\n",
        "arr = [1, 2, 3, 4, 5, 6, 7]\n",
        "k = 3\n",
        "rotate_array(arr, k)\n",
        "print(arr)  # Output: [5, 6, 7, 1, 2, 3, 4]\n"
      ],
      "metadata": {
        "colab": {
          "base_uri": "https://localhost:8080/"
        },
        "id": "GguMlMxVpR5j",
        "outputId": "d193441a-f88f-4435-85f1-f492b94b8199"
      },
      "execution_count": 2,
      "outputs": [
        {
          "output_type": "stream",
          "name": "stdout",
          "text": [
            "[5, 6, 7, 1, 2, 3, 4]\n"
          ]
        }
      ]
    },
    {
      "cell_type": "markdown",
      "source": [
        "Reverse an array in-place:"
      ],
      "metadata": {
        "id": "EykSa7dpqcFs"
      }
    },
    {
      "cell_type": "code",
      "source": [
        "def reverse_array(arr):\n",
        "    start, end = 0, len(arr) - 1\n",
        "    while start < end:\n",
        "        arr[start], arr[end] = arr[end], arr[start]\n",
        "        start += 1\n",
        "        end -= 1\n",
        "\n",
        "arr = [2, 4, 5, 7, 9, 12]\n",
        "reverse_array(arr)\n",
        "print(arr)  # Output: [12, 9, 7, 5, 4, 2]\n"
      ],
      "metadata": {
        "colab": {
          "base_uri": "https://localhost:8080/"
        },
        "id": "wL9gUIU0qYPk",
        "outputId": "455f71a8-3cce-40c8-af90-87cf61985330"
      },
      "execution_count": 3,
      "outputs": [
        {
          "output_type": "stream",
          "name": "stdout",
          "text": [
            "[12, 9, 7, 5, 4, 2]\n"
          ]
        }
      ]
    },
    {
      "cell_type": "markdown",
      "source": [
        "Find the maximum element in an array:"
      ],
      "metadata": {
        "id": "ipneBkJdqhhP"
      }
    },
    {
      "cell_type": "code",
      "source": [
        "def find_max(arr):\n",
        "    return max(arr)\n",
        "\n",
        "arr = [10, 5, 20, 8, 15]\n",
        "print(find_max(arr))  # Output: 20\n"
      ],
      "metadata": {
        "colab": {
          "base_uri": "https://localhost:8080/"
        },
        "id": "T9TbFqCPqeir",
        "outputId": "33f6bdcb-0ac3-4db1-d0eb-8ed27b4a3916"
      },
      "execution_count": 4,
      "outputs": [
        {
          "output_type": "stream",
          "name": "stdout",
          "text": [
            "20\n"
          ]
        }
      ]
    },
    {
      "cell_type": "markdown",
      "source": [
        "Remove duplicate elements from a sorted array:"
      ],
      "metadata": {
        "id": "mCHOsyf4qmTG"
      }
    },
    {
      "cell_type": "code",
      "source": [
        "def remove_duplicates(arr):\n",
        "    if not arr:\n",
        "        return []\n",
        "    write_index = 1\n",
        "    for i in range(1, len(arr)):\n",
        "        if arr[i] != arr[i - 1]:\n",
        "            arr[write_index] = arr[i]\n",
        "            write_index += 1\n",
        "    return arr[:write_index]\n",
        "\n",
        "arr = [1, 1, 2, 2, 2, 3, 3, 4, 4, 4, 5, 5]\n",
        "print(remove_duplicates(arr))  # Output: [1, 2, 3, 4, 5]\n"
      ],
      "metadata": {
        "colab": {
          "base_uri": "https://localhost:8080/"
        },
        "id": "c-8aO5qiqj4n",
        "outputId": "695d2edf-6076-444c-cac0-e53ce93b189f"
      },
      "execution_count": 5,
      "outputs": [
        {
          "output_type": "stream",
          "name": "stdout",
          "text": [
            "[1, 2, 3, 4, 5]\n"
          ]
        }
      ]
    },
    {
      "cell_type": "code",
      "source": [],
      "metadata": {
        "id": "dRc_NuOHqo-p"
      },
      "execution_count": null,
      "outputs": []
    }
  ]
}