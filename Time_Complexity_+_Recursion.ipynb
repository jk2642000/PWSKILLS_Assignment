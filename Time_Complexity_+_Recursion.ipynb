{
  "nbformat": 4,
  "nbformat_minor": 0,
  "metadata": {
    "colab": {
      "provenance": []
    },
    "kernelspec": {
      "name": "python3",
      "display_name": "Python 3"
    },
    "language_info": {
      "name": "python"
    }
  },
  "cells": [
    {
      "cell_type": "code",
      "execution_count": null,
      "metadata": {
        "id": "dCcWAR_0zz1z"
      },
      "outputs": [],
      "source": []
    },
    {
      "cell_type": "markdown",
      "source": [
        "### Analysis of Time Complexity for Each Problem\n",
        "\n",
        "**Problem 1: Quicksort**\n",
        "- **Description**: Implements a quicksort algorithm using a three-way partition: elements less than, equal to, and greater than a pivot.\n",
        "- **Time Complexity**: The average time complexity is \\(O(n \\log n)\\), but due to the partitioning strategy where elements are compared against the pivot in separate list comprehensions, the worst-case scenario can be \\(O(n^2)\\), particularly when the pivot is repeatedly chosen poorly (e.g., smallest or largest element repeatedly).\n",
        "\n",
        "**Problem 2: Nested Loop Example**\n",
        "- **Description**: Sums all elements in a given matrix using nested loops.\n",
        "- **Time Complexity**: \\(O(n \\times m)\\) where \\(n\\) is the number of rows and \\(m\\) is the number of columns in the matrix. Each element of the matrix is accessed once.\n",
        "\n",
        "**Problem 3: Example Function**\n",
        "- **Description**: Sums all elements in an array.\n",
        "- **Time Complexity**: \\(O(n)\\) where \\(n\\) is the length of the array, as the function iterates through the array once.\n",
        "\n",
        "**Problem 4: Longest Increasing Subsequence**\n",
        "- **Description**: Calculates the length of the longest increasing subsequence in an array.\n",
        "- **Time Complexity**: \\(O(n^2)\\). The outer loop runs \\(n\\) times and for each iteration, the inner loop runs up to \\(i\\) times, leading to a quadratic time complexity.\n",
        "\n",
        "**Problem 5: Mysterious Function**\n",
        "- **Description**: Computes a specific sum over all pairs in the array where the second index is not less than the first.\n",
        "- **Time Complexity**: \\(O(n^2)\\). The outer loop runs \\(n\\) times and the inner loop runs progressively fewer times, from \\(n\\) to 1, but still results in a quadratic time complexity overall.\n",
        "\n"
      ],
      "metadata": {
        "id": "QoXEqhWYz1Lf"
      }
    },
    {
      "cell_type": "markdown",
      "source": [
        "###Recurssion Problem"
      ],
      "metadata": {
        "id": "Qd65SD6f0JXe"
      }
    },
    {
      "cell_type": "markdown",
      "source": [
        "### Recursion Problems\n",
        "\n",
        "\n",
        "\n",
        "\n",
        "\n"
      ],
      "metadata": {
        "id": "9VS-OhTy0eXu"
      }
    },
    {
      "cell_type": "code",
      "source": [
        "'''Problem 6: Sum of Digits\n",
        "- **Description**: Calculate the sum of digits of a given positive integer using recursion.\n",
        "```python'''\n",
        "def sum_of_digits(n):\n",
        "    if n == 0:\n",
        "        return 0\n",
        "    else:\n",
        "        return n % 10 + sum_of_digits(n // 10)\n",
        "\n",
        "sum_of_digits(123)"
      ],
      "metadata": {
        "colab": {
          "base_uri": "https://localhost:8080/"
        },
        "id": "V_tzvBlT0G6i",
        "outputId": "9eb778bf-0ffa-42bf-abaa-878a66464b8b"
      },
      "execution_count": 13,
      "outputs": [
        {
          "output_type": "execute_result",
          "data": {
            "text/plain": [
              "6"
            ]
          },
          "metadata": {},
          "execution_count": 13
        }
      ]
    },
    {
      "cell_type": "code",
      "source": [
        "'''\n",
        "**Problem 7: Fibonacci Series**\n",
        "- **Description**: Generate the first n Fibonacci numbers using recursion.\n",
        "```python'''\n",
        "def fibonacci(n):\n",
        "    if n <= 0:\n",
        "        return []\n",
        "    elif n == 1:\n",
        "        return [0]\n",
        "    elif n == 2:\n",
        "        return [0, 1]\n",
        "    else:\n",
        "        fibs = fibonacci(n - 1)\n",
        "        fibs.append(fibs[-1] + fibs[-2])\n",
        "        return fibs\n",
        "fibonacci(6)"
      ],
      "metadata": {
        "colab": {
          "base_uri": "https://localhost:8080/"
        },
        "id": "Z29CnE5u0xxw",
        "outputId": "edf5ff7b-371d-48f5-f55e-e8e1e41098f4"
      },
      "execution_count": 40,
      "outputs": [
        {
          "output_type": "execute_result",
          "data": {
            "text/plain": [
              "[0, 1, 1, 2, 3, 5]"
            ]
          },
          "metadata": {},
          "execution_count": 40
        }
      ]
    },
    {
      "cell_type": "code",
      "source": [
        "'''**Problem 8: Subset Sum**\n",
        "- **Description**: Determine if there exists a subset of given integers that sums to a target using recursion.\n",
        "```python'''\n",
        "def subset_sum(numbers, target):\n",
        "    def recurse(index, current_sum):\n",
        "        if current_sum == target:\n",
        "            return True\n",
        "        if index == len(numbers) or current_sum > target:\n",
        "            return False\n",
        "        return recurse(index + 1, current_sum + numbers[index]) or recurse(index + 1, current_sum)\n",
        "    return recurse(0, 0)\n",
        "\n",
        "\n",
        "subset_sum([3, 34, 4, 12, 5, 2], 9)\n",
        "\n",
        "#- **Time Complexity**: Potentially \\(O(2^n)\\), since each element might be included or excluded."
      ],
      "metadata": {
        "colab": {
          "base_uri": "https://localhost:8080/"
        },
        "id": "OVsGRIpEOUOP",
        "outputId": "c7b0dc52-cc6c-40c2-b27c-0e62cc23bef1"
      },
      "execution_count": 41,
      "outputs": [
        {
          "output_type": "execute_result",
          "data": {
            "text/plain": [
              "True"
            ]
          },
          "metadata": {},
          "execution_count": 41
        }
      ]
    },
    {
      "cell_type": "code",
      "source": [
        "'''**Problem 9: Word Break**\n",
        "- **Description**: Determine if a string can be segmented into words from a given dictionary using recursion.\n",
        "```python'''\n",
        "def word_break(s, wordDict):\n",
        "    def can_break(start, memo):\n",
        "        if start == len(s):\n",
        "            return True\n",
        "        if start in memo:\n",
        "            return memo[start]\n",
        "        for end in range(start + 1, len(s) + 1):\n",
        "            if s[start:end] in wordDict and can_break(end, memo):\n",
        "                memo[start] = True\n",
        "                return True\n",
        "        memo[start] = False\n",
        "        return False\n",
        "    return can_break(0, {})\n",
        "\n",
        "\n",
        "\n",
        "\n",
        "word_break( 'leetcode' , [ 'leet' , 'code' ])\n",
        "\n",
        "#- **Time Complexity**: \\(O(n^2)\\) due to memoization, which avoids repeated subproblem computations.\n"
      ],
      "metadata": {
        "colab": {
          "base_uri": "https://localhost:8080/"
        },
        "id": "_LDqcHNTOjiN",
        "outputId": "ba7efdbd-a7bd-43de-e960-ab8b3ec0b497"
      },
      "execution_count": 44,
      "outputs": [
        {
          "output_type": "execute_result",
          "data": {
            "text/plain": [
              "True"
            ]
          },
          "metadata": {},
          "execution_count": 44
        }
      ]
    },
    {
      "cell_type": "code",
      "source": [
        "'''\n",
        "**Problem 10: N-Queens**\n",
        "- **Description**: Solve the N Queens problem using recursion to place queens such that no two queens threaten each other.\n",
        "```python'''\n",
        "def solve_n_queens(n):\n",
        "    def is_valid(board, row, col):\n",
        "        for i in range(row):\n",
        "            if board[i] == col or abs(board[i] - col) == row - i:\n",
        "                return False\n",
        "        return True\n",
        "\n",
        "    def solve(row, board):\n",
        "        if row == n:\n",
        "            solutions.append(['.'*i + 'Q' + '.'*(n-i-1) for i in board])\n",
        "            return\n",
        "        for col in range(n):\n",
        "            if is_valid(board, row, col):\n",
        "                board[row] = col\n",
        "                solve(row + 1, board)\n",
        "                board[row] = -1\n",
        "\n",
        "    solutions = []\n",
        "    solve(0, [-1] * n)\n",
        "    return solutions\n",
        "\n",
        "\n",
        "solve_n_queens(4)\n",
        "\n",
        "\n",
        "# **Time Complexity**: \\(O(n!)\\), but pruning invalid options improves performance significantly,\n",
        "#yet the worst case is based on exploring each position for the queens in a backtracking manner."
      ],
      "metadata": {
        "colab": {
          "base_uri": "https://localhost:8080/"
        },
        "id": "NevP4xXrQRGf",
        "outputId": "dc18a692-3c1b-4a3d-df08-40a5bf0fd061"
      },
      "execution_count": 45,
      "outputs": [
        {
          "output_type": "execute_result",
          "data": {
            "text/plain": [
              "[['.Q..', '...Q', 'Q...', '..Q.'], ['..Q.', 'Q...', '...Q', '.Q..']]"
            ]
          },
          "metadata": {},
          "execution_count": 45
        }
      ]
    },
    {
      "cell_type": "code",
      "source": [],
      "metadata": {
        "id": "_Olm2mssRe2U"
      },
      "execution_count": null,
      "outputs": []
    }
  ]
}