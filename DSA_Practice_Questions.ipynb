{
  "nbformat": 4,
  "nbformat_minor": 0,
  "metadata": {
    "colab": {
      "provenance": []
    },
    "kernelspec": {
      "name": "python3",
      "display_name": "Python 3"
    },
    "language_info": {
      "name": "python"
    }
  },
  "cells": [
    {
      "cell_type": "markdown",
      "source": [
        "Define a doubly linked list:"
      ],
      "metadata": {
        "id": "FvG18xKXwfGp"
      }
    },
    {
      "cell_type": "code",
      "execution_count": 13,
      "metadata": {
        "id": "WP6d8OACwUHY"
      },
      "outputs": [],
      "source": [
        "# A doubly linked list (DLL) is a special type of linked list in which each node contains\n",
        "# a pointer to the previous node as well as the next node of the linked list.\n",
        "\n",
        "class Node:\n",
        "    def __init__(self, data):\n",
        "        self.data = data\n",
        "        self.prev = None\n",
        "        self.next = None\n",
        "\n",
        "class DoublyLinkedList:\n",
        "    def __init__(self):\n",
        "        self.head = None\n",
        "        self.tail = None\n",
        "\n",
        "    # Add other methods like append, prepend, insert_after, insert_before, etc.\n",
        "\n",
        "# Create a doubly linked list: 1 <-> 2 <-> 3 <-> 4\n",
        "dll = DoublyLinkedList()\n",
        "dll.head = Node(1)\n",
        "dll.tail = Node(4)\n",
        "dll.head.next = Node(2)\n",
        "dll.head.next.prev = dll.head\n",
        "dll.head.next.next = Node(3)\n",
        "dll.head.next.next.prev = dll.head.next\n",
        "dll.head.next.next.next = dll.tail\n",
        "dll.tail.prev = dll.head.next.next\n",
        "\n"
      ]
    },
    {
      "cell_type": "markdown",
      "source": [],
      "metadata": {
        "id": "h34z17jUwZU9"
      }
    },
    {
      "cell_type": "code",
      "source": [
        "# Write a function to reverse a linked list in-place:\n",
        "\n",
        "def reverse_linked_list(head):\n",
        "    prev_node = None\n",
        "    current_node = head\n",
        "    while current_node:\n",
        "        next_node = current_node.next\n",
        "        current_node.next = prev_node\n",
        "        current_node.prev = next_node\n",
        "        prev_node = current_node\n",
        "        current_node = next_node\n",
        "    return prev_node\n",
        "\n",
        "# Reverse the doubly linked list\n",
        "reversed_dll = reverse_linked_list(dll.head)\n"
      ],
      "metadata": {
        "id": "6t4vKYgyw6-D"
      },
      "execution_count": 15,
      "outputs": []
    },
    {
      "cell_type": "code",
      "source": [
        "# Detect cycle in a linked list:\n",
        "# This can be done using Floyd's Tortoise and Hare algorithm. Here's a brief outline:\n",
        "\n",
        "def has_cycle(head):\n",
        "    if not head:\n",
        "        return False\n",
        "    slow = head\n",
        "    fast = head.next\n",
        "    while fast and fast.next:\n",
        "        if slow == fast:\n",
        "            return True\n",
        "        slow = slow.next\n",
        "        fast = fast.next.next\n",
        "    return False\n",
        "\n",
        "# Create a cyclic linked list: 1 -> 2 -> 3 -> 4 -> 2\n",
        "dll.head.next.next.next.next = dll.head.next\n",
        "has_cycle = has_cycle(dll.head)  # Expected output: True\n",
        "print(has_cycle)"
      ],
      "metadata": {
        "colab": {
          "base_uri": "https://localhost:8080/"
        },
        "id": "DPGHnSodw-gM",
        "outputId": "979890bc-9957-4e69-ca31-c9df26a94de0"
      },
      "execution_count": 18,
      "outputs": [
        {
          "output_type": "stream",
          "name": "stdout",
          "text": [
            "True\n"
          ]
        }
      ]
    },
    {
      "cell_type": "code",
      "source": [
        "def merge_sorted_lists(l1, l2):\n",
        "    dummy = Node(0)\n",
        "    current = dummy\n",
        "    while l1 and l2:\n",
        "        if l1.data < l2.data:\n",
        "            current.next = l1\n",
        "            l1 = l1.next\n",
        "        else:\n",
        "            current.next = l2\n",
        "            l2 = l2.next\n",
        "        current = current.next\n",
        "    current.next = l1 or l2\n",
        "    return dummy.next\n",
        "\n",
        "# Example usage\n",
        "# Create two sorted linked lists\n",
        "# Example usage\n",
        "# Create two sorted linked lists\n",
        "l1 = Node(1)\n",
        "l1.next = Node(3)\n",
        "l1.next.next = Node(5)\n",
        "\n",
        "l2 = Node(2)\n",
        "l2.next = Node(4)\n",
        "l2.next.next = Node(6)\n",
        "\n",
        "merged_list = merge_sorted_lists(l1, l2)  # Expected output: 1 -> 2 -> 3 -> 4 -> 5 -> 6\n",
        "\n",
        "# Print the merged linked list\n",
        "current = merged_list\n",
        "while current:\n",
        "    print(current.data, end=\" -> \")\n",
        "    current = current.next\n",
        "print(\"None\")\n"
      ],
      "metadata": {
        "colab": {
          "base_uri": "https://localhost:8080/"
        },
        "id": "zMcL2SvmxSSP",
        "outputId": "41b52375-fb07-4ae8-a419-233c99a64d25"
      },
      "execution_count": 27,
      "outputs": [
        {
          "output_type": "stream",
          "name": "stdout",
          "text": [
            "1 -> 2 -> 3 -> 4 -> 5 -> 6 -> None\n"
          ]
        }
      ]
    },
    {
      "cell_type": "code",
      "source": [
        "# Q5\n",
        "class Node:\n",
        "    def __init__(self, data):\n",
        "        self.data = data\n",
        "        self.next = None\n",
        "\n",
        "def remove_nth_from_end(head, n):\n",
        "    dummy = Node(0)\n",
        "    dummy.next = head\n",
        "    fast = slow = dummy\n",
        "    for _ in range(n + 1):\n",
        "        fast = fast.next\n",
        "    while fast:\n",
        "        slow = slow.next\n",
        "        fast = fast.next\n",
        "    slow.next = slow.next.next\n",
        "    return dummy.next\n",
        "\n",
        "# Example usage\n",
        "# Create a linked list: 1 -> 2 -> 3 -> 4 -> 5\n",
        "head = Node(1)\n",
        "head.next = Node(2)\n",
        "head.next.next = Node(3)\n",
        "head.next.next.next = Node(4)\n",
        "head.next.next.next.next = Node(5)\n",
        "\n",
        "n = 2  # Remove the 2nd node from the end\n",
        "head_after_removal = remove_nth_from_end(head, n)\n",
        "\n",
        "# Print the linked list after removing the nth node from the end\n",
        "current = head_after_removal\n",
        "while current:\n",
        "    print(current.data, end=\" -> \")\n",
        "    current = current.next\n",
        "print(\"None\")\n"
      ],
      "metadata": {
        "colab": {
          "base_uri": "https://localhost:8080/"
        },
        "id": "dDqezuBrxYmw",
        "outputId": "81bb9489-0e61-42ed-cdfe-4847c57f0b4a"
      },
      "execution_count": 28,
      "outputs": [
        {
          "output_type": "stream",
          "name": "stdout",
          "text": [
            "1 -> 2 -> 3 -> 5 -> None\n"
          ]
        }
      ]
    },
    {
      "cell_type": "code",
      "source": [
        "# Remove duplicates from a sorted linked list:\n",
        "class Node:\n",
        "    def __init__(self, data):\n",
        "        self.data = data\n",
        "        self.next = None\n",
        "\n",
        "def remove_duplicates(head):\n",
        "    current = head\n",
        "    while current and current.next:\n",
        "        if current.data == current.next.data:\n",
        "            current.next = current.next.next\n",
        "        else:\n",
        "            current = current.next\n",
        "    return head\n",
        "\n",
        "# Example usage\n",
        "# Create a sorted linked list with duplicates: 1 -> 2 -> 3 -> 3 -> 4 -> 4 -> 4 -> 5\n",
        "head = Node(1)\n",
        "head.next = Node(2)\n",
        "head.next.next = Node(3)\n",
        "head.next.next.next = Node(3)\n",
        "head.next.next.next.next = Node(4)\n",
        "head.next.next.next.next.next = Node(4)\n",
        "head.next.next.next.next.next.next = Node(4)\n",
        "head.next.next.next.next.next.next.next = Node(5)\n",
        "\n",
        "head_after_removal = remove_duplicates(head)\n",
        "\n",
        "# Print the linked list after removing duplicates\n",
        "current = head_after_removal\n",
        "while current:\n",
        "    print(current.data, end=\" -> \")\n",
        "    current = current.next\n",
        "print(\"None\")\n"
      ],
      "metadata": {
        "colab": {
          "base_uri": "https://localhost:8080/"
        },
        "id": "i1WB9Pm-x7GE",
        "outputId": "9788dc1c-3beb-4bbf-fd3d-954553e7d7c4"
      },
      "execution_count": 29,
      "outputs": [
        {
          "output_type": "stream",
          "name": "stdout",
          "text": [
            "1 -> 2 -> 3 -> 4 -> 5 -> None\n"
          ]
        }
      ]
    },
    {
      "cell_type": "code",
      "source": [
        "# Q7\n",
        "class Node:\n",
        "    def __init__(self, data):\n",
        "        self.data = data\n",
        "        self.next = None\n",
        "\n",
        "def get_intersection(head1, head2):\n",
        "    if not head1 or not head2:\n",
        "        return None\n",
        "\n",
        "    # Get lengths of both lists\n",
        "    len1, len2 = 0, 0\n",
        "    current1, current2 = head1, head2\n",
        "    while current1:\n",
        "        len1 += 1\n",
        "        current1 = current1.next\n",
        "    while current2:\n",
        "        len2 += 1\n",
        "        current2 = current2.next\n",
        "\n",
        "    # Reset pointers to heads of lists\n",
        "    current1, current2 = head1, head2\n",
        "\n",
        "    # Advance the pointer of the longer list by the difference in length\n",
        "    diff = abs(len1 - len2)\n",
        "    if len1 > len2:\n",
        "        for _ in range(diff):\n",
        "            current1 = current1.next\n",
        "    elif len2 > len1:\n",
        "        for _ in range(diff):\n",
        "            current2 = current2.next\n",
        "\n",
        "    # Traverse both lists until you find the intersection\n",
        "    while current1 and current2:\n",
        "        if current1 == current2:\n",
        "            return current1\n",
        "        current1 = current1.next\n",
        "        current2 = current2.next\n",
        "\n",
        "    # If no intersection found\n",
        "    return None\n",
        "\n",
        "# Example usage\n",
        "# Create the first linked list: 1 -> 3 -> 5 -> 6\n",
        "head1 = Node(1)\n",
        "head1.next = Node(3)\n",
        "head1.next.next = Node(5)\n",
        "intersection_node = head1.next.next.next = Node(6)\n",
        "\n",
        "# Create the second linked list: 2 -> 4 -> 6 -> 8\n",
        "head2 = Node(2)\n",
        "head2.next = Node(4)\n",
        "head2.next.next = intersection_node\n",
        "\n",
        "intersection = get_intersection(head1, head2)\n",
        "\n",
        "if intersection:\n",
        "    print(\"Intersection found at node with data:\", intersection.data)\n",
        "else:\n",
        "    print(\"No intersection found.\")\n"
      ],
      "metadata": {
        "colab": {
          "base_uri": "https://localhost:8080/"
        },
        "id": "p2qsfF-VyA6k",
        "outputId": "3c9209ba-afb9-4b6f-965a-86f7fcff3f37"
      },
      "execution_count": 30,
      "outputs": [
        {
          "output_type": "stream",
          "name": "stdout",
          "text": [
            "Intersection found at node with data: 6\n"
          ]
        }
      ]
    },
    {
      "cell_type": "markdown",
      "source": [
        "Rotate a linked list by k positions to the right:\n",
        "To rotate a linked list to the right by k positions, you can find the length of the linked list and calculate the effective rotation by taking the modulo of k with the length. Then, you can iterate to the (length - effective rotation)th node, set its next pointer to None, and update the head of the linked list to the next node."
      ],
      "metadata": {
        "id": "qQjDi94k01FT"
      }
    },
    {
      "cell_type": "code",
      "source": [
        "# Q8\n",
        "class Node:\n",
        "    def __init__(self, data):\n",
        "        self.data = data\n",
        "        self.next = None\n",
        "\n",
        "def rotate_linked_list(head, k):\n",
        "    if not head:\n",
        "        return None\n",
        "\n",
        "    # Find the length of the linked list\n",
        "    length = 1\n",
        "    current = head\n",
        "    while current.next:\n",
        "        length += 1\n",
        "        current = current.next\n",
        "\n",
        "    # Calculate the effective rotation\n",
        "    k %= length\n",
        "    if k == 0:\n",
        "        return head\n",
        "\n",
        "    # Find the (length - k)th node\n",
        "    current.next = head  # Make it a circular linked list\n",
        "    for _ in range(length - k):\n",
        "        current = current.next\n",
        "\n",
        "    # Update the head and break the circle\n",
        "    new_head = current.next\n",
        "    current.next = None\n",
        "\n",
        "    return new_head\n",
        "\n",
        "# Example usage\n",
        "# Create the linked list: 1 -> 2 -> 3 -> 4 -> 8 -> 6 -> 9\n",
        "head = Node(1)\n",
        "head.next = Node(2)\n",
        "head.next.next = Node(3)\n",
        "head.next.next.next = Node(4)\n",
        "head.next.next.next.next = Node(8)\n",
        "head.next.next.next.next.next = Node(6)\n",
        "head.next.next.next.next.next.next = Node(9)\n",
        "\n",
        "k = 2  # Rotate the linked list by 2 positions to the right\n",
        "rotated_head = rotate_linked_list(head, k)\n",
        "\n",
        "# Print the rotated linked list\n",
        "current = rotated_head\n",
        "while current:\n",
        "    print(current.data, end=\" -> \")\n",
        "    current = current.next\n",
        "print(\"None\")\n"
      ],
      "metadata": {
        "colab": {
          "base_uri": "https://localhost:8080/"
        },
        "id": "ClSvSxsS0cgk",
        "outputId": "4df1816c-f0a2-46e2-dab8-38dd6bd93529"
      },
      "execution_count": 31,
      "outputs": [
        {
          "output_type": "stream",
          "name": "stdout",
          "text": [
            "6 -> 9 -> 1 -> 2 -> 3 -> 4 -> 8 -> None\n"
          ]
        }
      ]
    },
    {
      "cell_type": "markdown",
      "source": [
        "Add Two Numbers Represented by LinkedLists:\n",
        "To add two numbers represented by linked lists, you can traverse both linked lists simultaneously, adding the corresponding digits along with the carry from the previous addition. You keep track of the sum and the carry, create a new node with the sum digit, and move to the next nodes until both linked lists are traversed."
      ],
      "metadata": {
        "id": "Omz1DmjE05Bf"
      }
    },
    {
      "cell_type": "code",
      "source": [
        "# Q9\n",
        "class Node:\n",
        "    def __init__(self, data):\n",
        "        self.data = data\n",
        "        self.next = None\n",
        "\n",
        "def add_two_numbers(l1, l2):\n",
        "    dummy = Node(0)\n",
        "    current = dummy\n",
        "    carry = 0\n",
        "\n",
        "    while l1 or l2 or carry:\n",
        "        sum_val = carry\n",
        "        if l1:\n",
        "            sum_val += l1.data\n",
        "            l1 = l1.next\n",
        "        if l2:\n",
        "            sum_val += l2.data\n",
        "            l2 = l2.next\n",
        "\n",
        "        carry, remainder = divmod(sum_val, 10)\n",
        "        current.next = Node(remainder)\n",
        "        current = current.next\n",
        "\n",
        "    return dummy.next\n",
        "\n",
        "# Example usage\n",
        "# Create the first linked list: 2 -> 4 -> 3 (represents the number 342)\n",
        "l1 = Node(2)\n",
        "l1.next = Node(4)\n",
        "l1.next.next = Node(3)\n",
        "\n",
        "# Create the second linked list: 5 -> 6 -> 4 (represents the number 465)\n",
        "l2 = Node(5)\n",
        "l2.next = Node(6)\n",
        "l2.next.next = Node(4)\n",
        "\n",
        "# Add the two numbers represented by the linked lists\n",
        "result = add_two_numbers(l1, l2)\n",
        "\n",
        "# Print the result linked list\n",
        "current = result\n",
        "while current:\n",
        "    print(current.data, end=\" -> \")\n",
        "    current = current.next\n",
        "print(\"None\")\n"
      ],
      "metadata": {
        "colab": {
          "base_uri": "https://localhost:8080/"
        },
        "id": "SNTVWGK-0xD8",
        "outputId": "615e8722-fef3-4f90-c988-4d0bfe630bf1"
      },
      "execution_count": 32,
      "outputs": [
        {
          "output_type": "stream",
          "name": "stdout",
          "text": [
            "7 -> 0 -> 8 -> None\n"
          ]
        }
      ]
    },
    {
      "cell_type": "markdown",
      "source": [
        "Clone a Linked List with next and random pointer:\n",
        "To clone a linked list with a next and random pointer, you can iterate through the original linked list, creating a new node for each node in the original list and maintaining a mapping between original nodes and their corresponding new nodes. Then, you iterate through the original list again, setting the random pointer of each new node based on the mapping."
      ],
      "metadata": {
        "id": "9CZK3kFX1OgL"
      }
    },
    {
      "cell_type": "code",
      "source": [
        "# Q10\n",
        "class Node:\n",
        "    def __init__(self, data):\n",
        "        self.data = data\n",
        "        self.next = None\n",
        "        self.random = None  # Pointer to any node in the list\n",
        "\n",
        "def clone_linked_list_with_random_pointer(head):\n",
        "    if not head:\n",
        "        return None\n",
        "\n",
        "    # Step 1: Create a copy of each node and insert it between the original nodes\n",
        "    current = head\n",
        "    while current:\n",
        "        new_node = Node(current.data)\n",
        "        new_node.next = current.next\n",
        "        current.next = new_node\n",
        "        current = new_node.next\n",
        "\n",
        "    # Step 2: Assign random pointers for the copied nodes\n",
        "    current = head\n",
        "    while current:\n",
        "        if current.random:\n",
        "            current.next.random = current.random.next\n",
        "        current = current.next.next\n",
        "\n",
        "    # Step 3: Separate the original and copied nodes\n",
        "    current = head\n",
        "    cloned_head = head.next\n",
        "    while current.next:\n",
        "        temp = current.next\n",
        "        current.next = temp.next\n",
        "        current = temp\n",
        "\n",
        "    return cloned_head\n",
        "\n",
        "# Example\n",
        "\n"
      ],
      "metadata": {
        "id": "a-KNpfOU1Dx7"
      },
      "execution_count": 33,
      "outputs": []
    },
    {
      "cell_type": "code",
      "source": [],
      "metadata": {
        "id": "8QH9DERE1I5k"
      },
      "execution_count": null,
      "outputs": []
    }
  ]
}