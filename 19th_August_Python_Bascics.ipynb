{
  "nbformat": 4,
  "nbformat_minor": 0,
  "metadata": {
    "colab": {
      "provenance": []
    },
    "kernelspec": {
      "name": "python3",
      "display_name": "Python 3"
    },
    "language_info": {
      "name": "python"
    }
  },
  "cells": [
    {
      "cell_type": "markdown",
      "source": [
        "# ***TOPIC :-Python Basics Variable***"
      ],
      "metadata": {
        "id": "dLMei1iMMgZs"
      }
    },
    {
      "cell_type": "markdown",
      "source": [
        "1. Declare two variables, `x` and `y`, and assign them integer values.\n",
        "Swap the values of these variables without using any temporary\n",
        "variable."
      ],
      "metadata": {
        "id": "bwDHPdAa16Hs"
      }
    },
    {
      "cell_type": "code",
      "source": [
        "#value of X is defined as 10 and Y is defined as 20\n",
        "x=10\n",
        "y=20\n",
        "#Here value of X and Y is swap by using addition and subtraction without using any 3rd varaible\n",
        "x=x+y\n",
        "y=x-y\n",
        "x=x-y\n",
        "print(\"Value of X\",x)\n",
        "print(\"Value of Y\",y)\n",
        "#here on prinitng output we can see that value x and y is swaped  after swaping value of x is 20 and Y is 10"
      ],
      "metadata": {
        "colab": {
          "base_uri": "https://localhost:8080/"
        },
        "id": "IeRA4ZqV17e5",
        "outputId": "ed280053-9727-48e8-c879-25646e0cd4d0"
      },
      "execution_count": null,
      "outputs": [
        {
          "output_type": "stream",
          "name": "stdout",
          "text": [
            "Value of X 20\n",
            "Value of Y 10\n"
          ]
        }
      ]
    },
    {
      "cell_type": "markdown",
      "source": [
        "2. Create a program that calculates the area of a rectangle. Take the\n",
        "length and width as inputs from the user and store them in variables.\n",
        "Calculate and display the area."
      ],
      "metadata": {
        "id": "hRmMsqEO_Jcu"
      }
    },
    {
      "cell_type": "code",
      "source": [
        "#take width and length from user and store it in varaibles\n",
        "width=int(input(\"Enter width\"))\n",
        "length=int(input(\"Enter lenghth \"))\n",
        "#formula of area of rectangle is width*length\n",
        "area=width*length\n",
        "print(\"Area of Rectangle \",area)"
      ],
      "metadata": {
        "id": "WsWCBTOP3LwK",
        "colab": {
          "base_uri": "https://localhost:8080/"
        },
        "outputId": "6286a476-0263-4566-94ee-7e8026918a49"
      },
      "execution_count": null,
      "outputs": [
        {
          "output_type": "stream",
          "name": "stdout",
          "text": [
            "Enter width20\n",
            "Enter lenghth 5\n",
            "Area of Rectangle  100\n"
          ]
        }
      ]
    },
    {
      "cell_type": "markdown",
      "source": [
        "3. Write a Python program that converts temperature from Celsius to\n",
        "Fahrenheit. Take the temperature in Celsius as input, store it in a\n",
        "variable, convert it to Fahrenheit, and display the result."
      ],
      "metadata": {
        "id": "pF4VAK6KKTZk"
      }
    },
    {
      "cell_type": "code",
      "source": [
        "# Temperature in celsius degree\n",
        "celsius = float(input(\"Enter degree in celsius :\"))\n",
        "\n",
        "# formula to convert celsius to fahrenheit is f=(c*(9/5)) +32\n",
        "fahrenheit = (celsius * (9/5)) + 32\n",
        "\n",
        "# printing the result\n",
        "print('%.2f Celsius is equal to: %.2f Fahrenheit'% (celsius, fahrenheit))\n"
      ],
      "metadata": {
        "id": "KtpomodEOamo",
        "colab": {
          "base_uri": "https://localhost:8080/"
        },
        "outputId": "14829319-2960-4cd4-edef-1a5a0f609fe3"
      },
      "execution_count": null,
      "outputs": [
        {
          "output_type": "stream",
          "name": "stdout",
          "text": [
            "Enter degree in celsius :20.5\n",
            "20.50 Celsius is equivalent to: 68.90 Fahrenheit\n"
          ]
        }
      ]
    },
    {
      "cell_type": "markdown",
      "source": [
        "# ***TOPIC  String Based Questions***"
      ],
      "metadata": {
        "id": "5tsx3qu7MtsU"
      }
    },
    {
      "cell_type": "markdown",
      "source": [
        "1. Write a Python program that takes a string as input and prints the\n",
        "length of the string."
      ],
      "metadata": {
        "id": "EdAdMzmtcDA6"
      }
    },
    {
      "cell_type": "code",
      "source": [
        "str = (input(\"Enter String to check length \"))\n",
        "print(len(str))\n",
        "#we have used len() which is inbuilt. it gives length of given string including space count"
      ],
      "metadata": {
        "colab": {
          "base_uri": "https://localhost:8080/"
        },
        "id": "I2PTnAk888mz",
        "outputId": "6a52d989-80a6-4680-ea3f-409eeade07d6"
      },
      "execution_count": null,
      "outputs": [
        {
          "output_type": "stream",
          "name": "stdout",
          "text": [
            "Enter String to check length hi hello\n",
            "8\n"
          ]
        }
      ]
    },
    {
      "cell_type": "markdown",
      "source": [
        "2. Create a program that takes a sentence from the user and counts the\n",
        "number of vowels (a, e, i, o, u) in the string."
      ],
      "metadata": {
        "id": "rd5Zvjc7cKXK"
      }
    },
    {
      "cell_type": "code",
      "source": [
        "string=input(\"Enter string:\")\n",
        "vowels=0\n",
        "for i in string:\n",
        "      if(i=='a' or i=='e' or i=='i' or i=='o' or i=='u' or i=='A' or i=='E' or i=='I' or i=='O' or i=='U'):\n",
        "            vowels=vowels+1\n",
        "print(\"Number of vowels are:\")\n",
        "print(vowels)\n",
        "#we have checked all vowels in if condition and if the condition is true count will be increased by 1"
      ],
      "metadata": {
        "colab": {
          "base_uri": "https://localhost:8080/"
        },
        "id": "ZQuX1IbKcMFi",
        "outputId": "e73675d9-dd4d-4221-918a-5617bc1555c7"
      },
      "execution_count": null,
      "outputs": [
        {
          "output_type": "stream",
          "name": "stdout",
          "text": [
            "Enter string:Jay Khokhara\n",
            "Number of vowels are:\n",
            "4\n"
          ]
        }
      ]
    },
    {
      "cell_type": "markdown",
      "source": [
        "3. Given a string, reverse the order of characters using string slicing and\n",
        "print the reversed string"
      ],
      "metadata": {
        "id": "GLJlNgrrgNuN"
      }
    },
    {
      "cell_type": "code",
      "source": [
        "def reverse_string(str):\n",
        "    str1 = \"\"   # empty string to store the reversed string\n",
        "    for i in str:\n",
        "        str1 = i + str1\n",
        "    return str1\n",
        "\n",
        "str = input(\"Enter String to reverse :\")\n",
        "print(\"The original string is: \",str)\n",
        "print(\"The reverse string is\",reverse_string(str)) # Function call"
      ],
      "metadata": {
        "colab": {
          "base_uri": "https://localhost:8080/"
        },
        "id": "HcszNuRSgR4p",
        "outputId": "121d9732-692e-46db-b017-20ce84eebe76"
      },
      "execution_count": null,
      "outputs": [
        {
          "output_type": "stream",
          "name": "stdout",
          "text": [
            "Enter String to reverse :jay\n",
            "The original string is:  jay\n",
            "The reverse string is yaj\n"
          ]
        }
      ]
    },
    {
      "cell_type": "markdown",
      "source": [
        "4. Write a program that takes a string as input and checks if it is a\n",
        "palindrome (reads the same forwards and backwards)."
      ],
      "metadata": {
        "id": "1LGUSNbBowol"
      }
    },
    {
      "cell_type": "code",
      "source": [
        "def palindrome(s):\n",
        "    #removing space and converting into lower case\n",
        "    s = s.replace(\" \", \"\").lower()\n",
        "\n",
        "    # Compare string with its reverse\n",
        "    return s == s[::-1]\n",
        "\n",
        "string  = input(\"Enter a string: \")\n",
        "\n",
        "if palindrome(string):\n",
        "    print(\"It's a palindrome!\")\n",
        "else:\n",
        "    print(\"It's not a palindrome.\")\n"
      ],
      "metadata": {
        "id": "CNBmc5PSifdT",
        "colab": {
          "base_uri": "https://localhost:8080/"
        },
        "outputId": "8b469b02-d4c9-497e-94f9-6ff9720e255e"
      },
      "execution_count": 4,
      "outputs": [
        {
          "output_type": "stream",
          "name": "stdout",
          "text": [
            "Enter a string: sas\n",
            "It's a palindrome!\n"
          ]
        }
      ]
    },
    {
      "cell_type": "markdown",
      "source": [
        "5. Create a program that takes a string as input and removes all the\n",
        "spaces from it. Print the modified string without spaces.\n"
      ],
      "metadata": {
        "id": "r05RB6eLoErE"
      }
    },
    {
      "cell_type": "markdown",
      "source": [],
      "metadata": {
        "id": "QZUc05ZfoAQF"
      }
    },
    {
      "cell_type": "code",
      "source": [
        "string = input(\"Enter a string: \")\n",
        "\n",
        "# using replace function can remove space\n",
        "new_string = string.replace(\" \", \"\")\n",
        "\n",
        "# string without spaces\n",
        "print(\"Modified string:\", new_string)\n"
      ],
      "metadata": {
        "colab": {
          "base_uri": "https://localhost:8080/"
        },
        "id": "qZPRJ7v1mZDK",
        "outputId": "2fcd0b6b-7157-471f-b1aa-07751fe396ae"
      },
      "execution_count": 5,
      "outputs": [
        {
          "output_type": "stream",
          "name": "stdout",
          "text": [
            "Enter a string: JAY KHO  KHA RA\n",
            "Modified string: JAYKHOKHARA\n"
          ]
        }
      ]
    }
  ]
}