{
 "cells": [
  {
   "cell_type": "markdown",
   "id": "4edeec4d",
   "metadata": {},
   "source": [
    "1) Generate a list of 100 integers containing values between 90 to 130 and store it in the variable `int_list`. After generating the list, find the following"
   ]
  },
  {
   "cell_type": "code",
   "execution_count": 1,
   "id": "c0b98052",
   "metadata": {},
   "outputs": [],
   "source": [
    "\n",
    "import random\n",
    "import math\n",
    "from collections import Counter\n",
    "from scipy.stats import trim_mean  # For trimmed mean\n"
   ]
  },
  {
   "cell_type": "code",
   "execution_count": 2,
   "id": "62848743",
   "metadata": {},
   "outputs": [
    {
     "name": "stdout",
     "output_type": "stream",
     "text": [
      "Generated List: [102, 120, 100, 95, 116, 106, 101, 115, 95, 113, 130, 115, 97, 128, 117, 90, 108, 99, 98, 124, 101, 94, 126, 108, 111, 112, 128, 129, 123, 123, 122, 100, 119, 104, 115, 104, 98, 113, 120, 91, 123, 105, 121, 119, 127, 129, 105, 121, 99, 124, 128, 97, 127, 107, 125, 92, 111, 117, 123, 104, 92, 108, 105, 108, 125, 118, 114, 93, 117, 127, 123, 122, 125, 129, 113, 127, 126, 100, 130, 116, 101, 102, 127, 91, 111, 123, 99, 110, 90, 108, 119, 126, 91, 115, 103, 100, 121, 129, 95, 130]\n"
     ]
    }
   ],
   "source": [
    "\n",
    "# Generate a list of 100 integers between 90 and 130\n",
    "int_list = [random.randint(90, 130) for _ in range(100)]\n",
    "print(\"Generated List:\", int_list)\n"
   ]
  },
  {
   "cell_type": "code",
   "execution_count": 3,
   "id": "26107414",
   "metadata": {},
   "outputs": [
    {
     "name": "stdout",
     "output_type": "stream",
     "text": [
      "Mean: 112.23\n"
     ]
    }
   ],
   "source": [
    "\n",
    "def calculate_mean(numbers):\n",
    "    \"\"\"Returns the mean (average) of a list of numbers.\"\"\"\n",
    "    return sum(numbers) / len(numbers) if numbers else None\n",
    "\n",
    "# Compute and display mean\n",
    "print(\"Mean:\", calculate_mean(int_list))\n"
   ]
  },
  {
   "cell_type": "code",
   "execution_count": 4,
   "id": "752702a0",
   "metadata": {},
   "outputs": [
    {
     "name": "stdout",
     "output_type": "stream",
     "text": [
      "Median: 113.5\n"
     ]
    }
   ],
   "source": [
    "\n",
    "def calculate_median(numbers):\n",
    "    \"\"\"Returns the median of a list of numbers.\"\"\"\n",
    "    if not numbers:\n",
    "        return None\n",
    "    sorted_numbers = sorted(numbers)\n",
    "    n = len(sorted_numbers)\n",
    "    mid = n // 2\n",
    "\n",
    "    if n % 2 == 0:\n",
    "        return (sorted_numbers[mid - 1] + sorted_numbers[mid]) / 2\n",
    "    else:\n",
    "        return sorted_numbers[mid]\n",
    "\n",
    "# Compute and display median\n",
    "print(\"Median:\", calculate_median(int_list))\n"
   ]
  },
  {
   "cell_type": "code",
   "execution_count": 5,
   "id": "f1232920",
   "metadata": {},
   "outputs": [
    {
     "name": "stdout",
     "output_type": "stream",
     "text": [
      "Mode: 123\n"
     ]
    }
   ],
   "source": [
    "\n",
    "def calculate_mode(numbers):\n",
    "    \"\"\"Returns the mode(s) of a list of numbers.\"\"\"\n",
    "    if not numbers:\n",
    "        return None\n",
    "    freq = Counter(numbers)\n",
    "    max_freq = max(freq.values())\n",
    "    modes = [num for num, count in freq.items() if count == max_freq]\n",
    "    return modes if len(modes) > 1 else modes[0]\n",
    "\n",
    "# Compute and display mode\n",
    "print(\"Mode:\", calculate_mode(int_list))\n"
   ]
  },
  {
   "cell_type": "code",
   "execution_count": 6,
   "id": "728b816a",
   "metadata": {},
   "outputs": [
    {
     "name": "stdout",
     "output_type": "stream",
     "text": [
      "Weighted Mean: 112.24784175998079\n"
     ]
    }
   ],
   "source": [
    "\n",
    "def calculate_weighted_mean(values, weights):\n",
    "    \"\"\"Returns the weighted mean of a list of values with corresponding weights.\"\"\"\n",
    "    if not values or not weights or len(values) != len(weights):\n",
    "        return None\n",
    "    weighted_sum = sum(v * w for v, w in zip(values, weights))\n",
    "    total_weight = sum(weights)\n",
    "    return weighted_sum / total_weight if total_weight != 0 else None\n",
    "\n",
    "# Example weights\n",
    "weights = [random.uniform(0.5, 2) for _ in range(100)]\n",
    "print(\"Weighted Mean:\", calculate_weighted_mean(int_list, weights))\n"
   ]
  },
  {
   "cell_type": "code",
   "execution_count": 7,
   "id": "25bf0edb",
   "metadata": {},
   "outputs": [
    {
     "name": "stdout",
     "output_type": "stream",
     "text": [
      "Geometric Mean: 111.55844377677825\n"
     ]
    }
   ],
   "source": [
    "\n",
    "def calculate_geometric_mean(numbers):\n",
    "    \"\"\"Returns the geometric mean of a list of positive numbers.\"\"\"\n",
    "    if not numbers or any(n <= 0 for n in numbers):\n",
    "        return None\n",
    "    product = math.prod(numbers)\n",
    "    return product ** (1 / len(numbers))\n",
    "\n",
    "# Compute and display geometric mean\n",
    "print(\"Geometric Mean:\", calculate_geometric_mean(int_list))\n"
   ]
  },
  {
   "cell_type": "code",
   "execution_count": 8,
   "id": "bf3920cf",
   "metadata": {},
   "outputs": [
    {
     "name": "stdout",
     "output_type": "stream",
     "text": [
      "Harmonic Mean: 110.87423014029076\n"
     ]
    }
   ],
   "source": [
    "\n",
    "def calculate_harmonic_mean(numbers):\n",
    "    \"\"\"Returns the harmonic mean of a list of positive numbers.\"\"\"\n",
    "    if not numbers or any(n <= 0 for n in numbers):\n",
    "        return None\n",
    "    return len(numbers) / sum(1 / num for num in numbers)\n",
    "\n",
    "# Compute and display harmonic mean\n",
    "print(\"Harmonic Mean:\", calculate_harmonic_mean(int_list))\n"
   ]
  },
  {
   "cell_type": "code",
   "execution_count": 9,
   "id": "2e56217e",
   "metadata": {},
   "outputs": [
    {
     "name": "stdout",
     "output_type": "stream",
     "text": [
      "Midrange: 110.0\n"
     ]
    }
   ],
   "source": [
    "\n",
    "def calculate_midrange(numbers):\n",
    "    \"\"\"Returns the midrange (average of min and max) of a list of numbers.\"\"\"\n",
    "    if not numbers:\n",
    "        return None\n",
    "    return (min(numbers) + max(numbers)) / 2\n",
    "\n",
    "# Compute and display midrange\n",
    "print(\"Midrange:\", calculate_midrange(int_list))\n"
   ]
  },
  {
   "cell_type": "code",
   "execution_count": 10,
   "id": "9cdd0da0",
   "metadata": {},
   "outputs": [
    {
     "name": "stdout",
     "output_type": "stream",
     "text": [
      "Trimmed Mean (10% outliers removed): 112.675\n"
     ]
    }
   ],
   "source": [
    "\n",
    "def calculate_trimmed_mean(numbers, trim_percentage=0.1):\n",
    "    \"\"\"Returns the trimmed mean by excluding a certain percentage of outliers.\"\"\"\n",
    "    if not numbers:\n",
    "        return None\n",
    "    return trim_mean(numbers, proportiontocut=trim_percentage)\n",
    "\n",
    "# Compute and display trimmed mean\n",
    "print(\"Trimmed Mean (10% outliers removed):\", calculate_trimmed_mean(int_list, 0.1))\n"
   ]
  },
  {
   "cell_type": "markdown",
   "id": "d252556a",
   "metadata": {},
   "source": [
    "Q-2  Generate a list of 500 integers containing values between 200 to 300 and store it in the variable `int_list2`. After generating the list, find the following"
   ]
  },
  {
   "cell_type": "code",
   "execution_count": 1,
   "id": "a40a1325",
   "metadata": {},
   "outputs": [],
   "source": [
    "import numpy as np\n",
    "import seaborn as sns\n",
    "import matplotlib.pyplot as plt\n",
    "import scipy.stats as stats"
   ]
  },
  {
   "cell_type": "code",
   "execution_count": 3,
   "id": "03bdd594",
   "metadata": {},
   "outputs": [],
   "source": [
    "np.random.seed(42)\n",
    "int_list2 = np.random.randint(200, 301, 500)"
   ]
  },
  {
   "cell_type": "code",
   "execution_count": 4,
   "id": "4e304774",
   "metadata": {},
   "outputs": [
    {
     "data": {
      "image/png": "[encoded data removed]",
      "text/plain": [
       "<Figure size 1000x500 with 1 Axes>"
      ]
     },
     "metadata": {},
     "output_type": "display_data"
    },
    {
     "data": {
      "image/png": "[encoded data removed]",
      "text/plain": [
       "<Figure size 1000x500 with 1 Axes>"
      ]
     },
     "metadata": {},
     "output_type": "display_data"
    },
    {
     "data": {
      "image/png": "[encoded data removed]",
      "text/plain": [
       "<Figure size 1000x500 with 1 Axes>"
      ]
     },
     "metadata": {},
     "output_type": "display_data"
    }
   ],
   "source": [
    "# (i) Compare the given list of visualization for the given data\n",
    "\n",
    "# 1. Frequency & Gaussian distribution\n",
    "plt.figure(figsize=(10, 5))\n",
    "sns.histplot(int_list2, bins=20, kde=False, color='blue', label=\"Frequency\")\n",
    "x = np.linspace(200, 300, 1000)\n",
    "plt.plot(x, stats.norm.pdf(x, np.mean(int_list2), np.std(int_list2)) * 5000, color='red', label=\"Gaussian Distribution\")\n",
    "plt.legend()\n",
    "plt.title(\"Frequency & Gaussian Distribution\")\n",
    "plt.show()\n",
    "\n",
    "# 2. Frequency smoothened KDE plot\n",
    "plt.figure(figsize=(10, 5))\n",
    "sns.histplot(int_list2, bins=20, kde=True, color='purple', label=\"Frequency with KDE\")\n",
    "plt.title(\"Frequency Smoothened KDE Plot\")\n",
    "plt.show()\n",
    "\n",
    "# 3. Gaussian distribution & smoothened KDE plot\n",
    "plt.figure(figsize=(10, 5))\n",
    "sns.kdeplot(int_list2, color='green', label=\"KDE\")\n",
    "plt.plot(x, stats.norm.pdf(x, np.mean(int_list2), np.std(int_list2)), color='orange', label=\"Gaussian Distribution\")\n",
    "plt.legend()\n",
    "plt.title(\"Gaussian Distribution & Smoothened KDE Plot\")\n",
    "plt.show()"
   ]
  },
  {
   "cell_type": "code",
   "execution_count": 5,
   "id": "827329c8",
   "metadata": {},
   "outputs": [
    {
     "name": "stdout",
     "output_type": "stream",
     "text": [
      "Range: 100\n"
     ]
    }
   ],
   "source": [
    "# (ii) Write a Python function to calculate the range of a given list of numbers.\n",
    "def calculate_range(numbers):\n",
    "    return max(numbers) - min(numbers)\n",
    "\n",
    "\n",
    "print(\"Range:\", calculate_range(int_list2))\n"
   ]
  },
  {
   "cell_type": "code",
   "execution_count": 7,
   "id": "275b201d",
   "metadata": {},
   "outputs": [
    {
     "name": "stdout",
     "output_type": "stream",
     "text": [
      "Variance: 903.1562124248497\n",
      "Standard Deviation: 30.05255750223015\n"
     ]
    }
   ],
   "source": [
    "# (iii) Create a program to find the variance and standard deviation of a list of numbers.\n",
    "def calculate_variance_std(numbers):\n",
    "    variance = np.var(numbers, ddof=1)  # Unbiased variance\n",
    "    std_dev = np.std(numbers, ddof=1)\n",
    "    return variance, std_dev\n",
    "\n",
    "\n",
    "variance, std_dev = calculate_variance_std(int_list2)\n",
    "print(\"Variance:\", variance)\n",
    "print(\"Standard Deviation:\", std_dev)\n"
   ]
  },
  {
   "cell_type": "code",
   "execution_count": 8,
   "id": "c817e42c",
   "metadata": {},
   "outputs": [
    {
     "name": "stdout",
     "output_type": "stream",
     "text": [
      "Interquartile Range (IQR): 51.25\n"
     ]
    }
   ],
   "source": [
    "# (iv) Implement a function to compute the interquartile range (IQR) of a list of values.\n",
    "def calculate_iqr(numbers):\n",
    "    q75, q25 = np.percentile(numbers, [75, 25])\n",
    "    return q75 - q25\n",
    "\n",
    "\n",
    "print(\"Interquartile Range (IQR):\", calculate_iqr(int_list2))\n"
   ]
  },
  {
   "cell_type": "code",
   "execution_count": 9,
   "id": "81a5d00e",
   "metadata": {},
   "outputs": [
    {
     "name": "stdout",
     "output_type": "stream",
     "text": [
      "Coefficient of Variation: 0.12049459725845055\n"
     ]
    }
   ],
   "source": [
    "# (v) Build a program to calculate the coefficient of variation for a dataset.\n",
    "def coefficient_of_variation(numbers):\n",
    "    return np.std(numbers, ddof=1) / np.mean(numbers)\n",
    "\n",
    "\n",
    "print(\"Coefficient of Variation:\", coefficient_of_variation(int_list2))"
   ]
  },
  {
   "cell_type": "code",
   "execution_count": 10,
   "id": "2286f3c0",
   "metadata": {},
   "outputs": [
    {
     "name": "stdout",
     "output_type": "stream",
     "text": [
      "Mean Absolute Deviation (MAD): 25.803440000000002\n"
     ]
    }
   ],
   "source": [
    "# (vi) Write a Python function to find the mean absolute deviation (MAD) of a list of numbers.\n",
    "def mean_absolute_deviation(numbers):\n",
    "    mean = np.mean(numbers)\n",
    "    return np.mean(np.abs(numbers - mean))\n",
    "\n",
    "\n",
    "print(\"Mean Absolute Deviation (MAD):\", mean_absolute_deviation(int_list2))"
   ]
  },
  {
   "cell_type": "code",
   "execution_count": 11,
   "id": "a559b878",
   "metadata": {},
   "outputs": [
    {
     "name": "stdout",
     "output_type": "stream",
     "text": [
      "Quartile Deviation: 25.625\n"
     ]
    }
   ],
   "source": [
    "# (vii) Create a program to calculate the quartile deviation of a list of values.\n",
    "def quartile_deviation(numbers):\n",
    "    q75, q25 = np.percentile(numbers, [75, 25])\n",
    "    return (q75 - q25) / 2\n",
    "\n",
    "\n",
    "print(\"Quartile Deviation:\", quartile_deviation(int_list2))\n"
   ]
  },
  {
   "cell_type": "code",
   "execution_count": 12,
   "id": "8b69b19a",
   "metadata": {},
   "outputs": [
    {
     "name": "stdout",
     "output_type": "stream",
     "text": [
      "Range-based Coefficient of Dispersion: 0.2\n"
     ]
    }
   ],
   "source": [
    "# (viii) Implement a function to find the range-based coefficient of dispersion for a dataset.\n",
    "def range_based_coefficient_of_dispersion(numbers):\n",
    "    return calculate_range(numbers) / (max(numbers) + min(numbers))\n",
    "\n",
    "\n",
    "print(\"Range-based Coefficient of Dispersion:\", range_based_coefficient_of_dispersion(int_list2))"
   ]
  },
  {
   "cell_type": "markdown",
   "id": "3a5ff96c",
   "metadata": {},
   "source": [
    "3)  Write a Python class representing a discrete random variable with methods to calculate its expected value and variance."
   ]
  },
  {
   "cell_type": "code",
   "execution_count": 13,
   "id": "ac327b6a",
   "metadata": {},
   "outputs": [
    {
     "name": "stdout",
     "output_type": "stream",
     "text": [
      "Expected Value (Mean): 3.2\n",
      "Variance: 1.56\n"
     ]
    }
   ],
   "source": [
    "class DiscreteRandomVariable:\n",
    "    def __init__(self, values, probabilities):\n",
    "        \"\"\"\n",
    "        Initializes the discrete random variable.\n",
    "\n",
    "        :param values: List of possible values of the random variable.\n",
    "        :param probabilities: Corresponding probabilities for each value.\n",
    "        \"\"\"\n",
    "        if len(values) != len(probabilities):\n",
    "            raise ValueError(\"Values and probabilities must have the same length.\")\n",
    "        if not (0.999 <= sum(probabilities) <= 1.001):  # Allow small floating-point precision errors\n",
    "            raise ValueError(\"Probabilities must sum to 1.\")\n",
    "\n",
    "        self.values = values\n",
    "        self.probabilities = probabilities\n",
    "\n",
    "    def expected_value(self):\n",
    "        \"\"\"Calculates and returns the expected value (mean) of the discrete random variable.\"\"\"\n",
    "        return sum(v * p for v, p in zip(self.values, self.probabilities))\n",
    "\n",
    "    def variance(self):\n",
    "        \"\"\"Calculates and returns the variance of the discrete random variable.\"\"\"\n",
    "        mean = self.expected_value()\n",
    "        return sum(((v - mean) ** 2) * p for v, p in zip(self.values, self.probabilities))\n",
    "\n",
    "# Example usage:\n",
    "values = [1, 2, 3, 4, 5]\n",
    "probabilities = [0.1, 0.2, 0.3, 0.2, 0.2]\n",
    "\n",
    "drv = DiscreteRandomVariable(values, probabilities)\n",
    "\n",
    "print(\"Expected Value (Mean):\", drv.expected_value())\n",
    "print(\"Variance:\", drv.variance())\n"
   ]
  },
  {
   "cell_type": "markdown",
   "id": "429ad567",
   "metadata": {},
   "source": [
    "4) Implement a program to simulate the rolling of a fair six-sided die and calculate the expected value and variance of the outcomes"
   ]
  },
  {
   "cell_type": "code",
   "execution_count": 14,
   "id": "868828e2",
   "metadata": {},
   "outputs": [
    {
     "name": "stdout",
     "output_type": "stream",
     "text": [
      "Simulated Fair Six-Sided Die\n",
      "Expected Value: 3.5\n",
      "Variance: 2.9166666666666665\n"
     ]
    }
   ],
   "source": [
    "import numpy as np\n",
    "\n",
    "class FairDieSimulator:\n",
    "    def __init__(self, sides=6, rolls=10000):\n",
    "        \"\"\"\n",
    "        Initializes the fair die simulator.\n",
    "\n",
    "        :param sides: Number of sides on the die (default is 6).\n",
    "        :param rolls: Number of times the die is rolled for simulation.\n",
    "        \"\"\"\n",
    "        self.sides = sides\n",
    "        self.rolls = rolls\n",
    "        self.outcomes = np.arange(1, sides + 1)  # Possible values [1, 2, 3, 4, 5, 6]\n",
    "        self.probabilities = np.full(sides, 1 / sides)  # Equal probability for each side\n",
    "\n",
    "    def roll_die(self):\n",
    "        \"\"\"Simulates rolling the die `rolls` times and returns the outcomes.\"\"\"\n",
    "        return np.random.choice(self.outcomes, size=self.rolls, replace=True)\n",
    "\n",
    "    def expected_value(self):\n",
    "        \"\"\"Calculates the expected value of a fair six-sided die.\"\"\"\n",
    "        return sum(v * p for v, p in zip(self.outcomes, self.probabilities))\n",
    "\n",
    "    def variance(self):\n",
    "        \"\"\"Calculates the variance of a fair six-sided die.\"\"\"\n",
    "        mean = self.expected_value()\n",
    "        return sum(((v - mean) ** 2) * p for v, p in zip(self.outcomes, self.probabilities))\n",
    "\n",
    "# Create a simulator instance\n",
    "die_simulator = FairDieSimulator()\n",
    "\n",
    "# Simulate rolling the die\n",
    "roll_results = die_simulator.roll_die()\n",
    "\n",
    "# Compute expected value and variance\n",
    "expected_value = die_simulator.expected_value()\n",
    "variance = die_simulator.variance()\n",
    "\n",
    "print(\"Simulated Fair Six-Sided Die\")\n",
    "print(f\"Expected Value: {expected_value}\")\n",
    "print(f\"Variance: {variance}\")\n"
   ]
  },
  {
   "cell_type": "markdown",
   "id": "1c32aa01",
   "metadata": {},
   "source": [
    "5) Create a Python function to generate random samples from a given probability distribution (e.g., binomial, Poisson) and calculate their mean and variance."
   ]
  },
  {
   "cell_type": "code",
   "execution_count": 15,
   "id": "4ee8c743",
   "metadata": {},
   "outputs": [
    {
     "name": "stdout",
     "output_type": "stream",
     "text": [
      "Binomial Distribution - Mean: 5.078 Variance: 2.5404564564564565\n",
      "Poisson Distribution - Mean: 3.976 Variance: 4.267691691691692\n",
      "Normal Distribution - Mean: -0.01756955418099472 Variance: 1.0773337045017122\n"
     ]
    }
   ],
   "source": [
    "import numpy as np\n",
    "\n",
    "def generate_samples(distribution, params, size=1000):\n",
    "    \"\"\"\n",
    "    Generates random samples from a given probability distribution and calculates mean & variance.\n",
    "\n",
    "    :param distribution: Name of the distribution ('binomial', 'poisson', 'normal', etc.)\n",
    "    :param params: Dictionary containing the required parameters for the distribution\n",
    "    :param size: Number of samples to generate (default is 1000)\n",
    "    :return: Tuple (samples, mean, variance)\n",
    "    \"\"\"\n",
    "    if distribution == \"binomial\":\n",
    "        samples = np.random.binomial(n=params[\"n\"], p=params[\"p\"], size=size)\n",
    "    elif distribution == \"poisson\":\n",
    "        samples = np.random.poisson(lam=params[\"lambda\"], size=size)\n",
    "    elif distribution == \"normal\":\n",
    "        samples = np.random.normal(loc=params[\"mean\"], scale=params[\"std_dev\"], size=size)\n",
    "    else:\n",
    "        raise ValueError(\"Unsupported distribution! Choose 'binomial', 'poisson', or 'normal'.\")\n",
    "\n",
    "    # Calculate mean and variance\n",
    "    mean = np.mean(samples)\n",
    "    variance = np.var(samples, ddof=1)  # Using unbiased variance\n",
    "\n",
    "    return samples, mean, variance\n",
    "\n",
    "# Example Usage:\n",
    "# Generate 1000 samples from a Binomial distribution with n=10, p=0.5\n",
    "binomial_samples, binomial_mean, binomial_variance = generate_samples(\n",
    "    \"binomial\", {\"n\": 10, \"p\": 0.5}, size=1000\n",
    ")\n",
    "print(\"Binomial Distribution - Mean:\", binomial_mean, \"Variance:\", binomial_variance)\n",
    "\n",
    "# Generate 1000 samples from a Poisson distribution with λ=4\n",
    "poisson_samples, poisson_mean, poisson_variance = generate_samples(\n",
    "    \"poisson\", {\"lambda\": 4}, size=1000\n",
    ")\n",
    "print(\"Poisson Distribution - Mean:\", poisson_mean, \"Variance:\", poisson_variance)\n",
    "\n",
    "# Generate 1000 samples from a Normal distribution with mean=0, std_dev=1\n",
    "normal_samples, normal_mean, normal_variance = generate_samples(\n",
    "    \"normal\", {\"mean\": 0, \"std_dev\": 1}, size=1000\n",
    ")\n",
    "print(\"Normal Distribution - Mean:\", normal_mean, \"Variance:\", normal_variance)\n"
   ]
  },
  {
   "cell_type": "markdown",
   "id": "f816373b",
   "metadata": {},
   "source": [
    "6) Write a Python script to generate random numbers from a Gaussian (normal) distribution and compute the mean, variance, and standard deviation of the samples"
   ]
  },
  {
   "cell_type": "code",
   "execution_count": 16,
   "id": "5a32d254",
   "metadata": {},
   "outputs": [
    {
     "name": "stdout",
     "output_type": "stream",
     "text": [
      "Generated Gaussian Samples Statistics:\n",
      "Mean: 4.903184524236289\n",
      "Variance: 3.9164516881684355\n",
      "Standard Deviation: 1.9790027003944273\n"
     ]
    }
   ],
   "source": [
    "import numpy as np\n",
    "\n",
    "def generate_gaussian_samples(mean=0, std_dev=1, size=1000):\n",
    "    \"\"\"\n",
    "    Generates random samples from a Gaussian (normal) distribution.\n",
    "\n",
    "    :param mean: Mean of the normal distribution (default is 0)\n",
    "    :param std_dev: Standard deviation of the normal distribution (default is 1)\n",
    "    :param size: Number of random samples to generate (default is 1000)\n",
    "    :return: Tuple (samples, calculated_mean, variance, standard_deviation)\n",
    "    \"\"\"\n",
    "    # Generate random samples from a normal distribution\n",
    "    samples = np.random.normal(loc=mean, scale=std_dev, size=size)\n",
    "\n",
    "    # Compute statistics\n",
    "    calculated_mean = np.mean(samples)\n",
    "    variance = np.var(samples, ddof=1)  # Unbiased variance\n",
    "    std_deviation = np.std(samples, ddof=1)\n",
    "\n",
    "    return samples, calculated_mean, variance, std_deviation\n",
    "\n",
    "# Generate 1000 samples from a normal distribution with mean=5 and std_dev=2\n",
    "samples, mean, variance, std_dev = generate_gaussian_samples(mean=5, std_dev=2, size=1000)\n",
    "\n",
    "# Print results\n",
    "print(\"Generated Gaussian Samples Statistics:\")\n",
    "print(f\"Mean: {mean}\")\n",
    "print(f\"Variance: {variance}\")\n",
    "print(f\"Standard Deviation: {std_dev}\")\n"
   ]
  },
  {
   "cell_type": "markdown",
   "id": "b455fc8c",
   "metadata": {},
   "source": [
    "Use seaborn library to load tips dataset. Find the following from the dataset for the columns total_bill and tip`:"
   ]
  },
  {
   "cell_type": "code",
   "execution_count": 17,
   "id": "23d1f979",
   "metadata": {},
   "outputs": [],
   "source": [
    "import seaborn as sns\n",
    "import pandas as pd\n",
    "import numpy as np\n",
    "import scipy.stats as stats\n",
    "import matplotlib.pyplot as plt\n",
    "\n",
    "# Load the tips dataset\n",
    "tips = sns.load_dataset(\"tips\")"
   ]
  },
  {
   "cell_type": "code",
   "execution_count": 18,
   "id": "c4dc3343",
   "metadata": {},
   "outputs": [],
   "source": [
    "# (i) Function to calculate skewness\n",
    "def calculate_skewness(column):\n",
    "    \"\"\"\n",
    "    Calculates skewness of a given column.\n",
    "    \"\"\"\n",
    "    return stats.skew(tips[column])"
   ]
  },
  {
   "cell_type": "code",
   "execution_count": 19,
   "id": "0943d53e",
   "metadata": {},
   "outputs": [],
   "source": [
    "# (ii) Function to determine skewness type\n",
    "def skewness_type(column):\n",
    "    \"\"\"\n",
    "    Determines whether the column is positively skewed, negatively skewed, or approximately symmetric.\n",
    "    \"\"\"\n",
    "    skewness = calculate_skewness(column)\n",
    "    if skewness > 0:\n",
    "        return \"Positive skewness\"\n",
    "    elif skewness < 0:\n",
    "        return \"Negative skewness\"\n",
    "    else:\n",
    "        return \"Approximately symmetric\""
   ]
  },
  {
   "cell_type": "code",
   "execution_count": 20,
   "id": "791804a1",
   "metadata": {},
   "outputs": [],
   "source": [
    "# (iii) Function to calculate covariance between two columns\n",
    "def calculate_covariance(col1, col2):\n",
    "    \"\"\"\n",
    "    Calculates the covariance between two columns.\n",
    "    \"\"\"\n",
    "    return np.cov(tips[col1], tips[col2], ddof=1)[0, 1]"
   ]
  },
  {
   "cell_type": "code",
   "execution_count": 21,
   "id": "01096751",
   "metadata": {},
   "outputs": [],
   "source": [
    "# (iv) Function to calculate Pearson correlation coefficient\n",
    "def pearson_correlation(col1, col2):\n",
    "    \"\"\"\n",
    "    Calculates the Pearson correlation coefficient between two columns.\n",
    "    \"\"\"\n",
    "    return np.corrcoef(tips[col1], tips[col2])[0, 1]"
   ]
  },
  {
   "cell_type": "code",
   "execution_count": 22,
   "id": "9c937fe5",
   "metadata": {},
   "outputs": [],
   "source": [
    "# (v) Function to visualize correlation using a scatter plot\n",
    "def visualize_correlation(col1, col2):\n",
    "    \"\"\"\n",
    "    Plots a scatter plot to visualize the correlation between two columns.\n",
    "    \"\"\"\n",
    "    plt.figure(figsize=(8, 6))\n",
    "    sns.scatterplot(x=tips[col1], y=tips[col2])\n",
    "    plt.title(f\"Scatter Plot: {col1} vs {col2}\")\n",
    "    plt.xlabel(col1)\n",
    "    plt.ylabel(col2)\n",
    "    plt.show()"
   ]
  },
  {
   "cell_type": "code",
   "execution_count": 23,
   "id": "3d66b7c4",
   "metadata": {},
   "outputs": [
    {
     "name": "stdout",
     "output_type": "stream",
     "text": [
      "Skewness:\n",
      "Total Bill: 1.1262346334818638 (Positive skewness)\n",
      "Tip: 1.4564266884221506 (Positive skewness)\n",
      "\n",
      "Covariance: 8.323501629224854\n",
      "Pearson Correlation Coefficient: 0.6757341092113641\n"
     ]
    },
    {
     "data": {
      "image/png": "[encoded data removed]",
      "text/plain": [
       "<Figure size 800x600 with 1 Axes>"
      ]
     },
     "metadata": {},
     "output_type": "display_data"
    }
   ],
   "source": [
    "# Perform calculations\n",
    "skew_total_bill = calculate_skewness(\"total_bill\")\n",
    "skew_tip = calculate_skewness(\"tip\")\n",
    "\n",
    "covariance = calculate_covariance(\"total_bill\", \"tip\")\n",
    "pearson_corr = pearson_correlation(\"total_bill\", \"tip\")\n",
    "\n",
    "# Print results\n",
    "print(\"Skewness:\")\n",
    "print(f\"Total Bill: {skew_total_bill} ({skewness_type('total_bill')})\")\n",
    "print(f\"Tip: {skew_tip} ({skewness_type('tip')})\")\n",
    "\n",
    "print(\"\\nCovariance:\", covariance)\n",
    "print(\"Pearson Correlation Coefficient:\", pearson_corr)\n",
    "\n",
    "# Visualize correlation\n",
    "visualize_correlation(\"total_bill\", \"tip\")"
   ]
  },
  {
   "cell_type": "markdown",
   "id": "38d343a7",
   "metadata": {},
   "source": [
    "8) Write a Python function to calculate the probability density function (PDF) of a continuous random variable for a given normal distribution"
   ]
  },
  {
   "cell_type": "code",
   "execution_count": 24,
   "id": "83246468",
   "metadata": {},
   "outputs": [
    {
     "name": "stdout",
     "output_type": "stream",
     "text": [
      "The PDF value at x = 2.0 is 0.05399096651318806\n"
     ]
    }
   ],
   "source": [
    "import math\n",
    "\n",
    "def normal_pdf(x, mean, std_dev):\n",
    "    coefficient = 1 / (std_dev * math.sqrt(2 * math.pi))\n",
    "    exponent = math.exp(-0.5 * ((x - mean) / std_dev) ** 2)\n",
    "    return coefficient * exponent\n",
    "\n",
    "# Example usage:\n",
    "x = 2.0\n",
    "mean = 0.0\n",
    "std_dev = 1.0\n",
    "pdf_value = normal_pdf(x, mean, std_dev)\n",
    "print(f\"The PDF value at x = {x} is {pdf_value}\")\n"
   ]
  },
  {
   "cell_type": "markdown",
   "id": "2ba78e84",
   "metadata": {},
   "source": [
    "9) Create a program to calculate the cumulative distribution function (CDF) of exponential distribution"
   ]
  },
  {
   "cell_type": "code",
   "execution_count": 25,
   "id": "d1dbf2eb",
   "metadata": {},
   "outputs": [
    {
     "name": "stdout",
     "output_type": "stream",
     "text": [
      "The CDF value at x = 2.0 is 0.950212931632136\n"
     ]
    }
   ],
   "source": [
    "import math\n",
    "\n",
    "def exponential_cdf(x, lambda_param):\n",
    "    if x < 0:\n",
    "        return 0  # Exponential CDF is 0 for negative x\n",
    "    return 1 - math.exp(-lambda_param * x)\n",
    "\n",
    "# Example usage:\n",
    "x = 2.0\n",
    "lambda_param = 1.5  # rate parameter (λ)\n",
    "cdf_value = exponential_cdf(x, lambda_param)\n",
    "print(f\"The CDF value at x = {x} is {cdf_value}\")\n"
   ]
  },
  {
   "cell_type": "markdown",
   "id": "9b5d9b74",
   "metadata": {},
   "source": [
    "10) Write a Python function to calculate the probability mass function (PMF) of Poisson distribution."
   ]
  },
  {
   "cell_type": "code",
   "execution_count": 26,
   "id": "78ff4104",
   "metadata": {},
   "outputs": [
    {
     "name": "stdout",
     "output_type": "stream",
     "text": [
      "The PMF value at k = 3 is 0.1804470443154836\n"
     ]
    }
   ],
   "source": [
    "import math\n",
    "\n",
    "def poisson_pmf(k, lambda_param):\n",
    "    \"\"\"\n",
    "    Calculate the PMF of a Poisson distribution for a given value of k.\n",
    "\n",
    "    Parameters:\n",
    "    - k (int): The number of occurrences (discrete value).\n",
    "    - lambda_param (float): The rate parameter (λ) of the Poisson distribution.\n",
    "\n",
    "    Returns:\n",
    "    - float: The value of the PMF at k.\n",
    "    \"\"\"\n",
    "    if k < 0 or not isinstance(k, int):\n",
    "        raise ValueError(\"k must be a non-negative integer.\")\n",
    "    \n",
    "    return (lambda_param ** k * math.exp(-lambda_param)) / math.factorial(k)\n",
    "\n",
    "# Example usage:\n",
    "k = 3\n",
    "lambda_param = 2.0  # average rate (λ)\n",
    "pmf_value = poisson_pmf(k, lambda_param)\n",
    "print(f\"The PMF value at k = {k} is {pmf_value}\")\n"
   ]
  },
  {
   "cell_type": "markdown",
   "id": "ecc8eae7",
   "metadata": {},
   "source": [
    "A company wants to test if a new website layout leads to a higher conversion rate (percentage of visitors who make a purchase). They collect data from the old and new layouts to compare"
   ]
  },
  {
   "cell_type": "code",
   "execution_count": 27,
   "id": "a05ce8ab",
   "metadata": {},
   "outputs": [
    {
     "name": "stdout",
     "output_type": "stream",
     "text": [
      "Z-statistic: -1.883108942886774\n",
      "P-value: 0.05968560553242619\n",
      "Fail to reject the null hypothesis: No significant difference between the layouts.\n"
     ]
    }
   ],
   "source": [
    "import numpy as np\n",
    "import scipy.stats as stats\n",
    "\n",
    "# Data for old and new layouts\n",
    "old_layout = np.array([1] * 50 + [0] * 950)  # 50 purchases out of 1000 visitors\n",
    "new_layout = np.array([1] * 70 + [0] * 930)  # 70 purchases out of 1000 visitors\n",
    "\n",
    "# Proportions of successes\n",
    "p_old = np.mean(old_layout)\n",
    "p_new = np.mean(new_layout)\n",
    "\n",
    "# Sample sizes\n",
    "n_old = len(old_layout)\n",
    "n_new = len(new_layout)\n",
    "\n",
    "# Pooled proportion\n",
    "p = (np.sum(old_layout) + np.sum(new_layout)) / (n_old + n_new)\n",
    "\n",
    "# Standard error of the difference between proportions\n",
    "se = np.sqrt(p * (1 - p) * (1/n_old + 1/n_new))\n",
    "\n",
    "# Z-statistic\n",
    "z = (p_old - p_new) / se\n",
    "\n",
    "# P-value for two-tailed test\n",
    "p_value = 2 * (1 - stats.norm.cdf(abs(z)))\n",
    "\n",
    "# Output results\n",
    "print(f\"Z-statistic: {z}\")\n",
    "print(f\"P-value: {p_value}\")\n",
    "\n",
    "# Significance level (alpha)\n",
    "alpha = 0.05\n",
    "\n",
    "# Conclusion\n",
    "if p_value < alpha:\n",
    "    print(\"Reject the null hypothesis: The new layout is significantly better.\")\n",
    "else:\n",
    "    print(\"Fail to reject the null hypothesis: No significant difference between the layouts.\")\n"
   ]
  },
  {
   "cell_type": "markdown",
   "id": "0f65b1f4",
   "metadata": {},
   "source": [
    "12) A tutoring service claims that its program improves students' exam scores. A sample of students who participated in the program was taken, and their scores before and after the program were recorded"
   ]
  },
  {
   "cell_type": "code",
   "execution_count": 28,
   "id": "d59317d8",
   "metadata": {},
   "outputs": [
    {
     "name": "stdout",
     "output_type": "stream",
     "text": [
      "Z-statistic: 4.593190894944668\n",
      "P-value: 2.182597052646784e-06\n",
      "Reject the null hypothesis: The tutoring program has a significant positive effect on scores.\n"
     ]
    }
   ],
   "source": [
    "import numpy as np\n",
    "import scipy.stats as stats\n",
    "\n",
    "# Data for before and after the program\n",
    "before_program = np.array([75, 80, 85, 70, 90, 78, 92, 88, 82, 87])\n",
    "after_program = np.array([80, 85, 90, 80, 92, 80, 95, 90, 85, 88])\n",
    "\n",
    "# Calculate the differences between the before and after scores\n",
    "differences = after_program - before_program\n",
    "\n",
    "# Sample size\n",
    "n = len(differences)\n",
    "\n",
    "# Mean of the differences\n",
    "mean_d = np.mean(differences)\n",
    "\n",
    "# Standard deviation of the differences\n",
    "std_dev_d = np.std(differences, ddof=1)\n",
    "\n",
    "# Standard error of the mean difference\n",
    "se_d = std_dev_d / np.sqrt(n)\n",
    "\n",
    "# Z-statistic\n",
    "z = mean_d / se_d\n",
    "\n",
    "# P-value for one-tailed test (since we're testing if after > before)\n",
    "p_value = 1 - stats.norm.cdf(z)\n",
    "\n",
    "# Output results\n",
    "print(f\"Z-statistic: {z}\")\n",
    "print(f\"P-value: {p_value}\")\n",
    "\n",
    "# Significance level (alpha)\n",
    "alpha = 0.05\n",
    "\n",
    "# Conclusion\n",
    "if p_value < alpha:\n",
    "    print(\"Reject the null hypothesis: The tutoring program has a significant positive effect on scores.\")\n",
    "else:\n",
    "    print(\"Fail to reject the null hypothesis: No significant difference in scores before and after the program.\")\n"
   ]
  },
  {
   "cell_type": "markdown",
   "id": "98d45088",
   "metadata": {},
   "source": [
    "13) A pharmaceutical company wants to determine if a new drug is effective in reducing blood pressure. They conduct a study and record blood pressure measurements before and after administering the drug"
   ]
  },
  {
   "cell_type": "code",
   "execution_count": 29,
   "id": "770845de",
   "metadata": {},
   "outputs": [
    {
     "name": "stdout",
     "output_type": "stream",
     "text": [
      "Z-statistic: -10.049875621120888\n",
      "P-value: 4.599172203850193e-24\n",
      "Reject the null hypothesis: The drug significantly reduces blood pressure.\n"
     ]
    }
   ],
   "source": [
    "import numpy as np\n",
    "import scipy.stats as stats\n",
    "\n",
    "# Data for before and after taking the drug\n",
    "before_drug = np.array([145, 150, 140, 135, 155, 160, 152, 148, 130, 138])\n",
    "after_drug = np.array([130, 140, 132, 128, 145, 148, 138, 136, 125, 130])\n",
    "\n",
    "# Calculate the differences between before and after measurements\n",
    "differences = after_drug - before_drug\n",
    "\n",
    "# Sample size\n",
    "n = len(differences)\n",
    "\n",
    "# Mean of the differences\n",
    "mean_d = np.mean(differences)\n",
    "\n",
    "# Standard deviation of the differences\n",
    "std_dev_d = np.std(differences, ddof=1)\n",
    "\n",
    "# Standard error of the mean difference\n",
    "se_d = std_dev_d / np.sqrt(n)\n",
    "\n",
    "# Z-statistic\n",
    "z = mean_d / se_d\n",
    "\n",
    "# P-value for one-tailed test (since we're testing if after < before)\n",
    "p_value = stats.norm.cdf(z)\n",
    "\n",
    "# Output results\n",
    "print(f\"Z-statistic: {z}\")\n",
    "print(f\"P-value: {p_value}\")\n",
    "\n",
    "# Significance level (alpha)\n",
    "alpha = 0.05\n",
    "\n",
    "# Conclusion\n",
    "if p_value < alpha:\n",
    "    print(\"Reject the null hypothesis: The drug significantly reduces blood pressure.\")\n",
    "else:\n",
    "    print(\"Fail to reject the null hypothesis: No significant reduction in blood pressure.\")\n"
   ]
  },
  {
   "cell_type": "markdown",
   "id": "f787d16d",
   "metadata": {},
   "source": [
    "14)  A customer service department claims that their average response time is less than 5 minutes. A sample of recent customer interactions was taken, and the response times were recorded"
   ]
  },
  {
   "cell_type": "code",
   "execution_count": 30,
   "id": "148b7154",
   "metadata": {},
   "outputs": [
    {
     "name": "stdout",
     "output_type": "stream",
     "text": [
      "Z-statistic: -3.184457226042963\n",
      "P-value: 0.0007251287113068958\n",
      "Reject the null hypothesis: The average response time is less than 5 minutes.\n"
     ]
    }
   ],
   "source": [
    "import numpy as np\n",
    "import scipy.stats as stats\n",
    "\n",
    "# Data for response times\n",
    "response_times = np.array([4.3, 3.8, 5.1, 4.9, 4.7, 4.2, 5.2, 4.5, 4.6, 4.4])\n",
    "\n",
    "# Claim of average response time\n",
    "claimed_mean = 5\n",
    "\n",
    "# Sample size\n",
    "n = len(response_times)\n",
    "\n",
    "# Sample mean\n",
    "sample_mean = np.mean(response_times)\n",
    "\n",
    "# Sample standard deviation\n",
    "sample_std = np.std(response_times, ddof=1)\n",
    "\n",
    "# Standard error\n",
    "se = sample_std / np.sqrt(n)\n",
    "\n",
    "# Z-statistic\n",
    "z = (sample_mean - claimed_mean) / se\n",
    "\n",
    "# P-value for one-tailed test (since we're testing if the average is less than 5)\n",
    "p_value = stats.norm.cdf(z)\n",
    "\n",
    "# Output results\n",
    "print(f\"Z-statistic: {z}\")\n",
    "print(f\"P-value: {p_value}\")\n",
    "\n",
    "# Significance level (alpha)\n",
    "alpha = 0.05\n",
    "\n",
    "# Conclusion\n",
    "if p_value < alpha:\n",
    "    print(\"Reject the null hypothesis: The average response time is less than 5 minutes.\")\n",
    "else:\n",
    "    print(\"Fail to reject the null hypothesis: No significant evidence that the average response time is less than 5 minutes.\")\n"
   ]
  },
  {
   "cell_type": "markdown",
   "id": "92cfdc92",
   "metadata": {},
   "source": [
    "15) A company is testing two different website layouts to see which one leads to higher click-through rates. Write a Python function to perform an A/B test analysis, including calculating the t-statistic, degrees of freedom, and p-value"
   ]
  },
  {
   "cell_type": "code",
   "execution_count": 31,
   "id": "7bac10b9",
   "metadata": {},
   "outputs": [
    {
     "name": "stdout",
     "output_type": "stream",
     "text": [
      "t-statistic: -7.298102156175071\n",
      "Degrees of freedom: 17.879871863320876\n",
      "P-value: 4.5982980353946785e-07\n",
      "Reject the null hypothesis: Layout B has a significantly higher click-through rate than Layout A.\n"
     ]
    }
   ],
   "source": [
    "import numpy as np\n",
    "import scipy.stats as stats\n",
    "\n",
    "def ab_test(layout_a_clicks, layout_b_clicks, alpha=0.05):\n",
    "    # Sample sizes\n",
    "    n_a = len(layout_a_clicks)\n",
    "    n_b = len(layout_b_clicks)\n",
    "\n",
    "    # Sample means\n",
    "    mean_a = np.mean(layout_a_clicks)\n",
    "    mean_b = np.mean(layout_b_clicks)\n",
    "\n",
    "    # Sample standard deviations\n",
    "    std_a = np.std(layout_a_clicks, ddof=1)\n",
    "    std_b = np.std(layout_b_clicks, ddof=1)\n",
    "\n",
    "    # Calculate the t-statistic\n",
    "    t_stat = (mean_a - mean_b) / np.sqrt((std_a**2 / n_a) + (std_b**2 / n_b))\n",
    "\n",
    "    # Degrees of freedom\n",
    "    numerator = (std_a**2 / n_a + std_b**2 / n_b) ** 2\n",
    "    denominator = ((std_a**2 / n_a) ** 2) / (n_a - 1) + ((std_b**2 / n_b) ** 2) / (n_b - 1)\n",
    "    df = numerator / denominator\n",
    "\n",
    "    # P-value from the t-distribution (one-tailed test)\n",
    "    p_value = stats.t.cdf(t_stat, df)\n",
    "\n",
    "    # Output results\n",
    "    print(f\"t-statistic: {t_stat}\")\n",
    "    print(f\"Degrees of freedom: {df}\")\n",
    "    print(f\"P-value: {p_value}\")\n",
    "\n",
    "    # Conclusion\n",
    "    if p_value < alpha:\n",
    "        print(\"Reject the null hypothesis: Layout B has a significantly higher click-through rate than Layout A.\")\n",
    "    else:\n",
    "        print(\"Fail to reject the null hypothesis: No significant difference in click-through rates between Layout A and Layout B.\")\n",
    "\n",
    "# Data for Layout A and Layout B\n",
    "layout_a_clicks = [28, 32, 33, 29, 31, 34, 30, 35, 36, 37]\n",
    "layout_b_clicks = [40, 41, 38, 42, 39, 44, 43, 41, 45, 47]\n",
    "\n",
    "# Perform the A/B test analysis\n",
    "ab_test(layout_a_clicks, layout_b_clicks)\n"
   ]
  },
  {
   "cell_type": "markdown",
   "id": "e63bebde",
   "metadata": {},
   "source": [
    "16) U A pharmaceutical company wants to determine if a new drug is more effective than an existing drug in reducing cholesterol levels. Create a program to analyze the clinical trial data and calculate the t\u0002statistic and p-value for the treatment effect"
   ]
  },
  {
   "cell_type": "code",
   "execution_count": 32,
   "id": "388d782c",
   "metadata": {},
   "outputs": [
    {
     "name": "stdout",
     "output_type": "stream",
     "text": [
      "t-statistic: 4.140480986208661\n",
      "Degrees of freedom: 17.866770765582338\n",
      "P-value: 0.9996885385527265\n",
      "Fail to reject the null hypothesis: No significant difference in cholesterol levels between the new and existing drugs.\n"
     ]
    }
   ],
   "source": [
    "import numpy as np\n",
    "import scipy.stats as stats\n",
    "\n",
    "def t_test_treatment_effect(existing_drug_levels, new_drug_levels, alpha=0.05):\n",
    "    # Sample sizes\n",
    "    n1 = len(existing_drug_levels)\n",
    "    n2 = len(new_drug_levels)\n",
    "\n",
    "    # Sample means\n",
    "    mean1 = np.mean(existing_drug_levels)\n",
    "    mean2 = np.mean(new_drug_levels)\n",
    "\n",
    "    # Sample standard deviations\n",
    "    std1 = np.std(existing_drug_levels, ddof=1)\n",
    "    std2 = np.std(new_drug_levels, ddof=1)\n",
    "\n",
    "    # Calculate the t-statistic\n",
    "    t_stat = (mean1 - mean2) / np.sqrt((std1**2 / n1) + (std2**2 / n2))\n",
    "\n",
    "    # Degrees of freedom\n",
    "    numerator = (std1**2 / n1 + std2**2 / n2) ** 2\n",
    "    denominator = ((std1**2 / n1) ** 2) / (n1 - 1) + ((std2**2 / n2) ** 2) / (n2 - 1)\n",
    "    df = numerator / denominator\n",
    "\n",
    "    # P-value for one-tailed test (since we're testing if the new drug is more effective)\n",
    "    p_value = stats.t.cdf(t_stat, df)\n",
    "\n",
    "    # Output results\n",
    "    print(f\"t-statistic: {t_stat}\")\n",
    "    print(f\"Degrees of freedom: {df}\")\n",
    "    print(f\"P-value: {p_value}\")\n",
    "\n",
    "    # Conclusion\n",
    "    if p_value < alpha:\n",
    "        print(\"Reject the null hypothesis: The new drug is more effective in reducing cholesterol levels.\")\n",
    "    else:\n",
    "        print(\"Fail to reject the null hypothesis: No significant difference in cholesterol levels between the new and existing drugs.\")\n",
    "\n",
    "# Data for cholesterol levels\n",
    "existing_drug_levels = [180, 182, 175, 185, 178, 176, 172, 184, 179, 183]\n",
    "new_drug_levels = [170, 172, 165, 168, 175, 173, 170, 178, 172, 176]\n",
    "\n",
    "# Perform the t-test for treatment effect\n",
    "t_test_treatment_effect(existing_drug_levels, new_drug_levels)\n"
   ]
  },
  {
   "cell_type": "markdown",
   "id": "3b20b479",
   "metadata": {},
   "source": [
    "17) A school district introduces an educational intervention program to improve math scores. Write a Python function to analyze pre- and post-intervention test scores, calculating the t-statistic and p-value to determine if the intervention had a significant impact"
   ]
  },
  {
   "cell_type": "code",
   "execution_count": 34,
   "id": "c1964fa1",
   "metadata": {},
   "outputs": [
    {
     "name": "stdout",
     "output_type": "stream",
     "text": [
      "t-statistic: 4.428408839657611\n",
      "Degrees of freedom: 9\n",
      "P-value: 0.0016509548165795493\n",
      "Reject the null hypothesis: The intervention had a significant impact on test scores.\n"
     ]
    }
   ],
   "source": [
    "import numpy as np\n",
    "import scipy.stats as stats\n",
    "\n",
    "def intervention_impact(pre_intervention_scores, post_intervention_scores, alpha=0.05):\n",
    "    # Calculate the differences between pre and post scores\n",
    "    differences = np.array(post_intervention_scores) - np.array(pre_intervention_scores)\n",
    "\n",
    "    # Sample size\n",
    "    n = len(differences)\n",
    "\n",
    "    # Mean and standard deviation of the differences\n",
    "    mean_diff = np.mean(differences)\n",
    "    std_diff = np.std(differences, ddof=1)\n",
    "\n",
    "    # Calculate the t-statistic\n",
    "    t_stat = mean_diff / (std_diff / np.sqrt(n))\n",
    "\n",
    "    # Degrees of freedom (n - 1 for paired sample t-test)\n",
    "    df = n - 1\n",
    "\n",
    "    # P-value for a two-tailed test (since we want to check for any significant difference)\n",
    "    p_value = stats.t.sf(np.abs(t_stat), df) * 2  # Multiply by 2 for two-tailed test\n",
    "\n",
    "    # Output results\n",
    "    print(f\"t-statistic: {t_stat}\")\n",
    "    print(f\"Degrees of freedom: {df}\")\n",
    "    print(f\"P-value: {p_value}\")\n",
    "\n",
    "    # Conclusion\n",
    "    if p_value < alpha:\n",
    "        print(\"Reject the null hypothesis: The intervention had a significant impact on test scores.\")\n",
    "    else:\n",
    "        print(\"Fail to reject the null hypothesis: No significant impact of the intervention on test scores.\")\n",
    "\n",
    "# Data for pre- and post-intervention test scores\n",
    "pre_intervention_scores = [80, 85, 90, 75, 88, 82, 92, 78, 85, 87]\n",
    "post_intervention_scores = [90, 92, 88, 92, 95, 91, 96, 93, 89, 93]\n",
    "\n",
    "# Perform the paired t-test analysis\n",
    "intervention_impact(pre_intervention_scores, post_intervention_scores)\n"
   ]
  },
  {
   "cell_type": "markdown",
   "id": "f7a2ecef",
   "metadata": {},
   "source": [
    "18) An HR department wants to investigate if there's a gender-based salary gap within the company. Develop a program to analyze salary data, calculate the t-statistic, and determine if there's a statistically significant difference between the average salaries of male and female employees."
   ]
  },
  {
   "cell_type": "code",
   "execution_count": null,
   "id": "00c6ff0d",
   "metadata": {},
   "outputs": [],
   "source": []
  },
  {
   "cell_type": "code",
   "execution_count": 35,
   "id": "c800f7db",
   "metadata": {},
   "outputs": [
    {
     "name": "stdout",
     "output_type": "stream",
     "text": [
      "t-statistic: 0.061142089696313844\n",
      "Degrees of freedom: 36.166783312917644\n",
      "P-value: 0.9515826849267927\n",
      "Fail to reject the null hypothesis: No significant gender-based salary gap.\n"
     ]
    }
   ],
   "source": [
    "import numpy as np\n",
    "import scipy.stats as stats\n",
    "\n",
    "def gender_salary_gap(male_salaries, female_salaries, alpha=0.05):\n",
    "    # Sample sizes\n",
    "    n_male = len(male_salaries)\n",
    "    n_female = len(female_salaries)\n",
    "\n",
    "    # Sample means\n",
    "    mean_male = np.mean(male_salaries)\n",
    "    mean_female = np.mean(female_salaries)\n",
    "\n",
    "    # Sample standard deviations\n",
    "    std_male = np.std(male_salaries, ddof=1)\n",
    "    std_female = np.std(female_salaries, ddof=1)\n",
    "\n",
    "    # Calculate the t-statistic\n",
    "    t_stat = (mean_male - mean_female) / np.sqrt((std_male**2 / n_male) + (std_female**2 / n_female))\n",
    "\n",
    "    # Degrees of freedom\n",
    "    numerator = (std_male**2 / n_male + std_female**2 / n_female) ** 2\n",
    "    denominator = ((std_male**2 / n_male) ** 2) / (n_male - 1) + ((std_female**2 / n_female) ** 2) / (n_female - 1)\n",
    "    df = numerator / denominator\n",
    "\n",
    "    # P-value for two-tailed test\n",
    "    p_value = stats.t.sf(np.abs(t_stat), df) * 2  # Multiply by 2 for two-tailed test\n",
    "\n",
    "    # Output results\n",
    "    print(f\"t-statistic: {t_stat}\")\n",
    "    print(f\"Degrees of freedom: {df}\")\n",
    "    print(f\"P-value: {p_value}\")\n",
    "\n",
    "    # Conclusion\n",
    "    if p_value < alpha:\n",
    "        print(\"Reject the null hypothesis: There is a significant gender-based salary gap.\")\n",
    "    else:\n",
    "        print(\"Fail to reject the null hypothesis: No significant gender-based salary gap.\")\n",
    "\n",
    "# Generate synthetic salary data for male and female employees\n",
    "np.random.seed(0)  # For reproducibility\n",
    "male_salaries = np.random.normal(loc=50000, scale=10000, size=20)\n",
    "female_salaries = np.random.normal(loc=55000, scale=9000, size=20)\n",
    "\n",
    "# Perform the t-test for salary gap analysis\n",
    "gender_salary_gap(male_salaries, female_salaries)\n"
   ]
  },
  {
   "cell_type": "markdown",
   "id": "eb465c04",
   "metadata": {},
   "source": [
    "19) A manufacturer produces two different versions of a product and wants to compare their quality scores. Create a Python function to analyze quality assessment data, calculate the t-statistic, and decide whether there's a significant difference in quality between the two versions"
   ]
  },
  {
   "cell_type": "code",
   "execution_count": 36,
   "id": "469432a0",
   "metadata": {},
   "outputs": [
    {
     "name": "stdout",
     "output_type": "stream",
     "text": [
      "t-statistic: 11.325830417646698\n",
      "Degrees of freedom: 44.47061033283036\n",
      "P-value: 1.078754084378157e-14\n",
      "Reject the null hypothesis: There is a significant difference in quality scores between the two versions.\n"
     ]
    }
   ],
   "source": [
    "import numpy as np\n",
    "import scipy.stats as stats\n",
    "\n",
    "def compare_quality(version1_scores, version2_scores, alpha=0.05):\n",
    "    # Sample sizes\n",
    "    n_version1 = len(version1_scores)\n",
    "    n_version2 = len(version2_scores)\n",
    "\n",
    "    # Sample means\n",
    "    mean_version1 = np.mean(version1_scores)\n",
    "    mean_version2 = np.mean(version2_scores)\n",
    "\n",
    "    # Sample standard deviations\n",
    "    std_version1 = np.std(version1_scores, ddof=1)\n",
    "    std_version2 = np.std(version2_scores, ddof=1)\n",
    "\n",
    "    # Calculate the t-statistic\n",
    "    t_stat = (mean_version1 - mean_version2) / np.sqrt((std_version1**2 / n_version1) + (std_version2**2 / n_version2))\n",
    "\n",
    "    # Degrees of freedom\n",
    "    numerator = (std_version1**2 / n_version1 + std_version2**2 / n_version2) ** 2\n",
    "    denominator = ((std_version1**2 / n_version1) ** 2) / (n_version1 - 1) + ((std_version2**2 / n_version2) ** 2) / (n_version2 - 1)\n",
    "    df = numerator / denominator\n",
    "\n",
    "    # P-value for two-tailed test\n",
    "    p_value = stats.t.sf(np.abs(t_stat), df) * 2  # Multiply by 2 for two-tailed test\n",
    "\n",
    "    # Output results\n",
    "    print(f\"t-statistic: {t_stat}\")\n",
    "    print(f\"Degrees of freedom: {df}\")\n",
    "    print(f\"P-value: {p_value}\")\n",
    "\n",
    "    # Conclusion\n",
    "    if p_value < alpha:\n",
    "        print(\"Reject the null hypothesis: There is a significant difference in quality scores between the two versions.\")\n",
    "    else:\n",
    "        print(\"Fail to reject the null hypothesis: No significant difference in quality scores between the two versions.\")\n",
    "\n",
    "# Data for version 1 and version 2 quality scores\n",
    "version1_scores = [85, 88, 82, 89, 87, 84, 90, 88, 85, 86, 91, 83, 87, 84, 89, 86, 84, 88, 85, 86, 89, 90, 87, 88, 85]\n",
    "version2_scores = [80, 78, 83, 81, 79, 82, 76, 80, 78, 81, 77, 82, 80, 79, 82, 79, 80, 81, 79, 82, 79, 78, 80, 81, 82]\n",
    "\n",
    "# Perform the t-test for quality comparison\n",
    "compare_quality(version1_scores, version2_scores)\n"
   ]
  },
  {
   "cell_type": "markdown",
   "id": "db55c17f",
   "metadata": {},
   "source": [
    "20)  A restaurant chain collects customer satisfaction scores for two different branches. Write a program to analyze the scores, calculate the t-statistic, and determine if there's a statistically significant difference in customer satisfaction between the branches"
   ]
  },
  {
   "cell_type": "code",
   "execution_count": 37,
   "id": "2d085837",
   "metadata": {},
   "outputs": [
    {
     "name": "stdout",
     "output_type": "stream",
     "text": [
      "t-statistic: 5.480077554195743\n",
      "Degrees of freedom: 60.0\n",
      "P-value: 8.895290509945657e-07\n",
      "Reject the null hypothesis: There is a significant difference in customer satisfaction between the two branches.\n"
     ]
    }
   ],
   "source": [
    "import numpy as np\n",
    "import scipy.stats as stats\n",
    "\n",
    "def compare_satisfaction_scores(branch_a_scores, branch_b_scores, alpha=0.05):\n",
    "    # Sample sizes\n",
    "    n_a = len(branch_a_scores)\n",
    "    n_b = len(branch_b_scores)\n",
    "\n",
    "    # Sample means\n",
    "    mean_a = np.mean(branch_a_scores)\n",
    "    mean_b = np.mean(branch_b_scores)\n",
    "\n",
    "    # Sample standard deviations\n",
    "    std_a = np.std(branch_a_scores, ddof=1)\n",
    "    std_b = np.std(branch_b_scores, ddof=1)\n",
    "\n",
    "    # Calculate the t-statistic\n",
    "    t_stat = (mean_a - mean_b) / np.sqrt((std_a**2 / n_a) + (std_b**2 / n_b))\n",
    "\n",
    "    # Degrees of freedom\n",
    "    numerator = (std_a**2 / n_a + std_b**2 / n_b) ** 2\n",
    "    denominator = ((std_a**2 / n_a) ** 2) / (n_a - 1) + ((std_b**2 / n_b) ** 2) / (n_b - 1)\n",
    "    df = numerator / denominator\n",
    "\n",
    "    # P-value for two-tailed test\n",
    "    p_value = stats.t.sf(np.abs(t_stat), df) * 2  # Multiply by 2 for two-tailed test\n",
    "\n",
    "    # Output results\n",
    "    print(f\"t-statistic: {t_stat}\")\n",
    "    print(f\"Degrees of freedom: {df}\")\n",
    "    print(f\"P-value: {p_value}\")\n",
    "\n",
    "    # Conclusion\n",
    "    if p_value < alpha:\n",
    "        print(\"Reject the null hypothesis: There is a significant difference in customer satisfaction between the two branches.\")\n",
    "    else:\n",
    "        print(\"Fail to reject the null hypothesis: No significant difference in customer satisfaction between the two branches.\")\n",
    "\n",
    "# Data for customer satisfaction scores for two branches\n",
    "branch_a_scores = [4, 5, 3, 4, 5, 4, 5, 3, 4, 4, 5, 4, 4, 3, 4, 5, 5, 4, 3, 4, 5, 4, 3, 5, 4, 4, 5, 3, 4, 5, 4]\n",
    "branch_b_scores = [3, 4, 2, 3, 4, 3, 4, 2, 3, 3, 4, 3, 3, 2, 3, 4, 4, 3, 2, 3, 4, 3, 2, 4, 3, 3, 4, 2, 3, 4, 3]\n",
    "\n",
    "# Perform the t-test for customer satisfaction comparison\n",
    "compare_satisfaction_scores(branch_a_scores, branch_b_scores)\n"
   ]
  },
  {
   "cell_type": "markdown",
   "id": "c279706b",
   "metadata": {},
   "source": [
    "21) A political analyst wants to determine if there is a significant association between age groups and voter preferences (Candidate A or Candidate B). They collect data from a sample of 500 voters and classify them into different age groups and candidate preferences. Perform a Chi-Square test to determine if there is a significant association between age groups and voter preferences"
   ]
  },
  {
   "cell_type": "code",
   "execution_count": 38,
   "id": "12c64eac",
   "metadata": {},
   "outputs": [
    {
     "name": "stdout",
     "output_type": "stream",
     "text": [
      "Contingency Table:\n",
      "Voter Preference  Candidate A  Candidate B\n",
      "Age Group                                 \n",
      "18-30                       4            8\n",
      "31-50                       6            5\n",
      "51+                         4            3\n",
      "\n",
      "Chi-Square Statistic: 1.4401669758812612\n",
      "P-value: 0.48671161971286614\n",
      "Degrees of Freedom: 2\n",
      "Expected Frequencies:\n",
      "[[5.6        6.4       ]\n",
      " [5.13333333 5.86666667]\n",
      " [3.26666667 3.73333333]]\n",
      "\n",
      "Fail to reject the null hypothesis: No significant association between age groups and voter preferences.\n"
     ]
    }
   ],
   "source": [
    "import numpy as np\n",
    "import pandas as pd\n",
    "import scipy.stats as stats\n",
    "\n",
    "# Generate data\n",
    "np.random.seed(0)\n",
    "\n",
    "age_groups = np.random.choice(['18-30', '31-50', '51+'], size=30)\n",
    "voter_preferences = np.random.choice(['Candidate A', 'Candidate B'], size=30)\n",
    "\n",
    "# Create a DataFrame\n",
    "data = pd.DataFrame({'Age Group': age_groups, 'Voter Preference': voter_preferences})\n",
    "\n",
    "# Create a contingency table\n",
    "contingency_table = pd.crosstab(data['Age Group'], data['Voter Preference'])\n",
    "\n",
    "# Perform Chi-Square test\n",
    "chi2_stat, p_value, dof, expected = stats.chi2_contingency(contingency_table)\n",
    "\n",
    "# Output the results\n",
    "print(\"Contingency Table:\")\n",
    "print(contingency_table)\n",
    "print(\"\\nChi-Square Statistic:\", chi2_stat)\n",
    "print(\"P-value:\", p_value)\n",
    "print(\"Degrees of Freedom:\", dof)\n",
    "print(\"Expected Frequencies:\")\n",
    "print(expected)\n",
    "\n",
    "# Conclusion\n",
    "if p_value < 0.05:\n",
    "    print(\"\\nReject the null hypothesis: There is a significant association between age groups and voter preferences.\")\n",
    "else:\n",
    "    print(\"\\nFail to reject the null hypothesis: No significant association between age groups and voter preferences.\")\n"
   ]
  },
  {
   "cell_type": "markdown",
   "id": "6879a8c5",
   "metadata": {},
   "source": [
    "22)  A company conducted a customer satisfaction survey to determine if there is a significant relationship between product satisfaction levels (Satisfied, Neutral, Dissatisfied) and the region where customers are located (East, West, North, South). The survey data is summarized in a contingency table. Conduct a Chi\u0002Square test to determine if there is a significant relationship between product satisfaction levels and customer regions"
   ]
  },
  {
   "cell_type": "code",
   "execution_count": 39,
   "id": "5ca9e136",
   "metadata": {},
   "outputs": [
    {
     "name": "stdout",
     "output_type": "stream",
     "text": [
      "Contingency Table:\n",
      "[[50 30 40 20]\n",
      " [30 40 30 50]\n",
      " [20 30 40 30]]\n",
      "\n",
      "Chi-Square Statistic: 27.777056277056275\n",
      "P-value: 0.00010349448486004387\n",
      "Degrees of Freedom: 6\n",
      "Expected Frequencies:\n",
      "[[34.14634146 34.14634146 37.56097561 34.14634146]\n",
      " [36.58536585 36.58536585 40.24390244 36.58536585]\n",
      " [29.26829268 29.26829268 32.19512195 29.26829268]]\n",
      "\n",
      "Reject the null hypothesis: There is a significant relationship between product satisfaction levels and customer regions.\n"
     ]
    }
   ],
   "source": [
    "import numpy as np\n",
    "import scipy.stats as stats\n",
    "\n",
    "# Sample data: Product satisfaction levels (rows) vs. Customer regions (columns)\n",
    "data = np.array([[50, 30, 40, 20], [30, 40, 30, 50], [20, 30, 40, 30]])\n",
    "\n",
    "# Perform Chi-Square test\n",
    "chi2_stat, p_value, dof, expected = stats.chi2_contingency(data)\n",
    "\n",
    "# Output the results\n",
    "print(\"Contingency Table:\")\n",
    "print(data)\n",
    "print(\"\\nChi-Square Statistic:\", chi2_stat)\n",
    "print(\"P-value:\", p_value)\n",
    "print(\"Degrees of Freedom:\", dof)\n",
    "print(\"Expected Frequencies:\")\n",
    "print(expected)\n",
    "\n",
    "# Conclusion\n",
    "if p_value < 0.05:\n",
    "    print(\"\\nReject the null hypothesis: There is a significant relationship between product satisfaction levels and customer regions.\")\n",
    "else:\n",
    "    print(\"\\nFail to reject the null hypothesis: No significant relationship between product satisfaction levels and customer regions.\")\n"
   ]
  },
  {
   "cell_type": "markdown",
   "id": "2d579fcd",
   "metadata": {},
   "source": [
    "23) A company implemented an employee training program to improve job performance (Effective, Neutral, Ineffective). After the training, they collected data from a sample of employees and classified them based on their job performance before and after the training. Perform a Chi-Square test to determine if there is a significant difference between job performance levels before and after the training"
   ]
  },
  {
   "cell_type": "code",
   "execution_count": 40,
   "id": "dd0d559d",
   "metadata": {},
   "outputs": [
    {
     "name": "stdout",
     "output_type": "stream",
     "text": [
      "Contingency Table:\n",
      "[[50 30 20]\n",
      " [30 40 30]\n",
      " [20 30 40]]\n",
      "\n",
      "Chi-Square Statistic: 22.161728395061726\n",
      "P-value: 0.00018609719479882554\n",
      "Degrees of Freedom: 4\n",
      "Expected Frequencies:\n",
      "[[34.48275862 34.48275862 31.03448276]\n",
      " [34.48275862 34.48275862 31.03448276]\n",
      " [31.03448276 31.03448276 27.93103448]]\n",
      "\n",
      "Reject the null hypothesis: There is a significant difference between job performance levels before and after training.\n"
     ]
    }
   ],
   "source": [
    "import numpy as np\n",
    "import scipy.stats as stats\n",
    "\n",
    "# Sample data: Job performance levels before (rows) and after (columns) training\n",
    "data = np.array([[50, 30, 20], [30, 40, 30], [20, 30, 40]])\n",
    "\n",
    "# Perform Chi-Square test\n",
    "chi2_stat, p_value, dof, expected = stats.chi2_contingency(data)\n",
    "\n",
    "# Output the results\n",
    "print(\"Contingency Table:\")\n",
    "print(data)\n",
    "print(\"\\nChi-Square Statistic:\", chi2_stat)\n",
    "print(\"P-value:\", p_value)\n",
    "print(\"Degrees of Freedom:\", dof)\n",
    "print(\"Expected Frequencies:\")\n",
    "print(expected)\n",
    "\n",
    "# Conclusion\n",
    "if p_value < 0.05:\n",
    "    print(\"\\nReject the null hypothesis: There is a significant difference between job performance levels before and after training.\")\n",
    "else:\n",
    "    print(\"\\nFail to reject the null hypothesis: No significant difference between job performance levels before and after training.\")\n"
   ]
  },
  {
   "cell_type": "markdown",
   "id": "515b9cb3",
   "metadata": {},
   "source": [
    "24) A company produces three different versions of a product: Standard, Premium, and Deluxe. The company wants to determine if there is a significant difference in customer satisfaction scores among the three product versions. They conducted a survey and collected customer satisfaction scores for each version from a random sample of customers. Perform an ANOVA test to determine if there is a significant difference in customer satisfaction scores"
   ]
  },
  {
   "cell_type": "code",
   "execution_count": 41,
   "id": "f9a8350f",
   "metadata": {},
   "outputs": [
    {
     "name": "stdout",
     "output_type": "stream",
     "text": [
      "ANOVA Results:\n",
      "F-Statistic: 27.03556231003039\n",
      "P-value: 3.578632885734896e-07\n",
      "\n",
      "Reject the null hypothesis: There is a significant difference in customer satisfaction scores among the three product versions.\n"
     ]
    }
   ],
   "source": [
    "import numpy as np\n",
    "import scipy.stats as stats\n",
    "\n",
    "# Sample data: Customer satisfaction scores for each product version\n",
    "standard_scores = [80, 85, 90, 78, 88, 82, 92, 78, 85, 87]\n",
    "premium_scores = [90, 92, 88, 92, 95, 91, 96, 93, 89, 93]\n",
    "deluxe_scores = [95, 98, 92, 97, 96, 94, 98, 97, 92, 99]\n",
    "\n",
    "# Perform ANOVA test\n",
    "f_stat, p_value = stats.f_oneway(standard_scores, premium_scores, deluxe_scores)\n",
    "\n",
    "# Output the results\n",
    "print(\"ANOVA Results:\")\n",
    "print(\"F-Statistic:\", f_stat)\n",
    "print(\"P-value:\", p_value)\n",
    "\n",
    "# Conclusion\n",
    "if p_value < 0.05:\n",
    "    print(\"\\nReject the null hypothesis: There is a significant difference in customer satisfaction scores among the three product versions.\")\n",
    "else:\n",
    "    print(\"\\nFail to reject the null hypothesis: No significant difference in customer satisfaction scores among the three product versions.\")\n"
   ]
  }
 ],
 "metadata": {
  "kernelspec": {
   "display_name": "Python 3",
   "language": "python",
   "name": "python3"
  },
  "language_info": {
   "codemirror_mode": {
    "name": "ipython",
    "version": 3
   },
   "file_extension": ".py",
   "mimetype": "text/x-python",
   "name": "python",
   "nbconvert_exporter": "python",
   "pygments_lexer": "ipython3",
   "version": "3.11.0"
  }
 },
 "nbformat": 4,
 "nbformat_minor": 5
}
