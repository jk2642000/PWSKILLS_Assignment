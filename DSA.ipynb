{
  "nbformat": 4,
  "nbformat_minor": 0,
  "metadata": {
    "colab": {
      "provenance": [],
      "collapsed_sections": [
        "ATBoKENGa6aS",
        "qzlYdTzud956",
        "8g5ldytQfr5u",
        "pCfyColTgGma",
        "dA-wZJwngxHI",
        "HD2Gdfh_hWob",
        "JzELLy4Lj_fE"
      ]
    },
    "kernelspec": {
      "name": "python3",
      "display_name": "Python 3"
    },
    "language_info": {
      "name": "python"
    }
  },
  "cells": [
    {
      "cell_type": "markdown",
      "source": [
        "#Page 1"
      ],
      "metadata": {
        "id": "ATBoKENGa6aS"
      }
    },
    {
      "cell_type": "code",
      "execution_count": 2,
      "metadata": {
        "colab": {
          "base_uri": "https://localhost:8080/"
        },
        "id": "V_POMe99Y1Kv",
        "outputId": "f6acfdfb-1427-4d7d-b0c8-58efd89e7ae5"
      },
      "outputs": [
        {
          "output_type": "stream",
          "name": "stdout",
          "text": [
            "5 -> 4 -> 3 -> 2 -> 1 -> None\n"
          ]
        }
      ],
      "source": [
        "# ##Problem 1: Reverse a singly linked list.\n",
        "\n",
        "# Input: 1 -> 2 -> 3 -> 4 -> 5\n",
        "# Output: 5 -> 4 -> 3 -> 2 -> 1'''\n",
        "class ListNode:\n",
        "    def __init__(self, val=0, next=None):\n",
        "        self.val = val\n",
        "        self.next = next\n",
        "\n",
        "class Solution:\n",
        "    def reverseList(self, head: ListNode) -> ListNode:\n",
        "        prev = None\n",
        "        curr = head\n",
        "        while curr:\n",
        "            nextTemp = curr.next\n",
        "            curr.next = prev\n",
        "            prev = curr\n",
        "            curr = nextTemp\n",
        "        return prev\n",
        "\n",
        "# Example usage:\n",
        "head = ListNode(1, ListNode(2, ListNode(3, ListNode(4, ListNode(5)))))\n",
        "result = Solution().reverseList(head)\n",
        "\n",
        "while result:\n",
        "  print(result.val, end=\" -> \")\n",
        "  result = result.next\n",
        "print(\"None\")\n"
      ]
    },
    {
      "cell_type": "code",
      "source": [
        "# Problem 2: Merge two sorted linked lists into one sorted linked list.\n",
        "# Input: List 1: 1 -> 3 -> 5, List 2: 2 -> 4 -> 6\n",
        "# Output: 1 -> 2 -> 3 -> 4 -> 5 -> 6\n",
        "\n",
        "class ListNode:\n",
        "    def __init__(self, val=0, next=None):\n",
        "        self.val = val\n",
        "        self.next = next\n",
        "\n",
        "class Solution:\n",
        "    def mergeTwoLists(self, list1: ListNode, list2: ListNode) -> ListNode:\n",
        "        dummy = head = ListNode(0)\n",
        "        while list1 and list2:\n",
        "            if list1.val < list2.val:\n",
        "                head.next = list1\n",
        "                list1 = list1.next\n",
        "            else:\n",
        "                head.next = list2\n",
        "                list2 = list2.next\n",
        "            head = head.next\n",
        "        head.next = list1 or list2  # Append remaining elements of either list\n",
        "        return dummy.next\n",
        "\n",
        "# Example usage:\n",
        "list1 = ListNode(1, ListNode(3, ListNode(5)))\n",
        "list2 = ListNode(2, ListNode(4, ListNode(6)))\n",
        "result = Solution().mergeTwoLists(list1, list2)\n",
        "\n",
        "while result:\n",
        "  print(result.val, end=\" -> \")\n",
        "  result = result.next\n",
        "print(\"None\")\n"
      ],
      "metadata": {
        "colab": {
          "base_uri": "https://localhost:8080/"
        },
        "id": "T1ta5SewY41z",
        "outputId": "90a30912-9ca2-44fc-e3f5-d0e4b75db28f"
      },
      "execution_count": 4,
      "outputs": [
        {
          "output_type": "stream",
          "name": "stdout",
          "text": [
            "1 -> 2 -> 3 -> 4 -> 5 -> 6 -> None\n"
          ]
        }
      ]
    },
    {
      "cell_type": "code",
      "source": [
        "# Problem 3: Remove the nth node from the end of a linked list.\n",
        "# Input: 1 -> 2 -> 3 -> 4 -> 5, n = 2\n",
        "# Output: 1 -> 2 -> 3 -> 5\n",
        "\n",
        "class Node:\n",
        "    \"\"\" A Node in a singly linked list \"\"\"\n",
        "    def __init__(self, value=None):\n",
        "        self.value = value\n",
        "        self.next = None\n",
        "\n",
        "class LinkedList:\n",
        "    \"\"\" A singly linked list \"\"\"\n",
        "    def __init__(self):\n",
        "        self.head = None\n",
        "\n",
        "    def append(self, value):\n",
        "        \"\"\" Append a value to the end of the linked list \"\"\"\n",
        "        if not self.head:\n",
        "            self.head = Node(value)\n",
        "        else:\n",
        "            current = self.head\n",
        "            while current.next:\n",
        "                current = current.next\n",
        "            current.next = Node(value)\n",
        "\n",
        "    def print_list(self):\n",
        "        \"\"\" Print all values in the linked list \"\"\"\n",
        "        current = self.head\n",
        "        while current:\n",
        "            print(current.value, end=\" -> \")\n",
        "            current = current.next\n",
        "        print(\"None\")\n",
        "\n",
        "    def remove_nth_from_end(self, n):\n",
        "        \"\"\" Remove the nth node from the end of the list \"\"\"\n",
        "        fast = slow = self.head\n",
        "\n",
        "        # Move fast pointer n steps ahead\n",
        "        for _ in range(n):\n",
        "            if fast is None:\n",
        "                return\n",
        "            fast = fast.next\n",
        "\n",
        "        # If removing the first node\n",
        "        if not fast:\n",
        "            self.head = self.head.next\n",
        "            return\n",
        "\n",
        "        # Move both pointers until fast reaches the end\n",
        "        while fast.next:\n",
        "            fast = fast.next\n",
        "            slow = slow.next\n",
        "\n",
        "        # Skip the nth node\n",
        "        slow.next = slow.next.next\n",
        "\n",
        "# Example usage\n",
        "linked_list = LinkedList()\n",
        "for value in [1, 2, 3, 4, 5]:\n",
        "    linked_list.append(value)\n",
        "\n",
        "print(\"Original List:\")\n",
        "linked_list.print_list()\n",
        "\n",
        "# Remove the 2nd node from the end\n",
        "linked_list.remove_nth_from_end(2)\n",
        "\n",
        "print(\"List after removing 2nd node from the end:\")\n",
        "linked_list.print_list()\n"
      ],
      "metadata": {
        "colab": {
          "base_uri": "https://localhost:8080/"
        },
        "id": "i9xSMswoZgQF",
        "outputId": "b2fd282f-3873-4cd1-fb22-fd2458f80a5f"
      },
      "execution_count": 5,
      "outputs": [
        {
          "output_type": "stream",
          "name": "stdout",
          "text": [
            "Original List:\n",
            "1 -> 2 -> 3 -> 4 -> 5 -> None\n",
            "List after removing 2nd node from the end:\n",
            "1 -> 2 -> 3 -> 5 -> None\n"
          ]
        }
      ]
    },
    {
      "cell_type": "code",
      "source": [
        "# Problem 4: Find the intersection point of two linked lists.\n",
        "# Input: List 1: 1 -> 2 -> 3 -> 4, List 2: 9 -> 8 -> 3 -> 4\n",
        "# Output: Node with value 3\n",
        "\n",
        "class Node:\n",
        "    \"\"\" A Node in a singly linked list \"\"\"\n",
        "    def __init__(self, value=None):\n",
        "        self.value = value\n",
        "        self.next = None\n",
        "\n",
        "class LinkedList:\n",
        "    \"\"\" A singly linked list \"\"\"\n",
        "    def __init__(self):\n",
        "        self.head = None\n",
        "\n",
        "    def append(self, value):\n",
        "        \"\"\" Append a value to the end of the linked list \"\"\"\n",
        "        if not self.head:\n",
        "            self.head = Node(value)\n",
        "        else:\n",
        "            current = self.head\n",
        "            while current.next:\n",
        "                current = current.next\n",
        "            current.next = Node(value)\n",
        "\n",
        "    def print_list(self):\n",
        "        \"\"\" Print all values in the linked list \"\"\"\n",
        "        current = self.head\n",
        "        while current:\n",
        "            print(current.value, end=\" -> \")\n",
        "            current = current.next\n",
        "        print(\"None\")\n",
        "\n",
        "def get_intersection_node(headA, headB):\n",
        "    \"\"\" Return the intersection node, if any \"\"\"\n",
        "    if not headA or not headB:\n",
        "        return None\n",
        "\n",
        "    lenA = lenB = 0\n",
        "    currA, currB = headA, headB\n",
        "\n",
        "    # Calculate the length of both linked lists\n",
        "    while currA:\n",
        "        lenA += 1\n",
        "        currA = currA.next\n",
        "    while currB:\n",
        "        lenB += 1\n",
        "        currB = currB.next\n",
        "\n",
        "    # Reset pointers to the head of each list\n",
        "    currA, currB = headA, headB\n",
        "\n",
        "    # Advance the pointer for the longer list by the difference in lengths\n",
        "    if lenA > lenB:\n",
        "        for _ in range(lenA - lenB):\n",
        "            currA = currA.next\n",
        "    else:\n",
        "        for _ in range(lenB - lenA):\n",
        "            currB = currB.next\n",
        "\n",
        "    # Move both pointers until the nodes are the same\n",
        "    while currA != currB:\n",
        "        currA = currA.next\n",
        "        currB = currB.next\n",
        "\n",
        "    return currA\n",
        "\n",
        "# Example usage\n",
        "list1 = LinkedList()\n",
        "list2 = LinkedList()\n",
        "\n",
        "# Building the lists where the tail part intersects\n",
        "for value in [1, 2, 3, 4]:\n",
        "    list1.append(value)\n",
        "for value in [9, 8]:\n",
        "    list2.append(value)\n",
        "\n",
        "# Manually create intersection\n",
        "intersection = list1.head.next.next  # Node with value 3\n",
        "list2.head.next.next = intersection\n",
        "\n",
        "print(\"List 1:\")\n",
        "list1.print_list()\n",
        "print(\"List 2:\")\n",
        "list2.print_list()\n",
        "\n",
        "# Find intersection\n",
        "intersection_node = get_intersection_node(list1.head, list2.head)\n",
        "if intersection_node:\n",
        "    print(f\"Intersection at node with value: {intersection_node.value}\")\n",
        "else:\n",
        "    print(\"No intersection found.\")\n"
      ],
      "metadata": {
        "colab": {
          "base_uri": "https://localhost:8080/"
        },
        "id": "mmwEMfYvZ3sk",
        "outputId": "16fa3908-e700-4217-bf31-93c006ec75b8"
      },
      "execution_count": 8,
      "outputs": [
        {
          "output_type": "stream",
          "name": "stdout",
          "text": [
            "List 1:\n",
            "1 -> 2 -> 3 -> 4 -> None\n",
            "List 2:\n",
            "9 -> 8 -> 3 -> 4 -> None\n",
            "Intersection at node with value: 3\n"
          ]
        }
      ]
    },
    {
      "cell_type": "code",
      "source": [
        "# Problem 5: Remove duplicates from a sorted linked list.\n",
        "\n",
        "# Input: 1 -> 1 -> 2 -> 3 -> 3\n",
        "\n",
        "# Output: 1 -> 2 -> 3\n",
        "\n",
        "class Node:\n",
        "    \"\"\" A Node in a singly linked list \"\"\"\n",
        "    def __init__(self, value=None):\n",
        "        self.value = value\n",
        "        self.next = None\n",
        "\n",
        "class LinkedList:\n",
        "    \"\"\" A singly linked list \"\"\"\n",
        "    def __init__(self):\n",
        "        self.head = None\n",
        "\n",
        "    def append(self, value):\n",
        "        \"\"\" Append a value to the end of the linked list \"\"\"\n",
        "        if not self.head:\n",
        "            self.head = Node(value)\n",
        "        else:\n",
        "            current = self.head\n",
        "            while current.next:\n",
        "                current = current.next\n",
        "            current.next = Node(value)\n",
        "\n",
        "    def print_list(self):\n",
        "        \"\"\" Print all values in the linked list \"\"\"\n",
        "        current = self.head\n",
        "        while current:\n",
        "            print(current.value, end=\" -> \")\n",
        "            current = current.next\n",
        "        print(\"None\")\n",
        "\n",
        "    def remove_duplicates(self):\n",
        "        \"\"\" Remove duplicates from a sorted linked list \"\"\"\n",
        "        current = self.head\n",
        "        while current and current.next:\n",
        "            if current.value == current.next.value:\n",
        "                current.next = current.next.next  # Skip the duplicate\n",
        "            else:\n",
        "                current = current.next\n",
        "\n",
        "# Example usage\n",
        "ll = LinkedList()\n",
        "for value in [1, 1, 2, 3, 3]:\n",
        "    ll.append(value)\n",
        "\n",
        "print(\"Original list:\")\n",
        "ll.print_list()\n",
        "\n",
        "ll.remove_duplicates()\n",
        "\n",
        "print(\"List after removing duplicates:\")\n",
        "ll.print_list()\n"
      ],
      "metadata": {
        "colab": {
          "base_uri": "https://localhost:8080/"
        },
        "id": "9Bg3HUI0aMyx",
        "outputId": "5bb84375-640a-4529-db53-596c280ea850"
      },
      "execution_count": 10,
      "outputs": [
        {
          "output_type": "stream",
          "name": "stdout",
          "text": [
            "Original list:\n",
            "1 -> 1 -> 2 -> 3 -> 3 -> None\n",
            "List after removing duplicates:\n",
            "1 -> 2 -> 3 -> None\n"
          ]
        }
      ]
    },
    {
      "cell_type": "code",
      "source": [
        "# Problem 6: Add two numbers represented by linked lists (where each node contains a single digit).\n",
        "# Input: List 1: 2 -> 4 -> 3, List 2: 5 -> 6 -> 4 (represents 342 + 465)\n",
        "# Output: 7 -> 0 -> 8 (represents 807)\n",
        "\n",
        "class Node:\n",
        "    \"\"\" A Node in a singly linked list \"\"\"\n",
        "    def __init__(self, value=None):\n",
        "        self.value = value\n",
        "        self.next = None\n",
        "\n",
        "class LinkedList:\n",
        "    \"\"\" A singly linked list \"\"\"\n",
        "    def __init__(self):\n",
        "        self.head = None\n",
        "\n",
        "    def append(self, value):\n",
        "        \"\"\" Append a value to the end of the linked list \"\"\"\n",
        "        if not self.head:\n",
        "            self.head = Node(value)\n",
        "        else:\n",
        "            current = self.head\n",
        "            while current.next:\n",
        "                current = current.next\n",
        "            current.next = Node(value)\n",
        "\n",
        "    def print_list(self):\n",
        "        \"\"\" Print all values in the linked list \"\"\"\n",
        "        current = self.head\n",
        "        while current:\n",
        "            print(current.value, end=\" -> \")\n",
        "            current = current.next\n",
        "        print(\"None\")\n",
        "\n",
        "def add_two_numbers(l1, l2):\n",
        "    \"\"\" Add two numbers represented by linked lists \"\"\"\n",
        "    # Reverse both lists to ease addition\n",
        "    def reverse_list(node):\n",
        "        prev = None\n",
        "        current = node\n",
        "        while current:\n",
        "            next_node = current.next\n",
        "            current.next = prev\n",
        "            prev = current\n",
        "            current = next_node\n",
        "        return prev\n",
        "\n",
        "    # Reverse input lists\n",
        "    l1 = reverse_list(l1.head)\n",
        "    l2 = reverse_list(l2.head)\n",
        "\n",
        "    carry = 0\n",
        "    dummy_head = Node(0)\n",
        "    current = dummy_head\n",
        "\n",
        "    while l1 or l2 or carry:\n",
        "        val1 = l1.value if l1 else 0\n",
        "        val2 = l2.value if l2 else 0\n",
        "        total = val1 + val2 + carry\n",
        "\n",
        "        carry = total // 10\n",
        "        current.next = Node(total % 10)\n",
        "        current = current.next\n",
        "\n",
        "        if l1:\n",
        "            l1 = l1.next\n",
        "        if l2:\n",
        "            l2 = l2.next\n",
        "\n",
        "    result = reverse_list(dummy_head.next)  # Reverse the result list to correct order\n",
        "    return result\n",
        "\n",
        "# Example usage:\n",
        "list1 = LinkedList()\n",
        "list2 = LinkedList()\n",
        "\n",
        "for digit in [2, 4, 3]:\n",
        "    list1.append(digit)\n",
        "\n",
        "for digit in [5, 6, 4]:\n",
        "    list2.append(digit)\n",
        "\n",
        "result_list = LinkedList()\n",
        "result_list.head = add_two_numbers(list1, list2)\n",
        "\n",
        "print(\"Resulting Sum:\")\n",
        "result_list.print_list()\n"
      ],
      "metadata": {
        "colab": {
          "base_uri": "https://localhost:8080/"
        },
        "id": "Vws_X_tubpph",
        "outputId": "b2415a0b-1803-4938-8f18-cac04167000f"
      },
      "execution_count": 11,
      "outputs": [
        {
          "output_type": "stream",
          "name": "stdout",
          "text": [
            "Resulting Sum:\n",
            "8 -> 0 -> 7 -> None\n"
          ]
        }
      ]
    },
    {
      "cell_type": "code",
      "source": [
        "# Problem 7: Swap nodes in pairs in a linked list.\n",
        "# Input: 1 -> 2 -> 3 -> 4\n",
        "# Output: 2 -> 1 -> 4 -> 3\n",
        "\n",
        "class Node:\n",
        "    \"\"\" A Node in a singly linked list \"\"\"\n",
        "    def __init__(self, value=None):\n",
        "        self.value = value\n",
        "        self.next = None\n",
        "\n",
        "class LinkedList:\n",
        "    \"\"\" A singly linked list \"\"\"\n",
        "    def __init__(self):\n",
        "        self.head = None\n",
        "\n",
        "    def append(self, value):\n",
        "        \"\"\" Append a value to the end of the linked list \"\"\"\n",
        "        if not self.head:\n",
        "            self.head = Node(value)\n",
        "        else:\n",
        "            current = self.head\n",
        "            while current.next:\n",
        "                current = current.next\n",
        "            current.next = Node(value)\n",
        "\n",
        "    def print_list(self):\n",
        "        \"\"\" Print all values in the linked list \"\"\"\n",
        "        current = self.head\n",
        "        while current:\n",
        "            print(current.value, end=\" -> \")\n",
        "            current = current.next\n",
        "        print(\"None\")\n",
        "\n",
        "    def swap_pairs(self):\n",
        "        \"\"\" Swap nodes in the linked list in pairs \"\"\"\n",
        "        dummy = Node(0)\n",
        "        dummy.next = self.head\n",
        "        current = dummy\n",
        "\n",
        "        while current.next and current.next.next:\n",
        "            first = current.next\n",
        "            second = current.next.next\n",
        "\n",
        "            # Swapping the first and second nodes\n",
        "            first.next = second.next\n",
        "            second.next = first\n",
        "            current.next = second\n",
        "\n",
        "            # Move the current pointer two nodes forward\n",
        "            current = first\n",
        "\n",
        "        self.head = dummy.next\n",
        "\n",
        "# Example usage:\n",
        "linked_list = LinkedList()\n",
        "for value in [1, 2, 3, 4]:\n",
        "    linked_list.append(value)\n",
        "\n",
        "print(\"Original List:\")\n",
        "linked_list.print_list()\n",
        "\n",
        "linked_list.swap_pairs()\n",
        "print(\"After Swapping Pairs:\")\n",
        "linked_list.print_list()\n"
      ],
      "metadata": {
        "colab": {
          "base_uri": "https://localhost:8080/"
        },
        "id": "luAyPxdNcS-7",
        "outputId": "fcee1ac0-bce1-47e9-b5e4-b019f8febf49"
      },
      "execution_count": 12,
      "outputs": [
        {
          "output_type": "stream",
          "name": "stdout",
          "text": [
            "Original List:\n",
            "1 -> 2 -> 3 -> 4 -> None\n",
            "After Swapping Pairs:\n",
            "2 -> 1 -> 4 -> 3 -> None\n"
          ]
        }
      ]
    },
    {
      "cell_type": "code",
      "source": [
        "# Problem 8: Reverse nodes in a linked list in groups of k.\n",
        "# Input: 1 -> 2 -> 3 -> 4 -> 5, k = 3\n",
        "# Output: 3 -> 2 -> 1 -> 4 -> 5\n",
        "\n",
        "class ListNode:\n",
        "    def __init__(self, value=0, next=None):\n",
        "        self.value = value\n",
        "        self.next = next\n",
        "\n",
        "class LinkedList:\n",
        "    def __init__(self):\n",
        "        self.head = None\n",
        "\n",
        "    def append(self, value):\n",
        "        if not self.head:\n",
        "            self.head = ListNode(value)\n",
        "        else:\n",
        "            current = self.head\n",
        "            while current.next:\n",
        "                current = current.next\n",
        "            current.next = ListNode(value)\n",
        "\n",
        "    def print_list(self):\n",
        "        \"\"\" Print all values in the linked list \"\"\"\n",
        "        current = self.head\n",
        "        while current:\n",
        "            end = ' -> ' if current.next else ''\n",
        "            print(current.value, end=end)\n",
        "            current = current.next\n",
        "        print()\n",
        "\n",
        "    def reverse_k_group(self, k):\n",
        "        current = self.head\n",
        "        count = 0\n",
        "        # First, count the nodes in the linked list\n",
        "        while current:\n",
        "            count += 1\n",
        "            current = current.next\n",
        "\n",
        "        # If there are fewer nodes than k or k is 1, no need to reverse\n",
        "        if k <= 1 or count < k:\n",
        "            return\n",
        "\n",
        "        # Reversal of k-group\n",
        "        current = self.head\n",
        "        prev_tail = None\n",
        "        while count >= k:\n",
        "            prev = None\n",
        "            tail = current\n",
        "            for _ in range(k):\n",
        "                next_node = current.next\n",
        "                current.next = prev\n",
        "                prev = current\n",
        "                current = next_node\n",
        "            if prev_tail:\n",
        "                prev_tail.next = prev\n",
        "            else:\n",
        "                self.head = prev\n",
        "            prev_tail = tail\n",
        "            count -= k\n",
        "\n",
        "        if prev_tail:\n",
        "            prev_tail.next = current\n",
        "\n",
        "# Example usage:\n",
        "linkedList = LinkedList()\n",
        "for i in range(1, 6):\n",
        "    linkedList.append(i)\n",
        "\n",
        "print(\"Original List:\")\n",
        "linkedList.print_list()\n",
        "\n",
        "linkedList.reverse_k_group(3)\n",
        "print(\"Reversed in groups of 3:\")\n",
        "linkedList.print_list()\n"
      ],
      "metadata": {
        "colab": {
          "base_uri": "https://localhost:8080/"
        },
        "id": "sQzcM7xyciMW",
        "outputId": "86521ed9-889c-48cf-b38b-c6c0073d2070"
      },
      "execution_count": 13,
      "outputs": [
        {
          "output_type": "stream",
          "name": "stdout",
          "text": [
            "Original List:\n",
            "1 -> 2 -> 3 -> 4 -> 5\n",
            "Reversed in groups of 3:\n",
            "3 -> 2 -> 1 -> 4 -> 5\n"
          ]
        }
      ]
    },
    {
      "cell_type": "code",
      "source": [
        "# Problem 9: Determine if a linked list is a palindrome.\n",
        "# Input: 1 -> 2 -> 2 -> 1\n",
        "# Output: True\n",
        "\n",
        "class ListNode:\n",
        "    def __init__(self, value=0, next=None):\n",
        "        self.value = value\n",
        "        self.next = next\n",
        "\n",
        "class LinkedList:\n",
        "    def __init__(self):\n",
        "        self.head = None\n",
        "\n",
        "    def append(self, value):\n",
        "        if not self.head:\n",
        "            self.head = ListNode(value)\n",
        "        else:\n",
        "            current = self.head\n",
        "            while current.next:\n",
        "                current = current.next\n",
        "            current.next = ListNode(value)\n",
        "\n",
        "    def print_list(self):\n",
        "        \"\"\" Print all values in the linked list \"\"\"\n",
        "        current = self.head\n",
        "        while current:\n",
        "            end = ' -> ' if current.next else ''\n",
        "            print(current.value, end=end)\n",
        "            current = current.next\n",
        "        print()\n",
        "\n",
        "    def is_palindrome(self):\n",
        "        if not self.head or not self.head.next:\n",
        "            return True\n",
        "\n",
        "        # Find the middle (slow will point to the middle)\n",
        "        slow = fast = self.head\n",
        "        while fast and fast.next:\n",
        "            slow = slow.next\n",
        "            fast = fast.next.next\n",
        "\n",
        "        # Reverse the second half\n",
        "        prev = None\n",
        "        while slow:\n",
        "            next_node = slow.next\n",
        "            slow.next = prev\n",
        "            prev = slow\n",
        "            slow = next_node\n",
        "\n",
        "        # Compare the first half and the reversed second half\n",
        "        left, right = self.head, prev\n",
        "        while right:  # Since the second half can be shorter, check till right is exhausted\n",
        "            if left.value != right.value:\n",
        "                return False\n",
        "            left = left.next\n",
        "            right = right.next\n",
        "\n",
        "        return True\n",
        "\n",
        "# Example usage:\n",
        "linkedList = LinkedList()\n",
        "data = [1, 2, 2, 1]\n",
        "for num in data:\n",
        "    linkedList.append(num)\n",
        "\n",
        "print(\"List:\")\n",
        "linkedList.print_list()\n",
        "\n",
        "result = linkedList.is_palindrome()\n",
        "print(\"Is palindrome:\", result)\n"
      ],
      "metadata": {
        "colab": {
          "base_uri": "https://localhost:8080/"
        },
        "id": "A2qGLVxXc-5r",
        "outputId": "e063e93e-dc88-483b-b2a2-5246d05cd719"
      },
      "execution_count": 14,
      "outputs": [
        {
          "output_type": "stream",
          "name": "stdout",
          "text": [
            "List:\n",
            "1 -> 2 -> 2 -> 1\n",
            "Is palindrome: True\n"
          ]
        }
      ]
    },
    {
      "cell_type": "code",
      "source": [],
      "metadata": {
        "id": "oDKE0fe0dXxe"
      },
      "execution_count": null,
      "outputs": []
    },
    {
      "cell_type": "markdown",
      "source": [
        "#Page 2"
      ],
      "metadata": {
        "id": "qzlYdTzud956"
      }
    },
    {
      "cell_type": "code",
      "source": [
        "# Problem 10: Rotate a linked list to the right by k places.\n",
        "# Input: 1 -> 2 -> 3 -> 4 -> 5, k = 2\n",
        "# Output: 4 -> 5 -> 1 -> 2 -> 3\n",
        "\n",
        "class ListNode:\n",
        "    def __init__(self, value=0, next=None):\n",
        "        self.value = value\n",
        "        self.next = next\n",
        "\n",
        "class LinkedList:\n",
        "    def __init__(self):\n",
        "        self.head = None\n",
        "\n",
        "    def append(self, value):\n",
        "        if not self.head:\n",
        "            self.head = ListNode(value)\n",
        "        else:\n",
        "            current = self.head\n",
        "            while current.next:\n",
        "                current = current.next\n",
        "            current.next = ListNode(value)\n",
        "\n",
        "    def print_list(self):\n",
        "        current = self.head\n",
        "        while current:\n",
        "            end = ' -> ' if current.next else ''\n",
        "            print(current.value, end=end)\n",
        "            current = current.next\n",
        "        print()\n",
        "\n",
        "    def rotate_right(self, k):\n",
        "        if not self.head or not self.head.next or k == 0:\n",
        "            return\n",
        "\n",
        "        # First, let's determine the length of the list\n",
        "        last_element = self.head\n",
        "        length = 1\n",
        "        while last_element.next:\n",
        "            last_element = last_element.next\n",
        "            length += 1\n",
        "\n",
        "        # Make the list circular\n",
        "        last_element.next = self.head\n",
        "\n",
        "        # Find new tail : (length - k % length - 1)th node\n",
        "        # and new head : (length - k % length)th node\n",
        "        k = k % length\n",
        "        steps_to_new_head = length - k\n",
        "        new_tail = self.head\n",
        "        for _ in range(steps_to_new_head - 1):\n",
        "            new_tail = new_tail.next\n",
        "\n",
        "        self.head = new_tail.next\n",
        "        new_tail.next = None\n",
        "\n",
        "# Example usage:\n",
        "linkedList = LinkedList()\n",
        "data = [1, 2, 3, 4, 5]\n",
        "for num in data:\n",
        "    linkedList.append(num)\n",
        "\n",
        "print(\"Original list:\")\n",
        "linkedList.print_list()\n",
        "\n",
        "linkedList.rotate_right(2)\n",
        "print(\"Rotated list:\")\n",
        "linkedList.print_list()\n"
      ],
      "metadata": {
        "colab": {
          "base_uri": "https://localhost:8080/"
        },
        "id": "c8pGZcDNd_zp",
        "outputId": "5bb69aa7-76c0-43ce-dce6-1a128dd748ce"
      },
      "execution_count": 15,
      "outputs": [
        {
          "output_type": "stream",
          "name": "stdout",
          "text": [
            "Original list:\n",
            "1 -> 2 -> 3 -> 4 -> 5\n",
            "Rotated list:\n",
            "4 -> 5 -> 1 -> 2 -> 3\n"
          ]
        }
      ]
    },
    {
      "cell_type": "code",
      "source": [],
      "metadata": {
        "id": "1BD7Kfgnewyg"
      },
      "execution_count": null,
      "outputs": []
    },
    {
      "cell_type": "markdown",
      "source": [
        "#Problem 11: Flatten a Multilevel Doubly Linked List"
      ],
      "metadata": {
        "id": "8g5ldytQfr5u"
      }
    },
    {
      "cell_type": "code",
      "source": [
        "class Node:\n",
        "    def __init__(self, val, prev=None, next=None, child=None):\n",
        "        self.val = val\n",
        "        self.prev = prev\n",
        "        self.next = next\n",
        "        self.child = child\n",
        "\n",
        "def flatten(head):\n",
        "    if not head:\n",
        "        return None\n",
        "\n",
        "    pseudo_head = Node(None)\n",
        "    prev = pseudo_head\n",
        "\n",
        "    stack = [head]\n",
        "\n",
        "    while stack:\n",
        "        curr = stack.pop()\n",
        "\n",
        "        prev.next = curr\n",
        "        curr.prev = prev\n",
        "\n",
        "        if curr.next:\n",
        "            stack.append(curr.next)\n",
        "\n",
        "        if curr.child:\n",
        "            stack.append(curr.child)\n",
        "            curr.child = None\n",
        "\n",
        "        prev = curr\n",
        "\n",
        "    pseudo_head.next.prev = None\n",
        "    return pseudo_head.next\n",
        "\n",
        "\n",
        "# Assuming setup functions and code are defined to build the list with child pointers.\n",
        "head = Node(1)\n",
        "head.next = Node(2, prev=head)\n",
        "head.next.next = Node(3, prev=head.next)\n",
        "head.next.next.child = Node(4)\n",
        "head.next.next.child.next = Node(5, prev=head.next.next.child)\n",
        "head.next.next.next = Node(7, prev=head.next.next)\n",
        "head.next.next.next.next = Node(8, prev=head.next.next.next)\n",
        "\n",
        "# Flatten the list and print the results\n",
        "flattened_head = flatten(head)\n",
        "current = flattened_head\n",
        "while current:\n",
        "    print(current.val, end=\" <-> \")\n",
        "    current = current.next\n",
        "print(\"None\")\n"
      ],
      "metadata": {
        "colab": {
          "base_uri": "https://localhost:8080/"
        },
        "id": "ARHUKHJOfssl",
        "outputId": "00ef9522-06df-43dd-a85a-02f128eee162"
      },
      "execution_count": 17,
      "outputs": [
        {
          "output_type": "stream",
          "name": "stdout",
          "text": [
            "1 <-> 2 <-> 3 <-> 4 <-> 5 <-> 7 <-> 8 <-> None\n"
          ]
        }
      ]
    },
    {
      "cell_type": "markdown",
      "source": [
        "#Problem 12: Rearrange a Linked List"
      ],
      "metadata": {
        "id": "pCfyColTgGma"
      }
    },
    {
      "cell_type": "code",
      "source": [
        "class ListNode:\n",
        "    def __init__(self, value=0, next=None):\n",
        "        self.value = value\n",
        "        self.next = next\n",
        "\n",
        "def rearrangeList(head):\n",
        "    if not head or not head.next:\n",
        "        return head\n",
        "\n",
        "    odd = head\n",
        "    even = head.next\n",
        "    evenHead = even\n",
        "\n",
        "    while even and even.next:\n",
        "        odd.next = odd.next.next\n",
        "        even.next = even.next.next\n",
        "        odd = odd.next\n",
        "        even = even.next\n",
        "\n",
        "    odd.next = evenHead\n",
        "    return head\n",
        "\n",
        "def printList(node):\n",
        "    while node:\n",
        "        print(node.value, end=\" -> \" if node.next else \"\")\n",
        "        node = node.next\n",
        "    print()\n",
        "\n",
        "# Helper function to create a linked list from a list of values\n",
        "def createList(values):\n",
        "    head = ListNode(values[0])\n",
        "    current = head\n",
        "    for value in values[1:]:\n",
        "        current.next = ListNode(value)\n",
        "        current = current.next\n",
        "    return head\n",
        "\n",
        "# Test the function\n",
        "values = [1, 2, 3, 4, 5]\n",
        "head = createList(values)\n",
        "rearranged_head = rearrangeList(head)\n",
        "printList(rearranged_head)\n"
      ],
      "metadata": {
        "colab": {
          "base_uri": "https://localhost:8080/"
        },
        "id": "e5COi66WfzOh",
        "outputId": "854a3b0b-1ccc-4cac-c968-872835e8714f"
      },
      "execution_count": 19,
      "outputs": [
        {
          "output_type": "stream",
          "name": "stdout",
          "text": [
            "1 -> 3 -> 5 -> 2 -> 4\n"
          ]
        }
      ]
    },
    {
      "cell_type": "markdown",
      "source": [
        "#Problem 13: Add One to Number Represented as Linked List"
      ],
      "metadata": {
        "id": "dA-wZJwngxHI"
      }
    },
    {
      "cell_type": "code",
      "source": [
        "class ListNode:\n",
        "    def __init__(self, value=0, next=None):\n",
        "        self.value = value\n",
        "        self.next = next\n",
        "\n",
        "def addOne(head):\n",
        "    # Helper function to reverse a linked list\n",
        "    def reverse(node):\n",
        "        prev = None\n",
        "        current = node\n",
        "        while current:\n",
        "            next = current.next\n",
        "            current.next = prev\n",
        "            prev = current\n",
        "            current = next\n",
        "        return prev\n",
        "\n",
        "    # Reverse the list\n",
        "    head = reverse(head)\n",
        "\n",
        "    # Add one to the reversed list\n",
        "    current = head\n",
        "    carry = 1\n",
        "    prev = None\n",
        "    while current:\n",
        "        current.value += carry\n",
        "        if current.value > 9:\n",
        "            current.value = 0\n",
        "            carry = 1\n",
        "        else:\n",
        "            carry = 0\n",
        "            break\n",
        "        prev = current\n",
        "        current = current.next\n",
        "\n",
        "    if carry:\n",
        "        prev.next = ListNode(1)\n",
        "\n",
        "    # Reverse the list back to the original order\n",
        "    return reverse(head)\n",
        "\n",
        "def printList(node):\n",
        "    while node:\n",
        "        print(node.value, end=\" -> \" if node.next else \"\")\n",
        "        node = node.next\n",
        "    print()\n",
        "\n",
        "# Helper function to create a linked list from a list of values\n",
        "def createList(values):\n",
        "    head = ListNode(values[0])\n",
        "    current = head\n",
        "    for value in values[1:]:\n",
        "        current.next = ListNode(value)\n",
        "        current = current.next\n",
        "    return head\n",
        "\n",
        "# Test the function\n",
        "values = [1, 2, 3]\n",
        "head = createList(values)\n",
        "increased_head = addOne(head)\n",
        "printList(increased_head)\n"
      ],
      "metadata": {
        "colab": {
          "base_uri": "https://localhost:8080/"
        },
        "id": "Dl_qKlNIgNuz",
        "outputId": "05be00b3-6fc7-4f3d-fa6a-52998f7acc60"
      },
      "execution_count": 20,
      "outputs": [
        {
          "output_type": "stream",
          "name": "stdout",
          "text": [
            "1 -> 2 -> 4\n"
          ]
        }
      ]
    },
    {
      "cell_type": "markdown",
      "source": [
        "#14-18\n"
      ],
      "metadata": {
        "id": "HD2Gdfh_hWob"
      }
    },
    {
      "cell_type": "code",
      "source": [
        "#Problem 14: Search Insert Position\n",
        "def searchInsert(nums, target):\n",
        "    low, high = 0, len(nums) - 1\n",
        "    while low <= high:\n",
        "        mid = (low + high) // 2\n",
        "        if nums[mid] == target:\n",
        "            return mid\n",
        "        elif nums[mid] < target:\n",
        "            low = mid + 1\n",
        "        else:\n",
        "            high = mid - 1\n",
        "    return low\n",
        "nums = [1, 3, 5, 6]\n",
        "target = 5\n",
        "print(searchInsert(nums, target))  # Output: 2\n"
      ],
      "metadata": {
        "colab": {
          "base_uri": "https://localhost:8080/"
        },
        "id": "SUPDytRKhPxy",
        "outputId": "5e0e20b0-b8f0-41f7-f783-a40c8956346b"
      },
      "execution_count": 26,
      "outputs": [
        {
          "output_type": "stream",
          "name": "stdout",
          "text": [
            "2\n"
          ]
        }
      ]
    },
    {
      "cell_type": "markdown",
      "source": [
        "Problem 15: Find the minimum element in a rotated sorted array."
      ],
      "metadata": {
        "id": "wl7iV64FhlHz"
      }
    },
    {
      "cell_type": "code",
      "source": [
        "def findMin(nums):\n",
        "    low, high = 0, len(nums) - 1\n",
        "    while low < high:\n",
        "        mid = (low + high) // 2\n",
        "        if nums[mid] > nums[high]:\n",
        "            low = mid + 1\n",
        "        else:\n",
        "            high = mid\n",
        "    return nums[low]\n",
        "\n",
        "nums = [4, 5, 6, 7, 0, 1, 2]\n",
        "print(findMin(nums))  # Output: 0\n"
      ],
      "metadata": {
        "colab": {
          "base_uri": "https://localhost:8080/"
        },
        "id": "Ux2hsfHDhf9K",
        "outputId": "54912695-a9e1-4b74-ca16-ed4a94b6c3ba"
      },
      "execution_count": 22,
      "outputs": [
        {
          "output_type": "stream",
          "name": "stdout",
          "text": [
            "0\n"
          ]
        }
      ]
    },
    {
      "cell_type": "markdown",
      "source": [
        "Problem 16: Search in Rotated Sorted Array"
      ],
      "metadata": {
        "id": "CEmLioiah0kh"
      }
    },
    {
      "cell_type": "code",
      "source": [
        "def search(nums, target):\n",
        "    low, high = 0, len(nums) - 1\n",
        "    while low <= high:\n",
        "        mid = (low + high) // 2\n",
        "        if nums[mid] == target:\n",
        "            return mid\n",
        "\n",
        "        if nums[low] <= nums[mid]:\n",
        "            if nums[low] <= target < nums[mid]:\n",
        "                high = mid - 1\n",
        "            else:\n",
        "                low = mid + 1\n",
        "        else:\n",
        "            if nums[mid] < target <= nums[high]:\n",
        "                low = mid + 1\n",
        "            else:\n",
        "                high = mid - 1\n",
        "    return -1\n",
        "nums = [4, 5, 6, 7, 0, 1, 2]\n",
        "target = 0\n",
        "print(search(nums, target))  # Output: 4\n"
      ],
      "metadata": {
        "colab": {
          "base_uri": "https://localhost:8080/"
        },
        "id": "qXC1PTZ4hsya",
        "outputId": "6564326c-1afe-4d3f-8a1b-b0bfa28a63c5"
      },
      "execution_count": 23,
      "outputs": [
        {
          "output_type": "stream",
          "name": "stdout",
          "text": [
            "4\n"
          ]
        }
      ]
    },
    {
      "cell_type": "markdown",
      "source": [
        "Problem 17: Find Peak Element\n"
      ],
      "metadata": {
        "id": "IGHDDTfvh66t"
      }
    },
    {
      "cell_type": "code",
      "source": [
        "def findPeakElement(nums):\n",
        "    low, high = 0, len(nums) - 1\n",
        "    while low < high:\n",
        "        mid = (low + high) // 2\n",
        "        if nums[mid] > nums[mid + 1]:\n",
        "            high = mid\n",
        "        else:\n",
        "            low = mid + 1\n",
        "    return low\n",
        "\n",
        "nums = [1, 2, 3, 1]\n",
        "print(findPeakElement(nums))  # Output: 2\n"
      ],
      "metadata": {
        "colab": {
          "base_uri": "https://localhost:8080/"
        },
        "id": "0qNJoYhch3Xj",
        "outputId": "9597fa2c-26fe-4066-b76c-a0bf8186994d"
      },
      "execution_count": 24,
      "outputs": [
        {
          "output_type": "stream",
          "name": "stdout",
          "text": [
            "2\n"
          ]
        }
      ]
    },
    {
      "cell_type": "markdown",
      "source": [
        "Problem 18: Count Negative Numbers in Sorted Matrix\n"
      ],
      "metadata": {
        "id": "-QRUe1uOiG_4"
      }
    },
    {
      "cell_type": "code",
      "source": [
        "def countNegatives(grid):\n",
        "    m, n = len(grid), len(grid[0])\n",
        "    row, col = m - 1, 0\n",
        "    count = 0\n",
        "\n",
        "    while row >= 0 and col < n:\n",
        "        if grid[row][col] < 0:\n",
        "            count += (n - col)\n",
        "            row -= 1\n",
        "        else:\n",
        "            col += 1\n",
        "    return count\n",
        "\n",
        "grid = [[4, 3, 2, -1], [3, 2, 1, -1], [1, 1, -1, -2], [-1, -1, -2, -3]]\n",
        "print(countNegatives(grid))  # Output: 8\n"
      ],
      "metadata": {
        "colab": {
          "base_uri": "https://localhost:8080/"
        },
        "id": "sDxZkiXviBFP",
        "outputId": "92fb3a11-805a-4726-9ee0-2b1dd1c990b3"
      },
      "execution_count": 25,
      "outputs": [
        {
          "output_type": "stream",
          "name": "stdout",
          "text": [
            "8\n"
          ]
        }
      ]
    },
    {
      "cell_type": "markdown",
      "source": [
        "#19-25"
      ],
      "metadata": {
        "id": "JzELLy4Lj_fE"
      }
    },
    {
      "cell_type": "code",
      "source": [
        "# Problem 19: Search a 2D Matrix\n",
        "\n",
        "def searchMatrix(matrix, target):\n",
        "    if not matrix:\n",
        "        return False\n",
        "    rows, cols = len(matrix), len(matrix[0])\n",
        "    low, high = 0, rows * cols - 1\n",
        "\n",
        "    while low <= high:\n",
        "        mid = (low + high) // 2\n",
        "        num = matrix[mid // cols][mid % cols]\n",
        "        if num == target:\n",
        "            return True\n",
        "        elif num < target:\n",
        "            low = mid + 1\n",
        "        else:\n",
        "            high = mid - 1\n",
        "    return False\n",
        "\n",
        "# Test case\n",
        "matrix = [[1, 3, 5, 7], [10, 11, 16, 20], [23, 30, 34, 60]]\n",
        "target = 3\n",
        "print(searchMatrix(matrix, target))\n"
      ],
      "metadata": {
        "colab": {
          "base_uri": "https://localhost:8080/"
        },
        "id": "RnJCkb-9iKzC",
        "outputId": "d0a61983-eb24-44df-9a6e-f1bbc8a253b3"
      },
      "execution_count": 29,
      "outputs": [
        {
          "output_type": "stream",
          "name": "stdout",
          "text": [
            "True\n"
          ]
        }
      ]
    },
    {
      "cell_type": "code",
      "source": [
        "# Problem 20: Find Median of Two Sorted Arrays\n",
        "# Input: nums1 = [1, 3], nums2 = [2]\n",
        "# Output: 2.0\n",
        "\n",
        "def findMedianSortedArrays(nums1, nums2):\n",
        "    nums = sorted(nums1 + nums2)\n",
        "    n = len(nums)\n",
        "    if n % 2 == 1:\n",
        "        return float(nums[n // 2])\n",
        "    else:\n",
        "        return (nums[n // 2 - 1] + nums[n // 2]) / 2\n",
        "\n",
        "# Test case\n",
        "nums1 = [1, 3]\n",
        "nums2 = [2]\n",
        "print(findMedianSortedArrays(nums1, nums2))\n"
      ],
      "metadata": {
        "colab": {
          "base_uri": "https://localhost:8080/"
        },
        "id": "-L-qpPikkGOx",
        "outputId": "c998db67-aade-489a-8621-8f8fb0afb6c5"
      },
      "execution_count": 30,
      "outputs": [
        {
          "output_type": "stream",
          "name": "stdout",
          "text": [
            "2.0\n"
          ]
        }
      ]
    },
    {
      "cell_type": "code",
      "source": [
        "# Problem 21: Find Smallest Letter Greater Than Target\n",
        "# Input: letters = ['c', 'f', 'j'], target = 'a'\n",
        "# Output: 'c'\n",
        "def nextGreatestLetter(letters, target):\n",
        "    for letter in letters:\n",
        "        if letter > target:\n",
        "            return letter\n",
        "    return letters[0]\n",
        "\n",
        "# Test case\n",
        "letters = ['c', 'f', 'j']\n",
        "target = 'a'\n",
        "print(nextGreatestLetter(letters, target))\n"
      ],
      "metadata": {
        "colab": {
          "base_uri": "https://localhost:8080/"
        },
        "id": "E6Vu_hBZkRJA",
        "outputId": "440df0c8-d7db-4e58-98e9-d978aacceee4"
      },
      "execution_count": 32,
      "outputs": [
        {
          "output_type": "stream",
          "name": "stdout",
          "text": [
            "c\n"
          ]
        }
      ]
    },
    {
      "cell_type": "code",
      "source": [
        "# Problem 22: Sort Colors\n",
        "# Input: nums = [2, 0, 2, 1, 1, 0]\n",
        "# Output: [0, 0, 1, 1, 2, 2]\n",
        "def sortColors(nums):\n",
        "    left, mid, right = 0, 0, len(nums) - 1\n",
        "    while mid <= right:\n",
        "        if nums[mid] == 0:\n",
        "            nums[left], nums[mid] = nums[mid], nums[left]\n",
        "            left += 1\n",
        "            mid += 1\n",
        "        elif nums[mid] == 1:\n",
        "            mid += 1\n",
        "        else:\n",
        "            nums[mid], nums[right] = nums[right], nums[mid]\n",
        "            right -= 1\n",
        "    return nums\n",
        "\n",
        "# Test case\n",
        "nums = [2, 0, 2, 1, 1, 0]\n",
        "print(sortColors(nums))\n"
      ],
      "metadata": {
        "colab": {
          "base_uri": "https://localhost:8080/"
        },
        "id": "XsyPo0NhkU3E",
        "outputId": "3bc5ee00-1499-41b4-bf2c-c6eae35bcb53"
      },
      "execution_count": 33,
      "outputs": [
        {
          "output_type": "stream",
          "name": "stdout",
          "text": [
            "[0, 0, 1, 1, 2, 2]\n"
          ]
        }
      ]
    },
    {
      "cell_type": "code",
      "source": [
        "# Problem 23: Find the Kth Largest Element\n",
        "# Input: nums = [3, 2, 1, 5, 6, 4], k = 2\n",
        "# Output: 5\n",
        "import heapq\n",
        "\n",
        "def findKthLargest(nums, k):\n",
        "    return heapq.nlargest(k, nums)[-1]\n",
        "\n",
        "# Test case\n",
        "nums = [3, 2, 1, 5, 6, 4]\n",
        "k = 2\n",
        "print(findKthLargest(nums, k))\n"
      ],
      "metadata": {
        "colab": {
          "base_uri": "https://localhost:8080/"
        },
        "id": "DJWk4EbIkbd3",
        "outputId": "afbf9326-90b4-44a6-d708-0ee1a74aaf9e"
      },
      "execution_count": 34,
      "outputs": [
        {
          "output_type": "stream",
          "name": "stdout",
          "text": [
            "5\n"
          ]
        }
      ]
    },
    {
      "cell_type": "code",
      "source": [
        "# Problem 24: Wiggle Sort\n",
        "# Input: nums = [3, 5, 2, 1, 6, 4]\n",
        "# Output: [3, 5, 1, 6, 2, 4]\n",
        "\n",
        "def wiggleSort(nums):\n",
        "    nums.sort()\n",
        "    mid = len(nums[::2])\n",
        "    nums[::2], nums[1::2] = nums[:mid][::-1], nums[mid:][::-1]\n",
        "    return nums\n",
        "\n",
        "# Test case\n",
        "nums = [3, 5, 2, 1, 6, 4]\n",
        "print(wiggleSort(nums))\n"
      ],
      "metadata": {
        "colab": {
          "base_uri": "https://localhost:8080/"
        },
        "id": "Sj5-XOPdkiI6",
        "outputId": "71bf12e4-551d-416b-c5c8-4d3c667c3e63"
      },
      "execution_count": 35,
      "outputs": [
        {
          "output_type": "stream",
          "name": "stdout",
          "text": [
            "[3, 6, 2, 5, 1, 4]\n"
          ]
        }
      ]
    },
    {
      "cell_type": "code",
      "source": [
        "# Problem 25: Sum of Array\n",
        "# Input: [1, 2, 3, 4, 5]\n",
        "# Output: 15\n",
        "def sumArray(nums):\n",
        "    return sum(nums)\n",
        "\n",
        "# Test case\n",
        "nums = [1, 2, 3, 4, 5]\n",
        "print(sumArray(nums))\n"
      ],
      "metadata": {
        "colab": {
          "base_uri": "https://localhost:8080/"
        },
        "id": "Yn9d-J2FknGK",
        "outputId": "420d1862-b03f-49d9-fa12-702210ebdf89"
      },
      "execution_count": 36,
      "outputs": [
        {
          "output_type": "stream",
          "name": "stdout",
          "text": [
            "15\n"
          ]
        }
      ]
    },
    {
      "cell_type": "markdown",
      "source": [
        "#26-32"
      ],
      "metadata": {
        "id": "UJ3Jjf-JlVJr"
      }
    },
    {
      "cell_type": "code",
      "source": [
        "# Problem 26: Find the maximum element in an array of integers.\n",
        "def find_max(nums):\n",
        "    return max(nums)\n",
        "\n",
        "# Testing Problem 26\n",
        "max_element = find_max([3, 7, 2, 9, 4, 1])\n",
        "print(\"Maximum Element:\", max_element)  # Output: 9\n",
        "\n",
        "# Problem 27: Implement linear search to find the index of a target element in an array.\n",
        "def linear_search(nums, target):\n",
        "    for index, num in enumerate(nums):\n",
        "        if num == target:\n",
        "            return index\n",
        "    return -1\n",
        "\n",
        "# Testing Problem 27\n",
        "index_found = linear_search([5, 3, 8, 2, 7, 4], 8)\n",
        "print(\"Index Found:\", index_found)  # Output: 2\n",
        "\n",
        "# Problem 28: Calculate the factorial of a given number.\n",
        "def factorial(n):\n",
        "    if n == 0:\n",
        "        return 1\n",
        "    else:\n",
        "        return n * factorial(n-1)\n",
        "\n",
        "# Testing Problem 28\n",
        "fact = factorial(5)\n",
        "print(\"Factorial:\", fact)  # Output: 120\n",
        "\n",
        "# Problem 29: Check if a given number is a prime number.\n",
        "def is_prime(num):\n",
        "    if num <= 1:\n",
        "        return False\n",
        "    for i in range(2, int(num**0.5) + 1):\n",
        "        if num % i == 0:\n",
        "            return False\n",
        "    return True\n",
        "\n",
        "# Testing Problem 29\n",
        "prime_check = is_prime(7)\n",
        "print(\"Is Prime:\", prime_check)  # Output: True\n",
        "\n",
        "# Problem 30: Generate the Fibonacci series up to a given number n.\n",
        "def fibonacci_series(n):\n",
        "    fib_series = []\n",
        "    a, b = 0, 1\n",
        "    while a <= n:\n",
        "        fib_series.append(a)\n",
        "        a, b = b, a + b\n",
        "    return fib_series\n",
        "\n",
        "# Testing Problem 30\n",
        "fib_series = fibonacci_series(8)\n",
        "print(\"Fibonacci Series:\", fib_series)  # Output: [0, 1, 1, 2, 3, 5, 8, 13]\n",
        "\n",
        "# Problem 31: Calculate the power of a number using recursion.\n",
        "def power(base, exponent):\n",
        "    if exponent == 0:\n",
        "        return 1\n",
        "    else:\n",
        "        return base * power(base, exponent-1)\n",
        "\n",
        "# Testing Problem 31\n",
        "power_result = power(3, 4)\n",
        "print(\"Power Result:\", power_result)  # Output: 81\n",
        "\n",
        "# Problem 32: Reverse a given string.\n",
        "def reverse_string(s):\n",
        "    return s[::-1]\n",
        "\n",
        "# Testing Problem 32\n",
        "reversed_string = reverse_string(\"hello\")\n",
        "print(\"Reversed String:\", reversed_string)  # Output: \"olleh\"\n"
      ],
      "metadata": {
        "colab": {
          "base_uri": "https://localhost:8080/"
        },
        "id": "0kszVfuokrqw",
        "outputId": "1b6750b4-34a0-400a-d3ea-0ca273296e42"
      },
      "execution_count": 37,
      "outputs": [
        {
          "output_type": "stream",
          "name": "stdout",
          "text": [
            "Maximum Element: 9\n",
            "Index Found: 2\n",
            "Factorial: 120\n",
            "Is Prime: True\n",
            "Fibonacci Series: [0, 1, 1, 2, 3, 5, 8]\n",
            "Power Result: 81\n",
            "Reversed String: olleh\n"
          ]
        }
      ]
    },
    {
      "cell_type": "code",
      "source": [],
      "metadata": {
        "id": "pHGA3SgmllaJ"
      },
      "execution_count": null,
      "outputs": []
    }
  ]
}