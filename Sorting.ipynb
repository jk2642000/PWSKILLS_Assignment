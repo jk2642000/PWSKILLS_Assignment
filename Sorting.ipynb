{
  "nbformat": 4,
  "nbformat_minor": 0,
  "metadata": {
    "colab": {
      "provenance": []
    },
    "kernelspec": {
      "name": "python3",
      "display_name": "Python 3"
    },
    "language_info": {
      "name": "python"
    }
  },
  "cells": [
    {
      "cell_type": "markdown",
      "source": [
        "Problem 1.Given an array of n numbers, give an algorithm which gives the element appearing maximum\n",
        "number of times?\n",
        "\n",
        "Problem 2 : We are given a list of n-1 integers and these integers are in the range of 1 to n . There are no\n",
        "duplicates in the list. One of the integers is missing in the list. Give an algorithm to find that element Ex:\n",
        "[1,2,4,6,3,7,8] 5 is the missing num.\n",
        "\n",
        "Problem 3 : Given an array of n positive numbers. All numbers occurs even number of times except 1 which\n",
        "occurs odd number of times. Find that number in O(n) time and O(1) space. Ex: [1,2,3,2,3,1,3]. 3 is repeats odd\n",
        "times.\n",
        "\n",
        "Problem 4 : Given an array of n elements. Find two elements in the array such that their sum is equal to given\n",
        "element K.\n",
        "\n",
        "Problem 5 : Given an array of both positive and negative numbers, find two numbers such that their sum is\n",
        "closest to 0. Ex: [ 1 ,60 ,-10, 70, -80,85]. Ans : -80,85.\n",
        "\n",
        "Problem 6 : Given an array of n elements . Find three elements such that their sum is equal to the given\n",
        "number.\n",
        "\n",
        "Problem 7 : Given an array of n elements . Find three elements i, j, k in the array such that\n",
        "i * i + j * j = k*k.\n",
        "\n",
        "Problem 8 : An element is a majority if it appears more than n/2 times. Give an algorithm takes an array of n\n",
        "element as argument and identifies a majority (if it exists).\n",
        "\n",
        "Problem 9 : Given n × n matrix, and in each row all 1’s are followed by 0’s. Find the row with the maximum\n",
        "number of 0’s.\n",
        "\n",
        "Problem 10 : Sort an array of 0’s, 1’s and 2’s [or R’s, G’s and B’s]: Given an array A[] consisting of 0’s, 1’s and\n",
        "2’s, give an algorithm for sorting A[].The algorithm should put all 0’s first, then all 1’s and finally all 2’s at the\n",
        "end. Example Input = {0,1,1,0,1,2,1,2,0,0,0,1}, Output = {0,0,0,0,0,1,1,1,1,1,2,2}"
      ],
      "metadata": {
        "id": "yD4I6Opzt1XP"
      }
    },
    {
      "cell_type": "code",
      "execution_count": 1,
      "metadata": {
        "colab": {
          "base_uri": "https://localhost:8080/"
        },
        "id": "nlIJijN-tzOj",
        "outputId": "18340d56-daf7-492f-fc4e-577e3d4f7731"
      },
      "outputs": [
        {
          "output_type": "stream",
          "name": "stdout",
          "text": [
            "Element with maximum occurrence: 13\n",
            "Number of occurrences: 3\n"
          ]
        }
      ],
      "source": [
        "#Q1\n",
        "def max_occurrence(arr):\n",
        "    # Dictionary to store the count of each element\n",
        "    count = {}\n",
        "\n",
        "    # Traverse the array and count occurrences of each element\n",
        "    for num in arr:\n",
        "        if num in count:\n",
        "            count[num] += 1\n",
        "        else:\n",
        "            count[num] = 1\n",
        "\n",
        "    # Find the element with maximum occurrence\n",
        "    max_occurrence_element = max(count, key=count.get)\n",
        "    max_occurrence_count = count[max_occurrence_element]\n",
        "\n",
        "    return max_occurrence_element, max_occurrence_count\n",
        "\n",
        "# Example usage\n",
        "arr = [13, 1, -3, 22, 5, 13, 22, 13]\n",
        "element, count = max_occurrence(arr)\n",
        "print(\"Element with maximum occurrence:\", element)\n",
        "print(\"Number of occurrences:\", count)\n"
      ]
    },
    {
      "cell_type": "code",
      "source": [
        "#Q2\n",
        "def find_missing_number(nums):\n",
        "    n = len(nums) + 1\n",
        "    total_sum = n * (n + 1) // 2\n",
        "    actual_sum = sum(nums)\n",
        "    missing_number = total_sum - actual_sum\n",
        "    return missing_number\n",
        "\n",
        "# Example usage\n",
        "nums = [1, 2, 4, 6, 3, 7, 8]\n",
        "missing_num = find_missing_number(nums)\n",
        "print(\"The missing number is:\", missing_num)\n"
      ],
      "metadata": {
        "colab": {
          "base_uri": "https://localhost:8080/"
        },
        "id": "iYTKsxr0uI9J",
        "outputId": "26759b3a-1256-4774-ee14-062a2b255c33"
      },
      "execution_count": 2,
      "outputs": [
        {
          "output_type": "stream",
          "name": "stdout",
          "text": [
            "The missing number is: 5\n"
          ]
        }
      ]
    },
    {
      "cell_type": "code",
      "source": [
        "#Q4\n",
        "def find_odd_occurrence(arr):\n",
        "    result = 0\n",
        "    for num in arr:\n",
        "        result ^= num\n",
        "    return result\n",
        "\n",
        "# Example usage\n",
        "arr = [1, 2, 3, 2, 3, 1, 3]\n",
        "odd_occurrence_number = find_odd_occurrence(arr)\n",
        "print(\"The number occurring odd number of times is:\", odd_occurrence_number)\n"
      ],
      "metadata": {
        "colab": {
          "base_uri": "https://localhost:8080/"
        },
        "id": "zCVGnE9fuYuC",
        "outputId": "acff9b52-f9ef-4625-ea04-1adcd165d89b"
      },
      "execution_count": 3,
      "outputs": [
        {
          "output_type": "stream",
          "name": "stdout",
          "text": [
            "The number occurring odd number of times is: 3\n"
          ]
        }
      ]
    },
    {
      "cell_type": "code",
      "source": [
        "# Q5\n",
        "def closest_to_zero(arr):\n",
        "    arr.sort()\n",
        "    left = 0\n",
        "    right = len(arr) - 1\n",
        "    min_sum = float('inf')\n",
        "    result_pair = None\n",
        "\n",
        "    while left < right:\n",
        "        current_sum = arr[left] + arr[right]\n",
        "        if abs(current_sum) < abs(min_sum):\n",
        "            min_sum = current_sum\n",
        "            result_pair = (arr[left], arr[right])\n",
        "\n",
        "        if current_sum < 0:\n",
        "            left += 1\n",
        "        else:\n",
        "            right -= 1\n",
        "\n",
        "    return result_pair\n",
        "\n",
        "# Example usage\n",
        "arr = [1, 60, -10, 70, -80, 85]\n",
        "pair = closest_to_zero(arr)\n",
        "print(\"Two numbers whose sum is closest to 0:\", pair)\n"
      ],
      "metadata": {
        "colab": {
          "base_uri": "https://localhost:8080/"
        },
        "id": "LnGQtGAuujc4",
        "outputId": "85a1e3e8-0d77-4456-89a9-1e97993d8952"
      },
      "execution_count": 4,
      "outputs": [
        {
          "output_type": "stream",
          "name": "stdout",
          "text": [
            "Two numbers whose sum is closest to 0: (-80, 85)\n"
          ]
        }
      ]
    },
    {
      "cell_type": "code",
      "source": [
        "# Q6\n",
        "def three_sum(arr, target):\n",
        "    arr.sort()\n",
        "    n = len(arr)\n",
        "    result = []\n",
        "\n",
        "    for i in range(n - 2):\n",
        "        left = i + 1\n",
        "        right = n - 1\n",
        "\n",
        "        while left < right:\n",
        "            current_sum = arr[i] + arr[left] + arr[right]\n",
        "\n",
        "            if current_sum == target:\n",
        "                result.append((arr[i], arr[left], arr[right]))\n",
        "                left += 1\n",
        "                right -= 1\n",
        "            elif current_sum < target:\n",
        "                left += 1\n",
        "            else:\n",
        "                right -= 1\n",
        "\n",
        "    return result\n",
        "\n",
        "# Example usage\n",
        "arr = [1, 4, 6, 8, 10, 12, 14]\n",
        "target_sum = 22\n",
        "triplets = three_sum(arr, target_sum)\n",
        "print(\"Triplets with sum equal to\", target_sum, \":\", triplets)\n"
      ],
      "metadata": {
        "colab": {
          "base_uri": "https://localhost:8080/"
        },
        "id": "V4YD4S4_vAo8",
        "outputId": "f03d7fc5-5c76-4125-9966-b8e4d180ebce"
      },
      "execution_count": 5,
      "outputs": [
        {
          "output_type": "stream",
          "name": "stdout",
          "text": [
            "Triplets with sum equal to 22 : [(4, 6, 12), (4, 8, 10)]\n"
          ]
        }
      ]
    },
    {
      "cell_type": "code",
      "source": [
        "# Q7\n",
        "def find_pythagorean_triplets(arr):\n",
        "    n = len(arr)\n",
        "    arr.sort()\n",
        "    triplets = []\n",
        "\n",
        "    for i in range(n - 2):\n",
        "        left = i + 1\n",
        "        right = n - 1\n",
        "\n",
        "        while left < right:\n",
        "            a = arr[i] * arr[i]\n",
        "            b = arr[left] * arr[left]\n",
        "            c = arr[right] * arr[right]\n",
        "\n",
        "            if a + b == c:\n",
        "                triplets.append((arr[i], arr[left], arr[right]))\n",
        "                left += 1\n",
        "                right -= 1\n",
        "            elif a + b < c:\n",
        "                left += 1\n",
        "            else:\n",
        "                right -= 1\n",
        "\n",
        "    return triplets\n",
        "\n",
        "# Example usage\n",
        "arr = [3, 1, 4, 6, 5, 2]\n",
        "triplets = find_pythagorean_triplets(arr)\n",
        "print(\"Pythagorean triplets:\", triplets)\n"
      ],
      "metadata": {
        "colab": {
          "base_uri": "https://localhost:8080/"
        },
        "id": "GcHH6KnNvJ1E",
        "outputId": "6c3159ab-5570-45a0-dff9-cbf6dcc8cad3"
      },
      "execution_count": 6,
      "outputs": [
        {
          "output_type": "stream",
          "name": "stdout",
          "text": [
            "Pythagorean triplets: []\n"
          ]
        }
      ]
    },
    {
      "cell_type": "code",
      "source": [
        "# Q8\n",
        "def find_majority_element(arr):\n",
        "    candidate = None\n",
        "    count = 0\n",
        "\n",
        "    for num in arr:\n",
        "        if count == 0:\n",
        "            candidate = num\n",
        "            count = 1\n",
        "        elif num == candidate:\n",
        "            count += 1\n",
        "        else:\n",
        "            count -= 1\n",
        "\n",
        "    # At this point, candidate might be a majority element,\n",
        "    # but we need to verify it\n",
        "    count = 0\n",
        "    for num in arr:\n",
        "        if num == candidate:\n",
        "            count += 1\n",
        "\n",
        "    if count > len(arr) // 2:\n",
        "        return candidate\n",
        "    else:\n",
        "        return None\n",
        "\n",
        "# Example usage\n",
        "arr = [3, 3, 4, 2, 4, 4, 2, 4, 4]\n",
        "majority_element = find_majority_element(arr)\n",
        "if majority_element is not None:\n",
        "    print(\"The majority element is:\", majority_element)\n",
        "else:\n",
        "    print(\"There is no majority element in the array.\")\n"
      ],
      "metadata": {
        "colab": {
          "base_uri": "https://localhost:8080/"
        },
        "id": "8gWPDCrTvTlN",
        "outputId": "70bf2b27-e04e-4029-8113-a03ca1b03941"
      },
      "execution_count": 8,
      "outputs": [
        {
          "output_type": "stream",
          "name": "stdout",
          "text": [
            "The majority element is: 4\n"
          ]
        }
      ]
    },
    {
      "cell_type": "code",
      "source": [
        "# Q9\n",
        "def max_zero_row(matrix):\n",
        "    max_zeros = 0\n",
        "    max_zeros_row = -1\n",
        "\n",
        "    for i, row in enumerate(matrix):\n",
        "        zeros_count = row.count(0)\n",
        "        if zeros_count > max_zeros:\n",
        "            max_zeros = zeros_count\n",
        "            max_zeros_row = i\n",
        "\n",
        "    return max_zeros_row\n",
        "\n",
        "# Example usage\n",
        "matrix = [\n",
        "    [1, 0, 0, 0],\n",
        "    [0, 0, 0, 0],\n",
        "    [1, 1, 0, 1],\n",
        "    [0, 0, 0, 0]\n",
        "]\n",
        "max_zeros_row_index = max_zero_row(matrix)\n",
        "if max_zeros_row_index != -1:\n",
        "    print(\"Row with the maximum number of 0's:\", max_zeros_row_index)\n",
        "else:\n",
        "    print(\"No row contains all 0's.\")\n"
      ],
      "metadata": {
        "colab": {
          "base_uri": "https://localhost:8080/"
        },
        "id": "5IiCNGWMvXts",
        "outputId": "e23460b7-b7f6-4b2b-9c52-70636ee026f3"
      },
      "execution_count": 9,
      "outputs": [
        {
          "output_type": "stream",
          "name": "stdout",
          "text": [
            "Row with the maximum number of 0's: 1\n"
          ]
        }
      ]
    },
    {
      "cell_type": "code",
      "source": [
        "# Q10\n",
        "def sort_colors(arr):\n",
        "    low = 0\n",
        "    mid = 0\n",
        "    high = len(arr) - 1\n",
        "\n",
        "    while mid <= high:\n",
        "        if arr[mid] == 0:\n",
        "            arr[low], arr[mid] = arr[mid], arr[low]\n",
        "            low += 1\n",
        "            mid += 1\n",
        "        elif arr[mid] == 1:\n",
        "            mid += 1\n",
        "        else:\n",
        "            arr[mid], arr[high] = arr[high], arr[mid]\n",
        "            high -= 1\n",
        "\n",
        "# Example usage\n",
        "arr = [0, 1, 1, 0, 1, 2, 1, 2, 0, 0, 0, 1]\n",
        "sort_colors(arr)\n",
        "print(\"Sorted array:\", arr)\n"
      ],
      "metadata": {
        "colab": {
          "base_uri": "https://localhost:8080/"
        },
        "id": "uqx4ENLtviJc",
        "outputId": "18b12255-1c08-4884-edd3-caba889ddb5d"
      },
      "execution_count": 10,
      "outputs": [
        {
          "output_type": "stream",
          "name": "stdout",
          "text": [
            "Sorted array: [0, 0, 0, 0, 0, 1, 1, 1, 1, 1, 2, 2]\n"
          ]
        }
      ]
    },
    {
      "cell_type": "code",
      "source": [],
      "metadata": {
        "id": "_fG1Q5ZxvpWg"
      },
      "execution_count": null,
      "outputs": []
    }
  ]
}