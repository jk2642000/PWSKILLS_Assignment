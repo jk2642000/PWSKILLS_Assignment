{
  "nbformat": 4,
  "nbformat_minor": 0,
  "metadata": {
    "colab": {
      "provenance": [],
      "collapsed_sections": [
        "zebG2jyPnc3f",
        "eUPe3lQHnjjj",
        "lc-65aKDpM2j"
      ]
    },
    "kernelspec": {
      "name": "python3",
      "display_name": "Python 3"
    },
    "language_info": {
      "name": "python"
    }
  },
  "cells": [
    {
      "cell_type": "markdown",
      "source": [
        "\n",
        "#1) Find the value of T(2) for the recurrence relation T(n) = 3T(n-1) + 12n, given that T(0)=5."
      ],
      "metadata": {
        "id": "zebG2jyPnc3f"
      }
    },
    {
      "cell_type": "code",
      "execution_count": 1,
      "metadata": {
        "colab": {
          "base_uri": "https://localhost:8080/"
        },
        "id": "72qGoEDDmhwZ",
        "outputId": "19095de2-252f-40c4-f588-f034c45bae4e"
      },
      "outputs": [
        {
          "output_type": "stream",
          "name": "stdout",
          "text": [
            "The value of T(2) is: 105\n"
          ]
        }
      ],
      "source": [
        "# To solve the recurrence relation \\( T(n) = 3T(n-1) + 12n \\) and find the value of \\( T(2) \\), given \\( T(0) = 5 \\), we'll first find \\( T(1) \\) and then \\( T(2) \\).\n",
        "\n",
        "# ### Step 1: Calculate \\( T(1) \\)\n",
        "# Starting from the given:\n",
        "# \\[ T(0) = 5 \\]\n",
        "\n",
        "# We use the recurrence relation to find \\( T(1) \\):\n",
        "# \\[ T(1) = 3T(0) + 12 \\times 1 = 3 \\times 5 + 12 = 15 + 12 = 27 \\]\n",
        "\n",
        "# ### Step 2: Calculate \\( T(2) \\)\n",
        "# Now we use \\( T(1) \\) to find \\( T(2) \\):\n",
        "# \\[ T(2) = 3T(1) + 12 \\times 2 = 3 \\times 27 + 24 = 81 + 24 = 105 \\]\n",
        "\n",
        "# Thus, the value of \\( T(2) \\) is \\( 105 \\).\n",
        "\n",
        "\n",
        "def calculate_T(n):\n",
        "    # Base case: T(0)\n",
        "    T = 5\n",
        "\n",
        "    # Iterate to calculate T(i) for i from 1 to n\n",
        "    for i in range(1, n+1):\n",
        "        T = 3 * T + 12 * i\n",
        "\n",
        "    return T\n",
        "\n",
        "# Find the value of T(2)\n",
        "result = calculate_T(2)\n",
        "print(\"The value of T(2) is:\", result)\n"
      ]
    },
    {
      "cell_type": "markdown",
      "source": [
        "#2. Given a recurrence relation, solve it using the substitution method:\n",
        "a. T(n) = T(n-1) + c\n",
        "b. T(n) = 2T(n/2) + n\n",
        "c. T(n) = 2T(n/2) + c\n",
        "d. T(n) = T(n/2) + c"
      ],
      "metadata": {
        "id": "eUPe3lQHnjjj"
      }
    },
    {
      "cell_type": "code",
      "source": [
        "# a. T(n) = T(n-1) + c\n",
        "\n",
        "# This recurrence defines T(n) as the sum of T(n-1) and a constant value c. We can solve it iteratively:\n",
        "\n",
        "# Base Case: Define a base case, typically T(0) or T(1).\n",
        "\n",
        "# Substitution:\n",
        "\n",
        "# Assume we know T(n-1).\n",
        "# Substitute T(n-1) with its known value in the original equation.\n",
        "# This gives us an expression for T(n) in terms of the constant c and previously known values.\n",
        "def T_a(n, c, base_case=1):  # Base case can be modified\n",
        "  if n == 0:\n",
        "    return base_case\n",
        "  else:\n",
        "    return T_a(n-1, c) + c\n",
        "\n",
        "# Example usage (assuming T(0) = 1)\n",
        "n = 3\n",
        "c = 2\n",
        "result = T_a(n, c)\n",
        "print(\"T(3) for T(n) = T(n-1) + 2:\", result)\n"
      ],
      "metadata": {
        "colab": {
          "base_uri": "https://localhost:8080/"
        },
        "id": "FImvDrRrnbYC",
        "outputId": "493aa04e-cf20-4773-834d-336655101de9"
      },
      "execution_count": 2,
      "outputs": [
        {
          "output_type": "stream",
          "name": "stdout",
          "text": [
            "T(3) for T(n) = T(n-1) + 2: 7\n"
          ]
        }
      ]
    },
    {
      "cell_type": "code",
      "source": [
        "# b. T(n) = 2T(n/2) + n\n",
        "\n",
        "# This recurrence defines T(n) as twice the value of T(n/2) plus n. We can solve it using divide-and-conquer:\n",
        "\n",
        "# Base Case: Define a base case, typically T(1).\n",
        "\n",
        "# Substitution:\n",
        "\n",
        "# Assume we know T(n/2).\n",
        "# Substitute T(n/2) with its known value in the original equation.\n",
        "# This gives us an expression for T(n) in terms of T(n/2) and n.\n",
        "\n",
        "def T_b(n, base_case=1):  # Base case can be modified\n",
        "  if n == 1:\n",
        "    return base_case\n",
        "  else:\n",
        "    return 2 * T_b(n // 2) + n\n",
        "\n",
        "# Example usage (assuming T(1) = 1)\n",
        "n = 4\n",
        "result = T_b(n)\n",
        "print(\"T(4) for T(n) = 2T(n/2) + n:\", result)\n"
      ],
      "metadata": {
        "colab": {
          "base_uri": "https://localhost:8080/"
        },
        "id": "YpjgaLDtoGtv",
        "outputId": "f09ded68-7868-4638-ae1d-349228068051"
      },
      "execution_count": 3,
      "outputs": [
        {
          "output_type": "stream",
          "name": "stdout",
          "text": [
            "T(4) for T(n) = 2T(n/2) + n: 12\n"
          ]
        }
      ]
    },
    {
      "cell_type": "code",
      "source": [
        "# c. T(n) = 2T(n/2) + c\n",
        "# The recurrence relation T(n) = 2T(n/2) + c defines the value of T(n) as twice the value of T(n/2) plus a constant value c. We can solve it using the substitution method:\n",
        "\n",
        "# 1. Base Case:\n",
        "\n",
        "# We need to define a base case for the recursion. Since the function involves dividing n by 2, a common base case is T(1).\n",
        "\n",
        "# 2. Substitution:\n",
        "\n",
        "# Assume we know the value of T(n/2) for a specific value of n. Let's say we know T(k), where k = n/2. We can substitute this value into the original equation:\n",
        "\n",
        "# T(n) = 2T(n/2) + c\n",
        "\n",
        "# T(n) = 2 * T(k) + c (since k = n/2)\n",
        "\n",
        "# 3. Expressing T(n):\n",
        "\n",
        "# Now, we can express T(n) in terms of the known value T(k) and the constant c:\n",
        "\n",
        "# T(n) = 2 * T(k) + c\n",
        "\n",
        "def T_c(n, c, base_case=1):  # Base case can be modified\n",
        "  if n == 1:\n",
        "    return base_case\n",
        "  else:\n",
        "    return 2 * T_c(n // 2, c) + c\n",
        "\n",
        "# Example usage (assuming T(1) = 1)\n",
        "n = 4\n",
        "c = 3\n",
        "result = T_c(n, c)\n",
        "print(\"T(4) for T(n) = 2T(n/2) + 3:\", result)\n"
      ],
      "metadata": {
        "colab": {
          "base_uri": "https://localhost:8080/"
        },
        "id": "zmlhvSrgok-m",
        "outputId": "497ec825-d2eb-46a5-a05f-85a9d63fb17d"
      },
      "execution_count": 5,
      "outputs": [
        {
          "output_type": "stream",
          "name": "stdout",
          "text": [
            "T(4) for T(n) = 2T(n/2) + 3: 13\n"
          ]
        }
      ]
    },
    {
      "cell_type": "code",
      "source": [
        "# d. T(n) = T(n/2) + c\n",
        "# Solving T(n) = T(n/2) + c using Substitution Method (with Code)\n",
        "# The recurrence relation T(n) = T(n/2) + c defines the value of T(n) as the sum of T(n/2) and a constant value c. We can solve it using the substitution method:\n",
        "\n",
        "# 1. Base Case:\n",
        "\n",
        "# We need to define a base case for the recursion. Since the function involves dividing n by 2, a common base case is T(1).\n",
        "\n",
        "# 2. Substitution:\n",
        "\n",
        "# Assume we know the value of T(n/2) for a specific value of n. Let's say we know T(k), where k = n/2. We can substitute this value into the original equation:\n",
        "\n",
        "# T(n) = T(n/2) + c\n",
        "\n",
        "# T(n) = T(k) + c (since k = n/2)\n",
        "\n",
        "# 3. Expressing T(n):\n",
        "\n",
        "# Now, we can express T(n) in terms of the known value T(k) and the constant c:\n",
        "\n",
        "# T(n) = T(k) + c\n",
        "\n",
        "def T_d(n, c, base_case=1):  # Base case can be modified\n",
        "  if n == 1:\n",
        "    return base_case\n",
        "  else:\n",
        "    return T_d(n // 2, c) + c\n",
        "\n",
        "# Example usage (assuming T(1) = 1)\n",
        "n = 4\n",
        "c = 5\n",
        "result = T_d(n, c)\n",
        "print(\"T(4) for T(n) = T(n/2) + 5:\", result)\n"
      ],
      "metadata": {
        "colab": {
          "base_uri": "https://localhost:8080/"
        },
        "id": "M7D-t0ztoMQd",
        "outputId": "f4d0a270-96dd-4c67-fd97-d0c4c476b74a"
      },
      "execution_count": 4,
      "outputs": [
        {
          "output_type": "stream",
          "name": "stdout",
          "text": [
            "T(4) for T(n) = T(n/2) + 5: 11\n"
          ]
        }
      ]
    },
    {
      "cell_type": "code",
      "source": [],
      "metadata": {
        "id": "5ERClpfKokBf"
      },
      "execution_count": null,
      "outputs": []
    },
    {
      "cell_type": "markdown",
      "source": [
        "#3. Given a recurrence relation, solve it using the recursive tree approach:\n",
        "a. T(n) = 2T(n-1) +1\n",
        "b. T(n) = 2T(n/2) + n"
      ],
      "metadata": {
        "id": "lc-65aKDpM2j"
      }
    },
    {
      "cell_type": "code",
      "source": [
        "# a. T(n) = 2T(n-1) + 1\n",
        "\n",
        "# 1. Recursive Tree:\n",
        "\n",
        "# The root represents T(n).\n",
        "# Each node has two children, representing the subproblems T(n-1) for each call in the original equation.\n",
        "# This tree structure continues until the base case (typically T(1) or T(0)) is reached, where the cost is constant (often 1).\n",
        "# 2. Cost at Each Level:\n",
        "\n",
        "# The cost at the root level (T(n)) is 1 (due to the constant term).\n",
        "# The cost at each subsequent level is 2 (due to two recursive calls in the equation).\n",
        "# 3. Number of Nodes at Each Level:\n",
        "\n",
        "# The number of nodes at level i is 2^i (since each node has two children).\n",
        "# 4. Summing Up Costs:\n",
        "\n",
        "# The total cost of T(n) is the sum of costs at all levels, considering the number of nodes at each level.\n",
        "\n",
        "def T_a(n):\n",
        "  if n <= 1:\n",
        "    return 1\n",
        "  else:\n",
        "    return 2 * T_a(n-1) + 1\n",
        "\n",
        "\n",
        "T_a(5)"
      ],
      "metadata": {
        "colab": {
          "base_uri": "https://localhost:8080/"
        },
        "id": "vbt9y1FwpT4V",
        "outputId": "fd1daa9a-d3b6-41b8-f553-175a5a8270e9"
      },
      "execution_count": 8,
      "outputs": [
        {
          "output_type": "execute_result",
          "data": {
            "text/plain": [
              "31"
            ]
          },
          "metadata": {},
          "execution_count": 8
        }
      ]
    },
    {
      "cell_type": "code",
      "source": [
        "# b. T(n) = 2T(n/2) + n\n",
        "\n",
        "# 1. Recursive Tree:\n",
        "\n",
        "# The root represents T(n).\n",
        "# Each node has two children, representing the subproblems T(n/2) for each call in the original equation.\n",
        "# This tree structure continues until the base case (typically T(1)) is reached.\n",
        "# 2. Cost at Each Level:\n",
        "\n",
        "# The cost at the root level (T(n)) is n (due to the linear term).\n",
        "# The cost at each subsequent level is halved (since the problem size is divided by 2).\n",
        "# 3. Number of Nodes at Each Level:\n",
        "\n",
        "# The number of nodes at level i is 2^i (since each node has two children).\n",
        "# 4. Summing Up Costs:The total cost of T(n) is the sum of costs at all levels, considering the number of nodes at each level.\n",
        "#  However, for this specific case, a more efficient analysis using the Master Theorem is recommended.\n",
        "def T_b(n):\n",
        "  if n == 1:\n",
        "    return 1  # Base case (can be modified depending on the problem)\n",
        "  else:\n",
        "    return 2 * T_b(n // 2) + n\n",
        "T_b(5)"
      ],
      "metadata": {
        "colab": {
          "base_uri": "https://localhost:8080/"
        },
        "id": "Cv4IxJvFp1nf",
        "outputId": "cb5b9942-303f-45f8-9ded-79ada2f009ca"
      },
      "execution_count": 9,
      "outputs": [
        {
          "output_type": "execute_result",
          "data": {
            "text/plain": [
              "13"
            ]
          },
          "metadata": {},
          "execution_count": 9
        }
      ]
    },
    {
      "cell_type": "code",
      "source": [],
      "metadata": {
        "id": "z2osCDDdqNRq"
      },
      "execution_count": null,
      "outputs": []
    }
  ]
}