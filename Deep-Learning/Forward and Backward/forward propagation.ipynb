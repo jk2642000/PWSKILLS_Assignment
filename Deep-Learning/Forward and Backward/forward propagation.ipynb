{
 "cells": [
  {
   "cell_type": "code",
   "execution_count": 2,
   "metadata": {},
   "outputs": [
    {
     "name": "stdout",
     "output_type": "stream",
     "text": [
      "Predicted Output: [[0.6125972]]\n"
     ]
    }
   ],
   "source": [
    "import numpy as np\n",
    "\n",
    "# Activation functions\n",
    "def sigmoid(x):\n",
    "    return 1 / (1 + np.exp(-x))\n",
    "\n",
    "def relu(x):\n",
    "    return np.maximum(0, x)\n",
    "\n",
    "# Initialize network parameters\n",
    "np.random.seed(42)\n",
    "input_size = 3   # Number of input features\n",
    "hidden_size = 4  # Number of neurons in the hidden layer\n",
    "output_size = 1  # Number of output neurons\n",
    "\n",
    "# Random weight initialization\n",
    "W1 = np.random.randn(hidden_size, input_size)\n",
    "b1 = np.random.randn(hidden_size, 1)\n",
    "W2 = np.random.randn(output_size, hidden_size)\n",
    "b2 = np.random.randn(output_size, 1)\n",
    "\n",
    "# Forward propagation function\n",
    "def forward_propagation(X):\n",
    "    \"\"\"\n",
    "    Performs forward propagation for a simple neural network.\n",
    "    \n",
    "    X: Input features (shape: input_size x batch_size)\n",
    "    \n",
    "    Returns:\n",
    "    - Output of the network (Y_hat)\n",
    "    - Intermediate values needed for backpropagation\n",
    "    \"\"\"\n",
    "    # Hidden layer computation\n",
    "    Z1 = np.dot(W1, X) + b1\n",
    "    A1 = relu(Z1)\n",
    "\n",
    "    # Output layer computation\n",
    "    Z2 = np.dot(W2, A1) + b2\n",
    "    A2 = sigmoid(Z2)  # Output activation (for binary classification)\n",
    "\n",
    "    return A2, (Z1, A1, Z2, A2)\n",
    "\n",
    "# Example input (3 features, 1 sample)\n",
    "X_sample = np.array([[0.5], [0.1], [0.8]])\n",
    "\n",
    "# Perform forward propagation\n",
    "output, cache = forward_propagation(X_sample)\n",
    "\n",
    "print(\"Predicted Output:\", output)\n"
   ]
  }
 ],
 "metadata": {
  "kernelspec": {
   "display_name": "Python 3",
   "language": "python",
   "name": "python3"
  },
  "language_info": {
   "codemirror_mode": {
    "name": "ipython",
    "version": 3
   },
   "file_extension": ".py",
   "mimetype": "text/x-python",
   "name": "python",
   "nbconvert_exporter": "python",
   "pygments_lexer": "ipython3",
   "version": "3.11.9"
  }
 },
 "nbformat": 4,
 "nbformat_minor": 2
}
