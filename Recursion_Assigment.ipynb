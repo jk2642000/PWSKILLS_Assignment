{
  "nbformat": 4,
  "nbformat_minor": 0,
  "metadata": {
    "colab": {
      "provenance": []
    },
    "kernelspec": {
      "name": "python3",
      "display_name": "Python 3"
    },
    "language_info": {
      "name": "python"
    }
  },
  "cells": [
    {
      "cell_type": "markdown",
      "source": [
        "\n",
        "1. **Base Case**: If there's only one disk to move, the base case is reached. In this case, we simply move the disk from the source rod to the target rod.\n",
        "\n",
        "2. **Recursive Case**: If there are more than one disk, we use recursion to solve the subproblem. Here's how it works:\n",
        "   - Move n-1 disks from the source rod to the auxiliary rod. This is done by calling the function recursively with the auxiliary rod as the target.\n",
        "   - Move the nth disk from the source rod to the target rod.\n",
        "   - Move the n-1 disks from the auxiliary rod to the target rod. This is again done by calling the function recursively, but with the target rod as the auxiliary rod.\n",
        "\n",
        "Recursion allows us to break down the problem into smaller subproblems until we reach the base case, and then combine the solutions of the subproblems to solve the original problem."
      ],
      "metadata": {
        "id": "69Ct5tA5r3rT"
      }
    },
    {
      "cell_type": "code",
      "execution_count": 1,
      "metadata": {
        "colab": {
          "base_uri": "https://localhost:8080/"
        },
        "id": "JkEYnRMlrkrI",
        "outputId": "e6d1dd8e-5bfe-411d-f4cb-498866e1c4b4"
      },
      "outputs": [
        {
          "output_type": "stream",
          "name": "stdout",
          "text": [
            "Move disk 1 from rod A to rod C\n",
            "Move disk 2 from rod A to rod B\n",
            "Move disk 1 from rod C to rod B\n",
            "Move disk 3 from rod A to rod C\n",
            "Move disk 1 from rod B to rod A\n",
            "Move disk 2 from rod B to rod C\n",
            "Move disk 1 from rod A to rod C\n"
          ]
        }
      ],
      "source": [
        "def tower_of_hanoi(n, source, target, auxiliary):\n",
        "    if n == 1:\n",
        "        print(\"Move disk 1 from rod\", source, \"to rod\", target)\n",
        "        return\n",
        "    tower_of_hanoi(n-1, source, auxiliary, target)\n",
        "    print(\"Move disk\", n, \"from rod\", source, \"to rod\", target)\n",
        "    tower_of_hanoi(n-1, auxiliary, target, source)\n",
        "\n",
        "# Example usage\n",
        "n = 3  # Number of disks\n",
        "tower_of_hanoi(n, 'A', 'C', 'B')\n"
      ]
    },
    {
      "cell_type": "markdown",
      "source": [
        "Q.2 Given two strings word1 and word2, return the minimum number of operations required to convert word1\n",
        "to word2.\n",
        "Example 1:\n",
        "Input: word1 = \"horse\", word2 = \"ros\"\n",
        "Output: 3\n",
        "Explanation:\n",
        "horse -> rorse (replace 'h' with 'r')\n",
        "rorse -> rose (remove 'r')\n",
        "rose -> ros (remove 'e')\n",
        "Example 2:\n",
        "Input: word1 = \"intention\", word2 = \"execution\"\n",
        "Output: 5\n",
        "Explanation:\n",
        "intention -> inention (remove 't')\n",
        "inention -> enention (replace 'i' with 'e')\n",
        "enention -> exention (replace 'n' with 'x')\n",
        "exention -> exection (replace 'n' with 'c')\n",
        "exection -> execution (insert 'u')"
      ],
      "metadata": {
        "id": "IwTdxSOosNgZ"
      }
    },
    {
      "cell_type": "markdown",
      "source": [
        "This problem can be solved using dynamic programming, specifically the Wagner–Fischer algorithm for computing the Levenshtein distance, which is the minimum number of single-character edits (insertions, deletions, or substitutions) required to change one word into another.\n",
        "\n",
        "We create a 2D DP table where dp[i][j] represents the minimum number of operations required to convert the first i characters of word1 to the first j characters of word2.\n",
        "We initialize the base cases:\n",
        "\n",
        "If one of the words is empty, the number of operations required is equal to the length of the other word.\n",
        "dp[i][0] = i and dp[0][j] = j\n",
        "\n",
        "We fill in the DP table by considering each character in word1 and word2:\n",
        "If the characters are the same, no operation is needed, so we take the value from the diagonal cell (dp[i-1][j-1]).\n",
        "If the characters are different, we take the minimum of three possible operations (replace, delete, or insert) and add 1.\n",
        "Finally, the value at dp[m][n] represents the minimum number of operations required to convert word1 to word2."
      ],
      "metadata": {
        "id": "IiXuXH9csj-O"
      }
    },
    {
      "cell_type": "code",
      "source": [
        "def min_distance(word1, word2):\n",
        "    m, n = len(word1), len(word2)\n",
        "    dp = [[0] * (n + 1) for _ in range(m + 1)]\n",
        "\n",
        "    # Base case: If one of the words is empty, the number of operations\n",
        "    # required is equal to the length of the other word.\n",
        "    for i in range(m + 1):\n",
        "        dp[i][0] = i\n",
        "    for j in range(n + 1):\n",
        "        dp[0][j] = j\n",
        "\n",
        "    # Fill in the DP table\n",
        "    for i in range(1, m + 1):\n",
        "        for j in range(1, n + 1):\n",
        "            if word1[i - 1] == word2[j - 1]:\n",
        "                dp[i][j] = dp[i - 1][j - 1]  # No operation needed\n",
        "            else:\n",
        "                dp[i][j] = min(dp[i - 1][j - 1],  # Replace\n",
        "                               dp[i - 1][j],      # Delete\n",
        "                               dp[i][j - 1]) + 1  # Insert\n",
        "\n",
        "    return dp[m][n]\n",
        "\n",
        "# Example usage:\n",
        "word1 = \"horse\"\n",
        "word2 = \"ros\"\n",
        "print(min_distance(word1, word2))  # Output: 3\n",
        "\n",
        "word1 = \"intention\"\n",
        "word2 = \"execution\"\n",
        "print(min_distance(word1, word2))  # Output: 5\n"
      ],
      "metadata": {
        "colab": {
          "base_uri": "https://localhost:8080/"
        },
        "id": "nXhTPjwor2uS",
        "outputId": "f0e2b409-e2ed-448f-f0eb-2858a3106851"
      },
      "execution_count": 2,
      "outputs": [
        {
          "output_type": "stream",
          "name": "stdout",
          "text": [
            "3\n",
            "5\n"
          ]
        }
      ]
    },
    {
      "cell_type": "markdown",
      "source": [
        "Q. 3 Print the max value of the array [ 13, 1, -3, 22, 5].\n",
        "\n",
        "Q.4 Find the sum of the values of the array [92, 23, 15, -20, 10].\n",
        "\n",
        "Q.5 Given a number n. Print if it is an armstrong number or not.An armstrong number is a number if the sum\n",
        "of every digit in that number raised to the power of total digits in that number is equal to the number.\n",
        "\n",
        "Example : 153 = 1^3 + 5^3 + 3^3 = 1 + 125 + 27 = 153 hence 153 is an armstrong number. (Easy)\n",
        "Input1 : 153\n",
        "Output1 : Yes\n",
        "Input 2 : 134\n",
        "Output2 : No"
      ],
      "metadata": {
        "id": "bLEnAr12suJQ"
      }
    },
    {
      "cell_type": "code",
      "source": [
        "# Q3\n",
        "array = [13, 1, -3, 22, 5]\n",
        "max_value = max(array)\n",
        "print(\"The max value of the array is:\", max_value)\n"
      ],
      "metadata": {
        "colab": {
          "base_uri": "https://localhost:8080/"
        },
        "id": "K7ITKy9BrxEQ",
        "outputId": "4c1225ca-4eac-4331-9714-638e76516842"
      },
      "execution_count": 3,
      "outputs": [
        {
          "output_type": "stream",
          "name": "stdout",
          "text": [
            "The max value of the array is: 22\n"
          ]
        }
      ]
    },
    {
      "cell_type": "code",
      "source": [
        "# Q4\n",
        "array = [92, 23, 15, -20, 10]\n",
        "sum_values = sum(array)\n",
        "print(\"The sum of the values of the array is:\", sum_values)\n"
      ],
      "metadata": {
        "colab": {
          "base_uri": "https://localhost:8080/"
        },
        "id": "S3aQ_o6Is6NT",
        "outputId": "bbe74a35-9a6a-4f1f-d4ef-95113299c3b1"
      },
      "execution_count": 4,
      "outputs": [
        {
          "output_type": "stream",
          "name": "stdout",
          "text": [
            "The sum of the values of the array is: 120\n"
          ]
        }
      ]
    },
    {
      "cell_type": "code",
      "source": [
        "def is_armstrong_number(n):\n",
        "    num_str = str(n)\n",
        "    num_digits = len(num_str)\n",
        "    armstrong_sum = sum(int(digit) ** num_digits for digit in num_str)\n",
        "    return armstrong_sum == n\n",
        "\n",
        "# Example usage\n",
        "input_number = 153\n",
        "if is_armstrong_number(input_number):\n",
        "    print(\"Yes\")\n",
        "else:\n",
        "    print(\"No\")\n"
      ],
      "metadata": {
        "colab": {
          "base_uri": "https://localhost:8080/"
        },
        "id": "ApWU7xG-s9vi",
        "outputId": "1277fba6-1bed-4e5c-ae37-a243443313d4"
      },
      "execution_count": 7,
      "outputs": [
        {
          "output_type": "stream",
          "name": "stdout",
          "text": [
            "Yes\n"
          ]
        }
      ]
    },
    {
      "cell_type": "code",
      "source": [],
      "metadata": {
        "id": "SmAyBLBXtA03"
      },
      "execution_count": null,
      "outputs": []
    }
  ]
}